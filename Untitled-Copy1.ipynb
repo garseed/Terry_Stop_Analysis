{
 "cells": [
  {
   "cell_type": "markdown",
   "metadata": {},
   "source": [
    "# Terry Stop Analysis\n",
    "### In the 1968 Supreme Court case \"Terry v. Ohio\", the court found that a police officer was not in vilation of the \"unresonable search and seizure\" clause of the Fourth Amendment after he stopped and frisked suspects only because their behavior was suspicious. Thus the phrase \"Terry Stops\" are in reference to stops made of suspicious drivers. \n",
    "\n",
    "This is an analysis of over 48,000 Terry Stops, with a goal of predicting if an arrest will be made based off time of day, whether a suspect was frisked, and racial & gender demographics of both the suspects and officers. \n",
    "\n",
    "The overall goal of the analysis is to have the highest possible recall, to minimize false positives, of accidentally classifying subject who were not arrested as arrested. \n",
    "\n",
    "\n"
   ]
  },
  {
   "cell_type": "code",
   "execution_count": 117,
   "metadata": {},
   "outputs": [],
   "source": [
    "#import the necessary libraries. \n",
    "\n",
    "\n",
    "import pandas as pd\n",
    "import numpy as np\n",
    "import seaborn as sns\n",
    "import datetime\n",
    "import matplotlib.pyplot as plt\n",
    "%matplotlib inline\n",
    "from sklearn.pipeline import Pipeline\n",
    "from sklearn.preprocessing import OneHotEncoder, StandardScaler\n",
    "from sklearn.model_selection import train_test_split, GridSearchCV\n",
    "from sklearn.linear_model import LogisticRegression\n",
    "from sklearn.metrics import plot_confusion_matrix\n",
    "from sklearn.neighbors import KNeighborsClassifier\n",
    "from sklearn.metrics import precision_score, recall_score, accuracy_score, f1_score\n",
    "from xgboost import XGBClassifier\n",
    "from sklearn.tree import DecisionTreeClassifier"
   ]
  },
  {
   "cell_type": "markdown",
   "metadata": {},
   "source": [
    "# Step 1: Cleaning the Data"
   ]
  },
  {
   "cell_type": "code",
   "execution_count": 2,
   "metadata": {},
   "outputs": [
    {
     "data": {
      "text/html": [
       "<div>\n",
       "<style scoped>\n",
       "    .dataframe tbody tr th:only-of-type {\n",
       "        vertical-align: middle;\n",
       "    }\n",
       "\n",
       "    .dataframe tbody tr th {\n",
       "        vertical-align: top;\n",
       "    }\n",
       "\n",
       "    .dataframe thead th {\n",
       "        text-align: right;\n",
       "    }\n",
       "</style>\n",
       "<table border=\"1\" class=\"dataframe\">\n",
       "  <thead>\n",
       "    <tr style=\"text-align: right;\">\n",
       "      <th></th>\n",
       "      <th>Subject Age Group</th>\n",
       "      <th>Subject ID</th>\n",
       "      <th>GO / SC Num</th>\n",
       "      <th>Terry Stop ID</th>\n",
       "      <th>Stop Resolution</th>\n",
       "      <th>Weapon Type</th>\n",
       "      <th>Officer ID</th>\n",
       "      <th>Officer YOB</th>\n",
       "      <th>Officer Gender</th>\n",
       "      <th>Officer Race</th>\n",
       "      <th>Subject Perceived Race</th>\n",
       "      <th>Subject Perceived Gender</th>\n",
       "      <th>Reported Date</th>\n",
       "      <th>Reported Time</th>\n",
       "      <th>Initial Call Type</th>\n",
       "      <th>Final Call Type</th>\n",
       "      <th>Call Type</th>\n",
       "      <th>Officer Squad</th>\n",
       "      <th>Arrest Flag</th>\n",
       "      <th>Frisk Flag</th>\n",
       "      <th>Precinct</th>\n",
       "      <th>Sector</th>\n",
       "      <th>Beat</th>\n",
       "    </tr>\n",
       "  </thead>\n",
       "  <tbody>\n",
       "    <tr>\n",
       "      <th>0</th>\n",
       "      <td>-</td>\n",
       "      <td>-1</td>\n",
       "      <td>20140000120677</td>\n",
       "      <td>92317</td>\n",
       "      <td>Arrest</td>\n",
       "      <td>None</td>\n",
       "      <td>7500</td>\n",
       "      <td>1984</td>\n",
       "      <td>M</td>\n",
       "      <td>Black or African American</td>\n",
       "      <td>Asian</td>\n",
       "      <td>Male</td>\n",
       "      <td>2015-10-16T00:00:00</td>\n",
       "      <td>11:32:00</td>\n",
       "      <td>-</td>\n",
       "      <td>-</td>\n",
       "      <td>-</td>\n",
       "      <td>SOUTH PCT 1ST W - ROBERT</td>\n",
       "      <td>N</td>\n",
       "      <td>N</td>\n",
       "      <td>South</td>\n",
       "      <td>O</td>\n",
       "      <td>O2</td>\n",
       "    </tr>\n",
       "    <tr>\n",
       "      <th>1</th>\n",
       "      <td>-</td>\n",
       "      <td>-1</td>\n",
       "      <td>20150000001463</td>\n",
       "      <td>28806</td>\n",
       "      <td>Field Contact</td>\n",
       "      <td>None</td>\n",
       "      <td>5670</td>\n",
       "      <td>1965</td>\n",
       "      <td>M</td>\n",
       "      <td>White</td>\n",
       "      <td>-</td>\n",
       "      <td>-</td>\n",
       "      <td>2015-03-19T00:00:00</td>\n",
       "      <td>07:59:00</td>\n",
       "      <td>-</td>\n",
       "      <td>-</td>\n",
       "      <td>-</td>\n",
       "      <td>NaN</td>\n",
       "      <td>N</td>\n",
       "      <td>N</td>\n",
       "      <td>-</td>\n",
       "      <td>-</td>\n",
       "      <td>-</td>\n",
       "    </tr>\n",
       "    <tr>\n",
       "      <th>2</th>\n",
       "      <td>-</td>\n",
       "      <td>-1</td>\n",
       "      <td>20150000001516</td>\n",
       "      <td>29599</td>\n",
       "      <td>Field Contact</td>\n",
       "      <td>None</td>\n",
       "      <td>4844</td>\n",
       "      <td>1961</td>\n",
       "      <td>M</td>\n",
       "      <td>White</td>\n",
       "      <td>White</td>\n",
       "      <td>Male</td>\n",
       "      <td>2015-03-21T00:00:00</td>\n",
       "      <td>19:12:00</td>\n",
       "      <td>-</td>\n",
       "      <td>-</td>\n",
       "      <td>-</td>\n",
       "      <td>NaN</td>\n",
       "      <td>N</td>\n",
       "      <td>-</td>\n",
       "      <td>-</td>\n",
       "      <td>-</td>\n",
       "      <td>-</td>\n",
       "    </tr>\n",
       "    <tr>\n",
       "      <th>3</th>\n",
       "      <td>-</td>\n",
       "      <td>-1</td>\n",
       "      <td>20150000001670</td>\n",
       "      <td>32260</td>\n",
       "      <td>Field Contact</td>\n",
       "      <td>None</td>\n",
       "      <td>7539</td>\n",
       "      <td>1963</td>\n",
       "      <td>M</td>\n",
       "      <td>White</td>\n",
       "      <td>-</td>\n",
       "      <td>-</td>\n",
       "      <td>2015-04-01T00:00:00</td>\n",
       "      <td>04:55:00</td>\n",
       "      <td>-</td>\n",
       "      <td>-</td>\n",
       "      <td>-</td>\n",
       "      <td>NaN</td>\n",
       "      <td>N</td>\n",
       "      <td>N</td>\n",
       "      <td>-</td>\n",
       "      <td>-</td>\n",
       "      <td>-</td>\n",
       "    </tr>\n",
       "    <tr>\n",
       "      <th>4</th>\n",
       "      <td>-</td>\n",
       "      <td>-1</td>\n",
       "      <td>20150000001739</td>\n",
       "      <td>33155</td>\n",
       "      <td>Field Contact</td>\n",
       "      <td>None</td>\n",
       "      <td>6973</td>\n",
       "      <td>1977</td>\n",
       "      <td>M</td>\n",
       "      <td>White</td>\n",
       "      <td>Black or African American</td>\n",
       "      <td>Male</td>\n",
       "      <td>2015-04-03T00:00:00</td>\n",
       "      <td>00:41:00</td>\n",
       "      <td>-</td>\n",
       "      <td>-</td>\n",
       "      <td>-</td>\n",
       "      <td>NaN</td>\n",
       "      <td>N</td>\n",
       "      <td>N</td>\n",
       "      <td>-</td>\n",
       "      <td>-</td>\n",
       "      <td>-</td>\n",
       "    </tr>\n",
       "  </tbody>\n",
       "</table>\n",
       "</div>"
      ],
      "text/plain": [
       "  Subject Age Group  Subject ID     GO / SC Num  Terry Stop ID  \\\n",
       "0                 -          -1  20140000120677          92317   \n",
       "1                 -          -1  20150000001463          28806   \n",
       "2                 -          -1  20150000001516          29599   \n",
       "3                 -          -1  20150000001670          32260   \n",
       "4                 -          -1  20150000001739          33155   \n",
       "\n",
       "  Stop Resolution Weapon Type Officer ID  Officer YOB Officer Gender  \\\n",
       "0          Arrest        None     7500           1984              M   \n",
       "1   Field Contact        None     5670           1965              M   \n",
       "2   Field Contact        None     4844           1961              M   \n",
       "3   Field Contact        None     7539           1963              M   \n",
       "4   Field Contact        None     6973           1977              M   \n",
       "\n",
       "                Officer Race     Subject Perceived Race  \\\n",
       "0  Black or African American                      Asian   \n",
       "1                      White                          -   \n",
       "2                      White                      White   \n",
       "3                      White                          -   \n",
       "4                      White  Black or African American   \n",
       "\n",
       "  Subject Perceived Gender        Reported Date Reported Time  \\\n",
       "0                     Male  2015-10-16T00:00:00      11:32:00   \n",
       "1                        -  2015-03-19T00:00:00      07:59:00   \n",
       "2                     Male  2015-03-21T00:00:00      19:12:00   \n",
       "3                        -  2015-04-01T00:00:00      04:55:00   \n",
       "4                     Male  2015-04-03T00:00:00      00:41:00   \n",
       "\n",
       "  Initial Call Type Final Call Type Call Type             Officer Squad  \\\n",
       "0                 -               -         -  SOUTH PCT 1ST W - ROBERT   \n",
       "1                 -               -         -                       NaN   \n",
       "2                 -               -         -                       NaN   \n",
       "3                 -               -         -                       NaN   \n",
       "4                 -               -         -                       NaN   \n",
       "\n",
       "  Arrest Flag Frisk Flag Precinct  Sector    Beat  \n",
       "0           N          N    South  O       O2      \n",
       "1           N          N        -       -       -  \n",
       "2           N          -        -       -       -  \n",
       "3           N          N        -       -       -  \n",
       "4           N          N        -       -       -  "
      ]
     },
     "execution_count": 2,
     "metadata": {},
     "output_type": "execute_result"
    }
   ],
   "source": [
    "# Import and look at the rows of our dataset. \n",
    "\n",
    "pd.set_option('display.max_columns', None)\n",
    "df = pd.read_csv('Terry_Stops.csv')\n",
    "df.head()\n"
   ]
  },
  {
   "cell_type": "code",
   "execution_count": 3,
   "metadata": {
    "scrolled": true
   },
   "outputs": [
    {
     "data": {
      "text/html": [
       "<div>\n",
       "<style scoped>\n",
       "    .dataframe tbody tr th:only-of-type {\n",
       "        vertical-align: middle;\n",
       "    }\n",
       "\n",
       "    .dataframe tbody tr th {\n",
       "        vertical-align: top;\n",
       "    }\n",
       "\n",
       "    .dataframe thead th {\n",
       "        text-align: right;\n",
       "    }\n",
       "</style>\n",
       "<table border=\"1\" class=\"dataframe\">\n",
       "  <thead>\n",
       "    <tr style=\"text-align: right;\">\n",
       "      <th></th>\n",
       "      <th>Subject_Age_Group</th>\n",
       "      <th>Subject_ID</th>\n",
       "      <th>GO_SC_Num</th>\n",
       "      <th>Terry_Stop_ID</th>\n",
       "      <th>Stop_Resolution</th>\n",
       "      <th>Weapon_Type</th>\n",
       "      <th>Officer_ID</th>\n",
       "      <th>Officer_YOB</th>\n",
       "      <th>Officer_Gender</th>\n",
       "      <th>Officer_Race</th>\n",
       "      <th>Subject_Perceived_Race</th>\n",
       "      <th>Subject_Perceived_Gender</th>\n",
       "      <th>Reported_Date</th>\n",
       "      <th>Reported_Time</th>\n",
       "      <th>Initial_Call_Type</th>\n",
       "      <th>Final_Call_Type</th>\n",
       "      <th>Call_Type</th>\n",
       "      <th>Officer_Squad</th>\n",
       "      <th>Arrest_Flag</th>\n",
       "      <th>Frisk_Flag</th>\n",
       "      <th>Precinct</th>\n",
       "      <th>Sector</th>\n",
       "      <th>Beat</th>\n",
       "    </tr>\n",
       "  </thead>\n",
       "  <tbody>\n",
       "    <tr>\n",
       "      <th>0</th>\n",
       "      <td>-</td>\n",
       "      <td>-1</td>\n",
       "      <td>20140000120677</td>\n",
       "      <td>92317</td>\n",
       "      <td>Arrest</td>\n",
       "      <td>None</td>\n",
       "      <td>7500</td>\n",
       "      <td>1984</td>\n",
       "      <td>M</td>\n",
       "      <td>Black or African American</td>\n",
       "      <td>Asian</td>\n",
       "      <td>Male</td>\n",
       "      <td>2015-10-16T00:00:00</td>\n",
       "      <td>11:32:00</td>\n",
       "      <td>-</td>\n",
       "      <td>-</td>\n",
       "      <td>-</td>\n",
       "      <td>SOUTH PCT 1ST W - ROBERT</td>\n",
       "      <td>N</td>\n",
       "      <td>N</td>\n",
       "      <td>South</td>\n",
       "      <td>O</td>\n",
       "      <td>O2</td>\n",
       "    </tr>\n",
       "    <tr>\n",
       "      <th>1</th>\n",
       "      <td>-</td>\n",
       "      <td>-1</td>\n",
       "      <td>20150000001463</td>\n",
       "      <td>28806</td>\n",
       "      <td>Field Contact</td>\n",
       "      <td>None</td>\n",
       "      <td>5670</td>\n",
       "      <td>1965</td>\n",
       "      <td>M</td>\n",
       "      <td>White</td>\n",
       "      <td>-</td>\n",
       "      <td>-</td>\n",
       "      <td>2015-03-19T00:00:00</td>\n",
       "      <td>07:59:00</td>\n",
       "      <td>-</td>\n",
       "      <td>-</td>\n",
       "      <td>-</td>\n",
       "      <td>NaN</td>\n",
       "      <td>N</td>\n",
       "      <td>N</td>\n",
       "      <td>-</td>\n",
       "      <td>-</td>\n",
       "      <td>-</td>\n",
       "    </tr>\n",
       "    <tr>\n",
       "      <th>2</th>\n",
       "      <td>-</td>\n",
       "      <td>-1</td>\n",
       "      <td>20150000001516</td>\n",
       "      <td>29599</td>\n",
       "      <td>Field Contact</td>\n",
       "      <td>None</td>\n",
       "      <td>4844</td>\n",
       "      <td>1961</td>\n",
       "      <td>M</td>\n",
       "      <td>White</td>\n",
       "      <td>White</td>\n",
       "      <td>Male</td>\n",
       "      <td>2015-03-21T00:00:00</td>\n",
       "      <td>19:12:00</td>\n",
       "      <td>-</td>\n",
       "      <td>-</td>\n",
       "      <td>-</td>\n",
       "      <td>NaN</td>\n",
       "      <td>N</td>\n",
       "      <td>-</td>\n",
       "      <td>-</td>\n",
       "      <td>-</td>\n",
       "      <td>-</td>\n",
       "    </tr>\n",
       "    <tr>\n",
       "      <th>3</th>\n",
       "      <td>-</td>\n",
       "      <td>-1</td>\n",
       "      <td>20150000001670</td>\n",
       "      <td>32260</td>\n",
       "      <td>Field Contact</td>\n",
       "      <td>None</td>\n",
       "      <td>7539</td>\n",
       "      <td>1963</td>\n",
       "      <td>M</td>\n",
       "      <td>White</td>\n",
       "      <td>-</td>\n",
       "      <td>-</td>\n",
       "      <td>2015-04-01T00:00:00</td>\n",
       "      <td>04:55:00</td>\n",
       "      <td>-</td>\n",
       "      <td>-</td>\n",
       "      <td>-</td>\n",
       "      <td>NaN</td>\n",
       "      <td>N</td>\n",
       "      <td>N</td>\n",
       "      <td>-</td>\n",
       "      <td>-</td>\n",
       "      <td>-</td>\n",
       "    </tr>\n",
       "    <tr>\n",
       "      <th>4</th>\n",
       "      <td>-</td>\n",
       "      <td>-1</td>\n",
       "      <td>20150000001739</td>\n",
       "      <td>33155</td>\n",
       "      <td>Field Contact</td>\n",
       "      <td>None</td>\n",
       "      <td>6973</td>\n",
       "      <td>1977</td>\n",
       "      <td>M</td>\n",
       "      <td>White</td>\n",
       "      <td>Black or African American</td>\n",
       "      <td>Male</td>\n",
       "      <td>2015-04-03T00:00:00</td>\n",
       "      <td>00:41:00</td>\n",
       "      <td>-</td>\n",
       "      <td>-</td>\n",
       "      <td>-</td>\n",
       "      <td>NaN</td>\n",
       "      <td>N</td>\n",
       "      <td>N</td>\n",
       "      <td>-</td>\n",
       "      <td>-</td>\n",
       "      <td>-</td>\n",
       "    </tr>\n",
       "  </tbody>\n",
       "</table>\n",
       "</div>"
      ],
      "text/plain": [
       "  Subject_Age_Group  Subject_ID       GO_SC_Num  Terry_Stop_ID  \\\n",
       "0                 -          -1  20140000120677          92317   \n",
       "1                 -          -1  20150000001463          28806   \n",
       "2                 -          -1  20150000001516          29599   \n",
       "3                 -          -1  20150000001670          32260   \n",
       "4                 -          -1  20150000001739          33155   \n",
       "\n",
       "  Stop_Resolution Weapon_Type Officer_ID  Officer_YOB Officer_Gender  \\\n",
       "0          Arrest        None     7500           1984              M   \n",
       "1   Field Contact        None     5670           1965              M   \n",
       "2   Field Contact        None     4844           1961              M   \n",
       "3   Field Contact        None     7539           1963              M   \n",
       "4   Field Contact        None     6973           1977              M   \n",
       "\n",
       "                Officer_Race     Subject_Perceived_Race  \\\n",
       "0  Black or African American                      Asian   \n",
       "1                      White                          -   \n",
       "2                      White                      White   \n",
       "3                      White                          -   \n",
       "4                      White  Black or African American   \n",
       "\n",
       "  Subject_Perceived_Gender        Reported_Date Reported_Time  \\\n",
       "0                     Male  2015-10-16T00:00:00      11:32:00   \n",
       "1                        -  2015-03-19T00:00:00      07:59:00   \n",
       "2                     Male  2015-03-21T00:00:00      19:12:00   \n",
       "3                        -  2015-04-01T00:00:00      04:55:00   \n",
       "4                     Male  2015-04-03T00:00:00      00:41:00   \n",
       "\n",
       "  Initial_Call_Type Final_Call_Type Call_Type             Officer_Squad  \\\n",
       "0                 -               -         -  SOUTH PCT 1ST W - ROBERT   \n",
       "1                 -               -         -                       NaN   \n",
       "2                 -               -         -                       NaN   \n",
       "3                 -               -         -                       NaN   \n",
       "4                 -               -         -                       NaN   \n",
       "\n",
       "  Arrest_Flag Frisk_Flag Precinct  Sector    Beat  \n",
       "0           N          N    South  O       O2      \n",
       "1           N          N        -       -       -  \n",
       "2           N          -        -       -       -  \n",
       "3           N          N        -       -       -  \n",
       "4           N          N        -       -       -  "
      ]
     },
     "execution_count": 3,
     "metadata": {},
     "output_type": "execute_result"
    }
   ],
   "source": [
    "# For ease of analysis, let's add underscores to each column name\n",
    "renamed_columns = ['Subject_Age_Group','Subject_ID', 'GO_SC_Num', 'Terry_Stop_ID',\n",
    "                   'Stop_Resolution', 'Weapon_Type', 'Officer_ID', 'Officer_YOB',\n",
    "                  'Officer_Gender', 'Officer_Race', 'Subject_Perceived_Race',\n",
    "                  'Subject_Perceived_Gender', 'Reported_Date', 'Reported_Time',\n",
    "                   'Initial_Call_Type', 'Final_Call_Type', 'Call_Type', 'Officer_Squad',\n",
    "                  'Arrest_Flag', 'Frisk_Flag','Precinct', 'Sector', 'Beat']\n",
    "df.columns = renamed_columns\n",
    "df.head()"
   ]
  },
  {
   "cell_type": "code",
   "execution_count": 4,
   "metadata": {},
   "outputs": [],
   "source": [
    "# Looking at the initial data, 'Subject_ID, GO_SC_Num', 'Terry_Stop_ID', and 'Officer_ID' are purely \n",
    "# individual indentifiers so it's okay to drop those"
   ]
  },
  {
   "cell_type": "code",
   "execution_count": 5,
   "metadata": {},
   "outputs": [],
   "source": [
    "df = df.drop(['Subject_ID','GO_SC_Num', 'Terry_Stop_ID', 'Officer_ID'], axis=1)"
   ]
  },
  {
   "cell_type": "code",
   "execution_count": 6,
   "metadata": {
    "scrolled": true
   },
   "outputs": [
    {
     "data": {
      "text/plain": [
       "Subject_Age_Group             0\n",
       "Stop_Resolution               0\n",
       "Weapon_Type                   0\n",
       "Officer_YOB                   0\n",
       "Officer_Gender                0\n",
       "Officer_Race                  0\n",
       "Subject_Perceived_Race        0\n",
       "Subject_Perceived_Gender      0\n",
       "Reported_Date                 0\n",
       "Reported_Time                 0\n",
       "Initial_Call_Type             0\n",
       "Final_Call_Type               0\n",
       "Call_Type                     0\n",
       "Officer_Squad               605\n",
       "Arrest_Flag                   0\n",
       "Frisk_Flag                    0\n",
       "Precinct                      0\n",
       "Sector                        0\n",
       "Beat                          0\n",
       "dtype: int64"
      ]
     },
     "execution_count": 6,
     "metadata": {},
     "output_type": "execute_result"
    }
   ],
   "source": [
    "# Take a look to see if there are any null values in the data \n",
    "\n",
    "df.isna().sum()"
   ]
  },
  {
   "cell_type": "code",
   "execution_count": 7,
   "metadata": {
    "scrolled": true
   },
   "outputs": [
    {
     "name": "stdout",
     "output_type": "stream",
     "text": [
      "<class 'pandas.core.frame.DataFrame'>\n",
      "RangeIndex: 48094 entries, 0 to 48093\n",
      "Data columns (total 19 columns):\n",
      "Subject_Age_Group           48094 non-null object\n",
      "Stop_Resolution             48094 non-null object\n",
      "Weapon_Type                 48094 non-null object\n",
      "Officer_YOB                 48094 non-null int64\n",
      "Officer_Gender              48094 non-null object\n",
      "Officer_Race                48094 non-null object\n",
      "Subject_Perceived_Race      48094 non-null object\n",
      "Subject_Perceived_Gender    48094 non-null object\n",
      "Reported_Date               48094 non-null object\n",
      "Reported_Time               48094 non-null object\n",
      "Initial_Call_Type           48094 non-null object\n",
      "Final_Call_Type             48094 non-null object\n",
      "Call_Type                   48094 non-null object\n",
      "Officer_Squad               47489 non-null object\n",
      "Arrest_Flag                 48094 non-null object\n",
      "Frisk_Flag                  48094 non-null object\n",
      "Precinct                    48094 non-null object\n",
      "Sector                      48094 non-null object\n",
      "Beat                        48094 non-null object\n",
      "dtypes: int64(1), object(18)\n",
      "memory usage: 7.0+ MB\n"
     ]
    }
   ],
   "source": [
    "# Interesting, because upon initial analysis, there are empty entries \n",
    "# in 'Subject Age Group', all of the 'Call Type' columns\n",
    "\n",
    "df.info()"
   ]
  },
  {
   "cell_type": "code",
   "execution_count": 8,
   "metadata": {},
   "outputs": [],
   "source": [
    "# investigate the columns that are mostly '-' to see if there is data \n",
    "# or if it's mostly null values"
   ]
  },
  {
   "cell_type": "code",
   "execution_count": 9,
   "metadata": {},
   "outputs": [
    {
     "name": "stdout",
     "output_type": "stream",
     "text": [
      "Subject Age Group: \n",
      " 26 - 35         16012\n",
      "36 - 45         10262\n",
      "18 - 25          9590\n",
      "46 - 55          6225\n",
      "56 and Above     2448\n",
      "1 - 17           1986\n",
      "-                1571\n",
      "Name: Subject_Age_Group, dtype: int64 \n",
      "\n",
      "Initial Call Type: \n",
      " -                                                 13207\n",
      "SUSPICIOUS STOP - OFFICER INITIATED ONVIEW         3221\n",
      "SUSPICIOUS PERSON, VEHICLE OR INCIDENT             3078\n",
      "DISTURBANCE, MISCELLANEOUS/OTHER                   2477\n",
      "ASLT - IP/JO - WITH OR W/O WPNS (NO SHOOTINGS)     2070\n",
      "                                                  ...  \n",
      "ORDER - ASSIST DV VIC W/SRVC OF COURT ORDER           1\n",
      "INJURED -  PERSON/INDUSTRIAL ACCIDENT                 1\n",
      "DEMONSTRATIONS                                        1\n",
      "-ASSIGNED DUTY - STAKEOUT                             1\n",
      "ALARM - ATM MACHINE, FREE STANDING                    1\n",
      "Name: Initial_Call_Type, Length: 168, dtype: int64 \n",
      "\n",
      "Final Call Type: \n",
      " -                                                   13207\n",
      "--SUSPICIOUS CIRCUM. - SUSPICIOUS PERSON             3873\n",
      "--PROWLER - TRESPASS                                 3381\n",
      "--DISTURBANCE - OTHER                                2775\n",
      "--ASSAULTS, OTHER                                    2344\n",
      "                                                    ...  \n",
      "TRAFFIC - BLOCKING ROADWAY                              1\n",
      "NOISE - DIST, GENERAL (CONST, RESID, BALL PLAY)         1\n",
      "--DEMO MGMNT (CONTROL TACTICS USED)                     1\n",
      "--CROWD MGMNT (STAND BY ONLY)                           1\n",
      "MVC - REPORT, NON INJ/NON BLKG OR AFTER FACT INJ        1\n",
      "Name: Final_Call_Type, Length: 211, dtype: int64 \n",
      "\n",
      "Call Type: \n",
      " 911                              21844\n",
      "-                                13207\n",
      "ONVIEW                            9280\n",
      "TELEPHONE OTHER, NOT 911          3399\n",
      "ALARM CALL (NOT POLICE ALARM)      355\n",
      "TEXT MESSAGE                         8\n",
      "SCHEDULED EVENT (RECURRING)          1\n",
      "Name: Call_Type, dtype: int64 \n",
      "\n"
     ]
    }
   ],
   "source": [
    "print('Subject Age Group:' , '\\n', df['Subject_Age_Group'].value_counts(),'\\n')\n",
    "print('Initial Call Type:', '\\n', df['Initial_Call_Type'].value_counts(),'\\n')\n",
    "print('Final Call Type:', '\\n',  df['Final_Call_Type'].value_counts(), '\\n')\n",
    "print('Call Type:', \"\\n\", df['Call_Type'].value_counts(),'\\n')"
   ]
  },
  {
   "cell_type": "code",
   "execution_count": 10,
   "metadata": {},
   "outputs": [],
   "source": [
    "# From this it seems like all \"Call Type\" is mostly unnecessary and can be dropped. Also 'Initial_Call_Type'\n",
    "# and 'Final_Call_Type' are missing over 13k columns so it's okay to drop those"
   ]
  },
  {
   "cell_type": "code",
   "execution_count": 11,
   "metadata": {},
   "outputs": [],
   "source": [
    "df = df.drop(['Call_Type','Initial_Call_Type', 'Final_Call_Type'], axis=1)"
   ]
  },
  {
   "cell_type": "code",
   "execution_count": 12,
   "metadata": {},
   "outputs": [
    {
     "data": {
      "text/plain": [
       "26 - 35         16012\n",
       "36 - 45         10262\n",
       "18 - 25          9590\n",
       "46 - 55          6225\n",
       "56 and Above     2448\n",
       "1 - 17           1986\n",
       "-                1571\n",
       "Name: Subject_Age_Group, dtype: int64"
      ]
     },
     "execution_count": 12,
     "metadata": {},
     "output_type": "execute_result"
    }
   ],
   "source": [
    "df['Subject_Age_Group'].value_counts()"
   ]
  },
  {
   "cell_type": "code",
   "execution_count": 13,
   "metadata": {},
   "outputs": [],
   "source": [
    "df = df = df[df.Subject_Age_Group != '-']"
   ]
  },
  {
   "cell_type": "code",
   "execution_count": 14,
   "metadata": {},
   "outputs": [
    {
     "data": {
      "text/plain": [
       "26 - 35         16012\n",
       "36 - 45         10262\n",
       "18 - 25          9590\n",
       "46 - 55          6225\n",
       "56 and Above     2448\n",
       "1 - 17           1986\n",
       "Name: Subject_Age_Group, dtype: int64"
      ]
     },
     "execution_count": 14,
     "metadata": {},
     "output_type": "execute_result"
    }
   ],
   "source": [
    "df['Subject_Age_Group'].value_counts()"
   ]
  },
  {
   "cell_type": "code",
   "execution_count": 15,
   "metadata": {},
   "outputs": [
    {
     "data": {
      "text/plain": [
       "1986    3261\n",
       "1987    2934\n",
       "1984    2691\n",
       "1991    2659\n",
       "1985    2440\n",
       "1992    2426\n",
       "1990    2274\n",
       "1988    2114\n",
       "1989    2010\n",
       "1982    1833\n",
       "1983    1681\n",
       "1979    1493\n",
       "1993    1482\n",
       "1981    1406\n",
       "1995    1232\n",
       "1971    1182\n",
       "1978    1137\n",
       "1977     994\n",
       "1976     993\n",
       "1994     905\n",
       "1973     904\n",
       "1980     809\n",
       "1967     701\n",
       "1996     687\n",
       "1968     590\n",
       "1970     559\n",
       "1969     539\n",
       "1974     533\n",
       "1975     521\n",
       "1997     451\n",
       "1962     449\n",
       "1964     431\n",
       "1972     413\n",
       "1965     412\n",
       "1963     236\n",
       "1958     215\n",
       "1961     206\n",
       "1966     178\n",
       "1959     167\n",
       "1960     128\n",
       "1954      44\n",
       "1957      43\n",
       "1998      36\n",
       "1953      33\n",
       "1900      31\n",
       "1955      21\n",
       "1956      17\n",
       "1948      10\n",
       "1949       5\n",
       "1952       4\n",
       "1946       2\n",
       "1951       1\n",
       "Name: Officer_YOB, dtype: int64"
      ]
     },
     "execution_count": 15,
     "metadata": {},
     "output_type": "execute_result"
    }
   ],
   "source": [
    "df['Officer_YOB'].value_counts()"
   ]
  },
  {
   "cell_type": "code",
   "execution_count": 16,
   "metadata": {},
   "outputs": [],
   "source": [
    "def officer_yob_decade(x):\n",
    "    if (x <= 1959):\n",
    "        return '1900-1960'\n",
    "    elif (x > 1959) and (x <= 1969):\n",
    "        return '1960s'\n",
    "    elif (x > 1969) and (x <= 1979):\n",
    "        return '1970s'\n",
    "    elif (x > 1979) and (x <= 1989):\n",
    "        return '1980s'\n",
    "    elif (x > 1989) and (x <= 1999):\n",
    "        return '1990s'\n",
    "    "
   ]
  },
  {
   "cell_type": "code",
   "execution_count": 17,
   "metadata": {},
   "outputs": [
    {
     "data": {
      "text/plain": [
       "1980s        21179\n",
       "1990s        12152\n",
       "1970s         8729\n",
       "1960s         3870\n",
       "1900-1960      593\n",
       "Name: Officer_Age_By_Decade, dtype: int64"
      ]
     },
     "execution_count": 17,
     "metadata": {},
     "output_type": "execute_result"
    }
   ],
   "source": [
    "df['Officer_Age_By_Decade'] = df['Officer_YOB'].apply(officer_yob_decade)\n",
    "df['Officer_Age_By_Decade'].value_counts()"
   ]
  },
  {
   "cell_type": "code",
   "execution_count": 18,
   "metadata": {},
   "outputs": [],
   "source": [
    "# Explore \"Arrest Flag\" and \"Stop Resolution\n",
    "#a s they both have arrest data that will serve\n",
    "# as the target variable for this exploration. "
   ]
  },
  {
   "cell_type": "code",
   "execution_count": 19,
   "metadata": {},
   "outputs": [
    {
     "data": {
      "text/plain": [
       "N    42843\n",
       "Y     3680\n",
       "Name: Arrest_Flag, dtype: int64"
      ]
     },
     "execution_count": 19,
     "metadata": {},
     "output_type": "execute_result"
    }
   ],
   "source": [
    "df['Arrest_Flag'].value_counts()"
   ]
  },
  {
   "cell_type": "code",
   "execution_count": 20,
   "metadata": {},
   "outputs": [
    {
     "data": {
      "text/plain": [
       "Field Contact               18637\n",
       "Offense Report              15287\n",
       "Arrest                      11706\n",
       "Referred for Prosecution      719\n",
       "Citation / Infraction         174\n",
       "Name: Stop_Resolution, dtype: int64"
      ]
     },
     "execution_count": 20,
     "metadata": {},
     "output_type": "execute_result"
    }
   ],
   "source": [
    "df['Stop_Resolution'].value_counts()"
   ]
  },
  {
   "cell_type": "code",
   "execution_count": 21,
   "metadata": {},
   "outputs": [],
   "source": [
    "# It seems there is a discrepency in Arrest data between 'Stop Resolution'\n",
    "# and \"Arrest_Flag\". I am making the executive decision to base this \n",
    "# exploration around \"Stop Resolution\" as it reads as more thorough\n",
    "# in it's reporting of resoltion rather than a simple 'Yes'/'No' in \n",
    "# 'Arrest Flag'."
   ]
  },
  {
   "cell_type": "code",
   "execution_count": 22,
   "metadata": {
    "scrolled": true
   },
   "outputs": [
    {
     "data": {
      "text/plain": [
       "No     34817\n",
       "Yes    11706\n",
       "Name: Stop_Resolution, dtype: int64"
      ]
     },
     "execution_count": 22,
     "metadata": {},
     "output_type": "execute_result"
    }
   ],
   "source": [
    "df['Stop_Resolution'] = df['Stop_Resolution'].apply(lambda x: 'Yes' if x == 'Arrest' else 'No')\n",
    "df['Stop_Resolution'].value_counts()"
   ]
  },
  {
   "cell_type": "code",
   "execution_count": 23,
   "metadata": {},
   "outputs": [
    {
     "name": "stdout",
     "output_type": "stream",
     "text": [
      "<class 'pandas.core.frame.DataFrame'>\n",
      "Int64Index: 46523 entries, 124 to 48093\n",
      "Data columns (total 16 columns):\n",
      "Subject_Age_Group           46523 non-null object\n",
      "Stop_Resolution             46523 non-null object\n",
      "Weapon_Type                 46523 non-null object\n",
      "Officer_YOB                 46523 non-null int64\n",
      "Officer_Gender              46523 non-null object\n",
      "Officer_Race                46523 non-null object\n",
      "Subject_Perceived_Race      46523 non-null object\n",
      "Subject_Perceived_Gender    46523 non-null object\n",
      "Reported_Date               46523 non-null object\n",
      "Reported_Time               46523 non-null object\n",
      "Officer_Squad               45936 non-null object\n",
      "Frisk_Flag                  46523 non-null object\n",
      "Precinct                    46523 non-null object\n",
      "Sector                      46523 non-null object\n",
      "Beat                        46523 non-null object\n",
      "Officer_Age_By_Decade       46523 non-null object\n",
      "dtypes: int64(1), object(15)\n",
      "memory usage: 6.0+ MB\n"
     ]
    }
   ],
   "source": [
    "df = df.drop('Arrest_Flag', axis=1)\n",
    "df.info()"
   ]
  },
  {
   "cell_type": "code",
   "execution_count": 24,
   "metadata": {},
   "outputs": [],
   "source": [
    "# Now explore factors like the races and genders of both the officers\n",
    "# and the people pulled over"
   ]
  },
  {
   "cell_type": "code",
   "execution_count": 25,
   "metadata": {},
   "outputs": [
    {
     "name": "stdout",
     "output_type": "stream",
     "text": [
      "Officer Gender: \n",
      " M    41154\n",
      "F     5344\n",
      "N       25\n",
      "Name: Officer_Gender, dtype: int64 \n",
      "\n",
      "Officer Race: \n",
      " White                            35173\n",
      "Hispanic or Latino                2679\n",
      "Two or More Races                 2669\n",
      "Asian                             1987\n",
      "Black or African American         1790\n",
      "Not Specified                     1447\n",
      "Nat Hawaiian/Oth Pac Islander      437\n",
      "American Indian/Alaska Native      310\n",
      "Unknown                             31\n",
      "Name: Officer_Race, dtype: int64 \n",
      "\n",
      "Subject Perceived Gender: \n",
      " Male                                                         36887\n",
      "Female                                                        9489\n",
      "Unable to Determine                                            108\n",
      "Unknown                                                         17\n",
      "-                                                               16\n",
      "Gender Diverse (gender non-conforming and/or transgender)        6\n",
      "Name: Subject_Perceived_Gender, dtype: int64 \n",
      "\n",
      "Subject Perceived Race: \n",
      " White                                        23078\n",
      "Black or African American                    13943\n",
      "Unknown                                       2466\n",
      "Hispanic                                      1659\n",
      "Asian                                         1540\n",
      "-                                             1471\n",
      "American Indian or Alaska Native              1352\n",
      "Multi-Racial                                   801\n",
      "Other                                          150\n",
      "Native Hawaiian or Other Pacific Islander       63\n",
      "Name: Subject_Perceived_Race, dtype: int64 \n",
      "\n"
     ]
    }
   ],
   "source": [
    "print('Officer Gender:' , '\\n', df['Officer_Gender'].value_counts(),'\\n')\n",
    "print('Officer Race:', '\\n', df['Officer_Race'].value_counts(),'\\n')\n",
    "print('Subject Perceived Gender:', '\\n',  df['Subject_Perceived_Gender'].value_counts(), '\\n')\n",
    "print('Subject Perceived Race:', \"\\n\", df['Subject_Perceived_Race'].value_counts(),'\\n')"
   ]
  },
  {
   "cell_type": "code",
   "execution_count": 26,
   "metadata": {},
   "outputs": [],
   "source": [
    "# There seem to be many different ways to say \"unknown\" in these columns\n",
    "# Let's combine the redundant values together"
   ]
  },
  {
   "cell_type": "code",
   "execution_count": 27,
   "metadata": {
    "scrolled": true
   },
   "outputs": [],
   "source": [
    "df['Officer_Race'] = df['Officer_Race'].apply(lambda x: \"Other\" if x in ['Not Specified', 'Unknown'] else x)\n",
    "df['Subject_Perceived_Gender'] = df['Subject_Perceived_Gender'].apply(lambda x: 'Unknown/GNC' if x in ['Unable to Determine', '-', 'Unknown', 'Gender Diverse (gender non-conforming and/or transgender)'] else x)\n",
    "df['Subject_Perceived_Race'] = df['Subject_Perceived_Race'].apply(lambda x: 'Unknown' if x in ['-', 'Other'] else x)"
   ]
  },
  {
   "cell_type": "code",
   "execution_count": 28,
   "metadata": {},
   "outputs": [
    {
     "name": "stdout",
     "output_type": "stream",
     "text": [
      "White                            35173\n",
      "Hispanic or Latino                2679\n",
      "Two or More Races                 2669\n",
      "Asian                             1987\n",
      "Black or African American         1790\n",
      "Other                             1478\n",
      "Nat Hawaiian/Oth Pac Islander      437\n",
      "American Indian/Alaska Native      310\n",
      "Name: Officer_Race, dtype: int64 \n",
      "\n",
      "Male           36887\n",
      "Female          9489\n",
      "Unknown/GNC      147\n",
      "Name: Subject_Perceived_Gender, dtype: int64 \n",
      "\n",
      "White                                        23078\n",
      "Black or African American                    13943\n",
      "Unknown                                       4087\n",
      "Hispanic                                      1659\n",
      "Asian                                         1540\n",
      "American Indian or Alaska Native              1352\n",
      "Multi-Racial                                   801\n",
      "Native Hawaiian or Other Pacific Islander       63\n",
      "Name: Subject_Perceived_Race, dtype: int64 \n",
      "\n"
     ]
    }
   ],
   "source": [
    "print(df['Officer_Race'].value_counts(), '\\n')\n",
    "print(df['Subject_Perceived_Gender'].value_counts(), '\\n')\n",
    "print(df['Subject_Perceived_Race'].value_counts(), '\\n')"
   ]
  },
  {
   "cell_type": "code",
   "execution_count": 29,
   "metadata": {},
   "outputs": [
    {
     "name": "stdout",
     "output_type": "stream",
     "text": [
      "<class 'pandas.core.frame.DataFrame'>\n",
      "Int64Index: 46523 entries, 124 to 48093\n",
      "Data columns (total 16 columns):\n",
      "Subject_Age_Group           46523 non-null object\n",
      "Stop_Resolution             46523 non-null object\n",
      "Weapon_Type                 46523 non-null object\n",
      "Officer_YOB                 46523 non-null int64\n",
      "Officer_Gender              46523 non-null object\n",
      "Officer_Race                46523 non-null object\n",
      "Subject_Perceived_Race      46523 non-null object\n",
      "Subject_Perceived_Gender    46523 non-null object\n",
      "Reported_Date               46523 non-null object\n",
      "Reported_Time               46523 non-null object\n",
      "Officer_Squad               45936 non-null object\n",
      "Frisk_Flag                  46523 non-null object\n",
      "Precinct                    46523 non-null object\n",
      "Sector                      46523 non-null object\n",
      "Beat                        46523 non-null object\n",
      "Officer_Age_By_Decade       46523 non-null object\n",
      "dtypes: int64(1), object(15)\n",
      "memory usage: 6.0+ MB\n"
     ]
    }
   ],
   "source": [
    "# Also let's clean up the gender columns of both the officer and the \n",
    "# subject. Entries outside of the gender binary are miniscule compared\n",
    "# to Male and Female. \n",
    "\n",
    "df.info()"
   ]
  },
  {
   "cell_type": "code",
   "execution_count": 30,
   "metadata": {},
   "outputs": [
    {
     "name": "stdout",
     "output_type": "stream",
     "text": [
      "<class 'pandas.core.frame.DataFrame'>\n",
      "Int64Index: 46351 entries, 124 to 48093\n",
      "Data columns (total 16 columns):\n",
      "Subject_Age_Group           46351 non-null object\n",
      "Stop_Resolution             46351 non-null object\n",
      "Weapon_Type                 46351 non-null object\n",
      "Officer_YOB                 46351 non-null int64\n",
      "Officer_Gender              46351 non-null object\n",
      "Officer_Race                46351 non-null object\n",
      "Subject_Perceived_Race      46351 non-null object\n",
      "Subject_Perceived_Gender    46351 non-null object\n",
      "Reported_Date               46351 non-null object\n",
      "Reported_Time               46351 non-null object\n",
      "Officer_Squad               45794 non-null object\n",
      "Frisk_Flag                  46351 non-null object\n",
      "Precinct                    46351 non-null object\n",
      "Sector                      46351 non-null object\n",
      "Beat                        46351 non-null object\n",
      "Officer_Age_By_Decade       46351 non-null object\n",
      "dtypes: int64(1), object(15)\n",
      "memory usage: 6.0+ MB\n"
     ]
    }
   ],
   "source": [
    "df = df[df.Officer_Gender != 'N']\n",
    "df = df[df.Subject_Perceived_Gender != 'Unknown/GNC']\n",
    "df.info()"
   ]
  },
  {
   "cell_type": "code",
   "execution_count": 31,
   "metadata": {},
   "outputs": [
    {
     "data": {
      "text/plain": [
       "None                                    31478\n",
       "-                                       12076\n",
       "Lethal Cutting Instrument                1452\n",
       "Knife/Cutting/Stabbing Instrument         671\n",
       "Handgun                                   285\n",
       "Firearm Other                              92\n",
       "Blunt Object/Striking Implement            89\n",
       "Club, Blackjack, Brass Knuckles            48\n",
       "Firearm                                    43\n",
       "Mace/Pepper Spray                          30\n",
       "Other Firearm                              22\n",
       "Firearm (unk type)                         15\n",
       "Taser/Stun Gun                             10\n",
       "Club                                        9\n",
       "None/Not Applicable                         9\n",
       "Fire/Incendiary Device                      7\n",
       "Rifle                                       6\n",
       "Shotgun                                     3\n",
       "Automatic Handgun                           2\n",
       "Personal Weapons (hands, feet, etc.)        2\n",
       "Blackjack                                   1\n",
       "Brass Knuckles                              1\n",
       "Name: Weapon_Type, dtype: int64"
      ]
     },
     "execution_count": 31,
     "metadata": {},
     "output_type": "execute_result"
    }
   ],
   "source": [
    "df['Weapon_Type'].value_counts()"
   ]
  },
  {
   "cell_type": "code",
   "execution_count": 32,
   "metadata": {},
   "outputs": [
    {
     "name": "stdout",
     "output_type": "stream",
     "text": [
      "<class 'pandas.core.frame.DataFrame'>\n",
      "Int64Index: 46351 entries, 124 to 48093\n",
      "Data columns (total 15 columns):\n",
      "Subject_Age_Group           46351 non-null object\n",
      "Stop_Resolution             46351 non-null object\n",
      "Officer_YOB                 46351 non-null int64\n",
      "Officer_Gender              46351 non-null object\n",
      "Officer_Race                46351 non-null object\n",
      "Subject_Perceived_Race      46351 non-null object\n",
      "Subject_Perceived_Gender    46351 non-null object\n",
      "Reported_Date               46351 non-null object\n",
      "Reported_Time               46351 non-null object\n",
      "Officer_Squad               45794 non-null object\n",
      "Frisk_Flag                  46351 non-null object\n",
      "Precinct                    46351 non-null object\n",
      "Sector                      46351 non-null object\n",
      "Beat                        46351 non-null object\n",
      "Officer_Age_By_Decade       46351 non-null object\n",
      "dtypes: int64(1), object(14)\n",
      "memory usage: 5.7+ MB\n"
     ]
    }
   ],
   "source": [
    "df = df.drop('Weapon_Type', axis=1)\n",
    "df.info()"
   ]
  },
  {
   "cell_type": "code",
   "execution_count": 33,
   "metadata": {},
   "outputs": [],
   "source": [
    "# Drop Weapon type, there are far more null values than there are weapons"
   ]
  },
  {
   "cell_type": "code",
   "execution_count": 34,
   "metadata": {},
   "outputs": [
    {
     "data": {
      "text/plain": [
       "03:09:00    50\n",
       "02:56:00    49\n",
       "19:01:00    48\n",
       "19:18:00    48\n",
       "03:13:00    48\n",
       "            ..\n",
       "09:56:07     1\n",
       "23:37:59     1\n",
       "13:11:16     1\n",
       "03:36:16     1\n",
       "19:30:38     1\n",
       "Name: Reported_Time, Length: 13183, dtype: int64"
      ]
     },
     "execution_count": 34,
     "metadata": {},
     "output_type": "execute_result"
    }
   ],
   "source": [
    "df['Reported_Time'].value_counts()"
   ]
  },
  {
   "cell_type": "code",
   "execution_count": 35,
   "metadata": {},
   "outputs": [],
   "source": [
    "# There are 13K different times, let's create a new column that is just \n",
    "# the hours of the stops. "
   ]
  },
  {
   "cell_type": "code",
   "execution_count": 36,
   "metadata": {},
   "outputs": [],
   "source": [
    "df['Reported_Time'] = pd.to_datetime(df['Reported_Time'])\n",
    "df['Reported_Hour'] = df['Reported_Time'].apply(lambda x: x.hour)\n"
   ]
  },
  {
   "cell_type": "code",
   "execution_count": 37,
   "metadata": {},
   "outputs": [
    {
     "data": {
      "text/plain": [
       "18    2830\n",
       "2     2678\n",
       "19    2545\n",
       "3     2473\n",
       "17    2472\n",
       "23    2318\n",
       "1     2318\n",
       "16    2220\n",
       "0     2111\n",
       "15    2111\n",
       "14    2040\n",
       "22    1977\n",
       "11    1908\n",
       "13    1825\n",
       "10    1808\n",
       "21    1671\n",
       "12    1557\n",
       "5     1490\n",
       "9     1442\n",
       "4     1429\n",
       "20    1411\n",
       "8     1282\n",
       "7     1247\n",
       "6     1188\n",
       "Name: Reported_Hour, dtype: int64"
      ]
     },
     "execution_count": 37,
     "metadata": {},
     "output_type": "execute_result"
    }
   ],
   "source": [
    "df['Reported_Hour'].value_counts()"
   ]
  },
  {
   "cell_type": "code",
   "execution_count": 38,
   "metadata": {},
   "outputs": [],
   "source": [
    "def time_of_day(x):\n",
    "    if (x > 4) and (x <= 11):\n",
    "        return 'Morning'\n",
    "    elif (x > 12) and (x <= 19):\n",
    "        return 'Afternoon'\n",
    "    else:\n",
    "        return \"Night\"\n",
    "        "
   ]
  },
  {
   "cell_type": "code",
   "execution_count": 39,
   "metadata": {},
   "outputs": [],
   "source": [
    "df['Time_of_Day'] = df['Reported_Hour'].apply(time_of_day)"
   ]
  },
  {
   "cell_type": "code",
   "execution_count": 40,
   "metadata": {},
   "outputs": [
    {
     "data": {
      "text/plain": [
       "Night        19943\n",
       "Afternoon    16043\n",
       "Morning      10365\n",
       "Name: Time_of_Day, dtype: int64"
      ]
     },
     "execution_count": 40,
     "metadata": {},
     "output_type": "execute_result"
    }
   ],
   "source": [
    "df['Time_of_Day'].value_counts()"
   ]
  },
  {
   "cell_type": "code",
   "execution_count": 41,
   "metadata": {},
   "outputs": [],
   "source": [
    "# Now that those are divided, let's divide them into AM and PM and \n",
    "# create a new column. 0 is AM, 1 is PM"
   ]
  },
  {
   "cell_type": "code",
   "execution_count": 42,
   "metadata": {},
   "outputs": [],
   "source": [
    "df['Reported_AM_or_PM'] = df['Reported_Hour'].apply(lambda x: 0 if x <12 else 1)\n",
    "df['Reported_AM_or_PM'] = df['Reported_AM_or_PM'].astype(int)\n"
   ]
  },
  {
   "cell_type": "code",
   "execution_count": 43,
   "metadata": {},
   "outputs": [
    {
     "data": {
      "text/plain": [
       "1    24977\n",
       "0    21374\n",
       "Name: Reported_AM_or_PM, dtype: int64"
      ]
     },
     "execution_count": 43,
     "metadata": {},
     "output_type": "execute_result"
    }
   ],
   "source": [
    "df['Reported_AM_or_PM'].value_counts()"
   ]
  },
  {
   "cell_type": "code",
   "execution_count": 44,
   "metadata": {},
   "outputs": [],
   "source": [
    "df = df.drop(['Reported_Time'], axis=1)"
   ]
  },
  {
   "cell_type": "code",
   "execution_count": null,
   "metadata": {},
   "outputs": [],
   "source": []
  },
  {
   "cell_type": "code",
   "execution_count": 45,
   "metadata": {},
   "outputs": [
    {
     "data": {
      "text/plain": [
       "N    35460\n",
       "Y    10498\n",
       "-      393\n",
       "Name: Frisk_Flag, dtype: int64"
      ]
     },
     "execution_count": 45,
     "metadata": {},
     "output_type": "execute_result"
    }
   ],
   "source": [
    "df['Frisk_Flag'].value_counts()"
   ]
  },
  {
   "cell_type": "code",
   "execution_count": 46,
   "metadata": {},
   "outputs": [],
   "source": [
    "df = df[df.Frisk_Flag != '-']\n",
    "df['Frisk_Flag'] = df['Frisk_Flag'].apply(lambda x: \"0\" if x =='N' else '1')\n"
   ]
  },
  {
   "cell_type": "code",
   "execution_count": 47,
   "metadata": {
    "scrolled": true
   },
   "outputs": [
    {
     "data": {
      "text/plain": [
       "0    35460\n",
       "1    10498\n",
       "Name: Frisk_Flag, dtype: int64"
      ]
     },
     "execution_count": 47,
     "metadata": {},
     "output_type": "execute_result"
    }
   ],
   "source": [
    "df['Frisk_Flag'].value_counts()"
   ]
  },
  {
   "cell_type": "code",
   "execution_count": 48,
   "metadata": {},
   "outputs": [],
   "source": [
    "# Let's explore dates"
   ]
  },
  {
   "cell_type": "code",
   "execution_count": 49,
   "metadata": {},
   "outputs": [
    {
     "data": {
      "text/plain": [
       "2015-10-01T00:00:00    87\n",
       "2015-09-29T00:00:00    64\n",
       "2015-05-28T00:00:00    54\n",
       "2015-08-04T00:00:00    53\n",
       "2019-04-26T00:00:00    52\n",
       "                       ..\n",
       "2015-03-28T00:00:00     1\n",
       "2015-05-13T00:00:00     1\n",
       "2015-03-24T00:00:00     1\n",
       "2015-04-14T00:00:00     1\n",
       "2015-05-06T00:00:00     1\n",
       "Name: Reported_Date, Length: 2296, dtype: int64"
      ]
     },
     "execution_count": 49,
     "metadata": {},
     "output_type": "execute_result"
    }
   ],
   "source": [
    "df['Reported_Date'].value_counts()"
   ]
  },
  {
   "cell_type": "code",
   "execution_count": 50,
   "metadata": {},
   "outputs": [],
   "source": [
    "df['Reported_Date'] = pd.DatetimeIndex(df['Reported_Date']).month"
   ]
  },
  {
   "cell_type": "code",
   "execution_count": 51,
   "metadata": {},
   "outputs": [
    {
     "data": {
      "text/plain": [
       "5     4818\n",
       "6     4258\n",
       "7     4025\n",
       "4     3979\n",
       "8     3943\n",
       "10    3903\n",
       "1     3763\n",
       "3     3745\n",
       "9     3571\n",
       "11    3443\n",
       "2     3261\n",
       "12    3249\n",
       "Name: Reported_Date, dtype: int64"
      ]
     },
     "execution_count": 51,
     "metadata": {},
     "output_type": "execute_result"
    }
   ],
   "source": [
    "df['Reported_Date'].value_counts()"
   ]
  },
  {
   "cell_type": "code",
   "execution_count": 52,
   "metadata": {},
   "outputs": [
    {
     "data": {
      "text/plain": [
       "West         11311\n",
       "North        10158\n",
       "-             9368\n",
       "East          6077\n",
       "South         5480\n",
       "Southwest     2213\n",
       "SouthWest     1124\n",
       "Unknown        172\n",
       "OOJ             34\n",
       "FK ERROR        21\n",
       "Name: Precinct, dtype: int64"
      ]
     },
     "execution_count": 52,
     "metadata": {},
     "output_type": "execute_result"
    }
   ],
   "source": [
    "df['Precinct'].value_counts()"
   ]
  },
  {
   "cell_type": "code",
   "execution_count": 53,
   "metadata": {},
   "outputs": [
    {
     "data": {
      "text/plain": [
       "West         11311\n",
       "North        10158\n",
       "East          6077\n",
       "South         5480\n",
       "SouthWest     3337\n",
       "Name: Precinct, dtype: int64"
      ]
     },
     "execution_count": 53,
     "metadata": {},
     "output_type": "execute_result"
    }
   ],
   "source": [
    "df = df[df.Precinct != '-']\n",
    "df = df[df.Precinct != 'Unknown']\n",
    "df = df[df.Precinct != 'OOJ']\n",
    "df = df[df.Precinct != 'FK ERROR']\n",
    "df['Precinct'] = df['Precinct'].apply(lambda x: 'SouthWest' if x in ['Southwest'] else x)\n",
    "df['Precinct'].value_counts()\n"
   ]
  },
  {
   "cell_type": "code",
   "execution_count": 54,
   "metadata": {},
   "outputs": [
    {
     "data": {
      "text/plain": [
       "N3        1129\n",
       "E2        1041\n",
       "K3         978\n",
       "M2         835\n",
       "M3         768\n",
       "          ... \n",
       "C2          90\n",
       "U3          85\n",
       "N1          76\n",
       "J2          72\n",
       "99           2\n",
       "Name: Beat, Length: 103, dtype: int64"
      ]
     },
     "execution_count": 54,
     "metadata": {},
     "output_type": "execute_result"
    }
   ],
   "source": [
    "df['Beat'].value_counts()"
   ]
  },
  {
   "cell_type": "code",
   "execution_count": 55,
   "metadata": {},
   "outputs": [
    {
     "data": {
      "text/plain": [
       "E         2230\n",
       "M         2195\n",
       "N         2105\n",
       "K         1741\n",
       "K         1700\n",
       "B         1611\n",
       "L         1558\n",
       "D         1468\n",
       "R         1374\n",
       "F         1327\n",
       "M         1285\n",
       "S         1284\n",
       "U         1247\n",
       "D         1161\n",
       "O         1090\n",
       "J         1088\n",
       "G         1047\n",
       "C          991\n",
       "E          944\n",
       "Q          936\n",
       "W          885\n",
       "Q          821\n",
       "N          719\n",
       "F          690\n",
       "R          633\n",
       "O          617\n",
       "B          534\n",
       "S          483\n",
       "G          466\n",
       "U          454\n",
       "L          448\n",
       "W          433\n",
       "C          398\n",
       "J          394\n",
       "-            6\n",
       "Name: Sector, dtype: int64"
      ]
     },
     "execution_count": 55,
     "metadata": {},
     "output_type": "execute_result"
    }
   ],
   "source": [
    "df['Sector'].value_counts()"
   ]
  },
  {
   "cell_type": "code",
   "execution_count": 56,
   "metadata": {},
   "outputs": [
    {
     "data": {
      "text/plain": [
       "TRAINING - FIELD TRAINING SQUAD                       4055\n",
       "WEST PCT 1ST W - DAVID/MARY                           1213\n",
       "WEST PCT 2ND W - D/M RELIEF                            816\n",
       "SOUTHWEST PCT 2ND W - FRANK                            741\n",
       "WEST PCT 1ST W - KING/QUEEN                            736\n",
       "                                                      ... \n",
       "CANINE - DAY SQUAD                                       1\n",
       "RECORDS - DAY SHIFT                                      1\n",
       "TRAF - MOTORCYCLE UNIT - T2 SQUAD                        1\n",
       "COMMUNITY OUTREACH - YOUTH VIOLENCE-SCHOOLS DETAIL       1\n",
       "BURG/THEFT/JUV - WEST                                    1\n",
       "Name: Officer_Squad, Length: 156, dtype: int64"
      ]
     },
     "execution_count": 56,
     "metadata": {},
     "output_type": "execute_result"
    }
   ],
   "source": [
    "df['Officer_Squad'].value_counts()"
   ]
  },
  {
   "cell_type": "code",
   "execution_count": 57,
   "metadata": {},
   "outputs": [],
   "source": [
    "# Dropping 'Officer Squad', 'Beat' and 'Sector' for reasons similar to Officer ID\""
   ]
  },
  {
   "cell_type": "code",
   "execution_count": 58,
   "metadata": {
    "scrolled": true
   },
   "outputs": [],
   "source": [
    "df = df.drop(['Beat', 'Sector', 'Officer_Squad'], axis=1)"
   ]
  },
  {
   "cell_type": "code",
   "execution_count": 59,
   "metadata": {},
   "outputs": [
    {
     "data": {
      "text/plain": [
       "Index(['Subject_Age_Group', 'Stop_Resolution', 'Officer_YOB', 'Officer_Gender',\n",
       "       'Officer_Race', 'Subject_Perceived_Race', 'Subject_Perceived_Gender',\n",
       "       'Reported_Date', 'Frisk_Flag', 'Precinct', 'Officer_Age_By_Decade',\n",
       "       'Reported_Hour', 'Time_of_Day', 'Reported_AM_or_PM'],\n",
       "      dtype='object')"
      ]
     },
     "execution_count": 59,
     "metadata": {},
     "output_type": "execute_result"
    }
   ],
   "source": [
    "df.columns"
   ]
  },
  {
   "cell_type": "markdown",
   "metadata": {},
   "source": [
    "# Step 2: Visualize the Data"
   ]
  },
  {
   "cell_type": "code",
   "execution_count": 60,
   "metadata": {},
   "outputs": [],
   "source": [
    "# Begin visualization of cleaned data, starting with a visualizaiton of \n",
    "# our target variable, Stop Resolution."
   ]
  },
  {
   "cell_type": "code",
   "execution_count": 61,
   "metadata": {},
   "outputs": [
    {
     "name": "stdout",
     "output_type": "stream",
     "text": [
      "Target Variable: Stop Resolution\n",
      "Total Arrests:  11278\n",
      "Total of Non-arrests:  25085\n"
     ]
    },
    {
     "data": {
      "image/png": "[encoded data removed]",
      "text/plain": [
       "<Figure size 720x360 with 1 Axes>"
      ]
     },
     "metadata": {},
     "output_type": "display_data"
    }
   ],
   "source": [
    "arrests = df['Stop_Resolution']=='Yes' \n",
    "non_arrests = df['Stop_Resolution']=='No'\n",
    "y = df['Stop_Resolution']\n",
    "num_of_arrests = df[arrests].shape[0]\n",
    "num_of_nonarrests = df[non_arrests].shape[0]\n",
    "\n",
    "print('Target Variable: Stop Resolution')\n",
    "print('Total Arrests: ', num_of_arrests)\n",
    "print('Total of Non-arrests: ', num_of_nonarrests)\n",
    "\n",
    "sns.set_style('darkgrid');\n",
    "plt.figure(figsize = (10,5));\n",
    "sns.countplot(df['Stop_Resolution'], alpha = .80, palette= ['blue', 'red'])\n",
    "plt.title('Arrests & Non-Arrests');\n",
    "\n",
    "plt.ylabel('Number of people pulled over');\n",
    "plt.show()"
   ]
  },
  {
   "cell_type": "code",
   "execution_count": 62,
   "metadata": {},
   "outputs": [],
   "source": [
    "# Create bar charts to compare different columns against the arrrest data"
   ]
  },
  {
   "cell_type": "code",
   "execution_count": 63,
   "metadata": {},
   "outputs": [
    {
     "name": "stdout",
     "output_type": "stream",
     "text": [
      "Subject Age Group\n",
      "\n",
      "Stop_Resolution      No   Yes  % of Stops Ending In Arrest\n",
      "Subject_Age_Group                                         \n",
      "1 - 17             1204   420                    25.862069\n",
      "18 - 25            5155  2304                    30.888859\n",
      "26 - 35            8480  4132                    32.762448\n",
      "36 - 45            5511  2542                    31.565876\n",
      "46 - 55            3391  1357                    28.580455\n",
      "56 and Above       1344   523                    28.012855\n"
     ]
    },
    {
     "data": {
      "image/png": "[encoded data removed]",
      "text/plain": [
       "<Figure size 432x288 with 1 Axes>"
      ]
     },
     "metadata": {},
     "output_type": "display_data"
    }
   ],
   "source": [
    "subject_age_group = df.groupby(['Subject_Age_Group', 'Stop_Resolution']).Subject_Age_Group.count().unstack()\n",
    "subject_age_group['% of Stops Ending In Arrest'] = (subject_age_group['Yes'] / (subject_age_group.sum(axis=1)))*100 \n",
    "print('Subject Age Group\\n')\n",
    "print(subject_age_group)\n",
    "\n",
    "viz_1 = subject_age_group.plot(kind = 'bar', stacked = True,\n",
    "                           title = \"People Pulled Over By Age: Arrested v Not Arrested\",\n",
    "                           color = ['blue', 'red', 'white'], alpha = .70, rot=30)\n"
   ]
  },
  {
   "cell_type": "code",
   "execution_count": 64,
   "metadata": {},
   "outputs": [
    {
     "name": "stdout",
     "output_type": "stream",
     "text": [
      "Subject Perceived Race\n",
      "\n",
      "Stop_Resolution                               No   Yes  \\\n",
      "Subject_Perceived_Race                                   \n",
      "American Indian or Alaska Native             669   386   \n",
      "Asian                                        801   417   \n",
      "Black or African American                   7444  3795   \n",
      "Hispanic                                     811   379   \n",
      "Multi-Racial                                 404   155   \n",
      "Native Hawaiian or Other Pacific Islander     41    18   \n",
      "Unknown                                     2612   721   \n",
      "White                                      12303  5407   \n",
      "\n",
      "Stop_Resolution                            % of Stops Ending In Arrest  \n",
      "Subject_Perceived_Race                                                  \n",
      "American Indian or Alaska Native                             36.587678  \n",
      "Asian                                                        34.236453  \n",
      "Black or African American                                    33.766349  \n",
      "Hispanic                                                     31.848739  \n",
      "Multi-Racial                                                 27.728086  \n",
      "Native Hawaiian or Other Pacific Islander                    30.508475  \n",
      "Unknown                                                      21.632163  \n",
      "White                                                        30.530774  \n"
     ]
    },
    {
     "data": {
      "image/png": "[encoded data removed]",
      "text/plain": [
       "<Figure size 432x288 with 1 Axes>"
      ]
     },
     "metadata": {},
     "output_type": "display_data"
    }
   ],
   "source": [
    "subject_perceived_race = df.groupby(['Subject_Perceived_Race', 'Stop_Resolution']).Subject_Perceived_Race.count().unstack()\n",
    "subject_perceived_race['% of Stops Ending In Arrest'] = (subject_perceived_race['Yes'] / (subject_perceived_race.sum(axis=1)))*100 \n",
    "print('Subject Perceived Race\\n')\n",
    "print(subject_perceived_race)\n",
    "\n",
    "viz_2 = subject_perceived_race.plot(kind = 'bar', stacked = True,\n",
    "                                   title = 'People Pulled Over by Perceived Race:\\n Arrested v Not Arrested',\n",
    "                                   color = ['blue', 'red','white'], alpha = .80, rot=90)\n"
   ]
  },
  {
   "cell_type": "code",
   "execution_count": 65,
   "metadata": {},
   "outputs": [],
   "source": [
    "# It appears American Inidan/Native Alaskan have the highest percentage\n",
    "# of arrests made after a Terry stop with nearly 37%. While important to note\n",
    "# there were only 669 total stops of 36363 total in the data set. \n",
    "# The next highest was Asian with 34.2% , with Black, white, and Native Hawaiian\n",
    "# at around 30% each."
   ]
  },
  {
   "cell_type": "code",
   "execution_count": 66,
   "metadata": {},
   "outputs": [
    {
     "name": "stdout",
     "output_type": "stream",
     "text": [
      "Subject Perceived Gender\n",
      "\n",
      "Stop_Resolution              No   Yes  % of Stops Ending In Arrest\n",
      "Subject_Perceived_Gender                                          \n",
      "Female                     5356  2151                    28.653257\n",
      "Male                      19729  9127                    31.629470\n"
     ]
    },
    {
     "data": {
      "image/png": "[encoded data removed]",
      "text/plain": [
       "<Figure size 432x288 with 1 Axes>"
      ]
     },
     "metadata": {},
     "output_type": "display_data"
    }
   ],
   "source": [
    "subject_perceived_gender = df.groupby(['Subject_Perceived_Gender', 'Stop_Resolution']).Subject_Perceived_Gender.count().unstack()\n",
    "subject_perceived_gender['% of Stops Ending In Arrest'] = (subject_perceived_gender['Yes'] / (subject_perceived_gender.sum(axis=1)))*100 \n",
    "\n",
    "\n",
    "print('Subject Perceived Gender\\n')\n",
    "print(subject_perceived_gender)\n",
    "\n",
    "viz_3 = subject_perceived_gender.plot(kind = 'bar', stacked = True,\n",
    "                                   title = 'People Pulled Over by Perceived Gender:\\n Arrested v Not Arrested',\n",
    "                                   color = ['blue', 'red','white'], alpha = .80, rot = 30)\n"
   ]
  },
  {
   "cell_type": "code",
   "execution_count": 67,
   "metadata": {},
   "outputs": [],
   "source": [
    "# Male subjects were arrest 31% of the arrests while female subjects were \n",
    "# arrested 28.65%. While the male subjects were stopped nearly 4 times the rate\n",
    "# of female, their arrest percentage was surprisingly close"
   ]
  },
  {
   "cell_type": "code",
   "execution_count": 68,
   "metadata": {},
   "outputs": [
    {
     "name": "stdout",
     "output_type": "stream",
     "text": [
      "Officer Gender\n",
      "\n",
      "Stop_Resolution     No    Yes  % of Stops Ending In Arrest\n",
      "Officer_Gender                                            \n",
      "F                 2972   1177                    28.368282\n",
      "M                22113  10101                    31.355932\n"
     ]
    },
    {
     "data": {
      "image/png": "[encoded data removed]",
      "text/plain": [
       "<Figure size 432x288 with 1 Axes>"
      ]
     },
     "metadata": {},
     "output_type": "display_data"
    }
   ],
   "source": [
    "officer_gender = df.groupby(['Officer_Gender', 'Stop_Resolution']).Officer_Gender.count().unstack()\n",
    "officer_gender['% of Stops Ending In Arrest'] = (officer_gender['Yes'] / (officer_gender.sum(axis=1)))*100 \n",
    "\n",
    "print('Officer Gender\\n')\n",
    "print(officer_gender)\n",
    "\n",
    "viz_4 = officer_gender.plot(kind = 'bar', stacked = True,\n",
    "                                   title = 'Officers by Gender:\\n Arrested v Not Arrested',\n",
    "                                   color = ['blue', 'red','white'], alpha = .80, rot=0)\n"
   ]
  },
  {
   "cell_type": "code",
   "execution_count": 69,
   "metadata": {},
   "outputs": [],
   "source": [
    "# Male cops arrested individuals 31% of those pulled over, while male officers\n",
    "# arrested at a rate of 28%. "
   ]
  },
  {
   "cell_type": "code",
   "execution_count": 70,
   "metadata": {},
   "outputs": [
    {
     "name": "stdout",
     "output_type": "stream",
     "text": [
      "Officer Race\n",
      "\n",
      "Stop_Resolution                   No   Yes  % of Stops Ending In Arrest\n",
      "Officer_Race                                                           \n",
      "American Indian/Alaska Native    149    69                    31.651376\n",
      "Asian                           1203   446                    27.046695\n",
      "Black or African American       1023   323                    23.997028\n",
      "Hispanic or Latino              1407   653                    31.699029\n",
      "Nat Hawaiian/Oth Pac Islander    246    84                    25.454545\n",
      "Other                            767   341                    30.776173\n",
      "Two or More Races               1526   677                    30.730822\n",
      "White                          18764  8685                    31.640497\n"
     ]
    },
    {
     "data": {
      "image/png": "[encoded data removed]",
      "text/plain": [
       "<Figure size 432x288 with 1 Axes>"
      ]
     },
     "metadata": {},
     "output_type": "display_data"
    }
   ],
   "source": [
    "officer_race = df.groupby(['Officer_Race', 'Stop_Resolution']).Subject_Perceived_Race.count().unstack()\n",
    "officer_race['% of Stops Ending In Arrest'] = (officer_race['Yes'] / (officer_race.sum(axis=1)))*100 \n",
    "\n",
    "print('Officer Race\\n')\n",
    "print(officer_race)\n",
    "\n",
    "viz_5 = officer_race.plot(kind = 'bar', stacked = True,\n",
    "                                   title = 'Officers by Race:\\n Arrested v Not Arrested',\n",
    "                                   color = ['blue', 'red','white'], alpha = .80, rot=90)\n"
   ]
  },
  {
   "cell_type": "code",
   "execution_count": 71,
   "metadata": {},
   "outputs": [],
   "source": [
    "# While white officers make up nearly 3 times the cops of all other races\n",
    "# combined, they were actually in the middle of the pack in terms of \n",
    "# arrests made. Officers of two + races, Hispanic/Latino, and Asian officers\n",
    "# were arresting at around ~25%."
   ]
  },
  {
   "cell_type": "code",
   "execution_count": 72,
   "metadata": {
    "scrolled": true
   },
   "outputs": [
    {
     "name": "stdout",
     "output_type": "stream",
     "text": [
      "Reported AM or PM\n",
      "\n",
      "Stop_Resolution       No   Yes  % of Stops Ending In Arrest\n",
      "Reported_AM_or_PM                                          \n",
      "0                  11821  5286                    30.899632\n",
      "1                  13264  5992                    31.117574\n"
     ]
    },
    {
     "data": {
      "image/png": "[encoded data removed]",
      "text/plain": [
       "<Figure size 432x288 with 1 Axes>"
      ]
     },
     "metadata": {},
     "output_type": "display_data"
    }
   ],
   "source": [
    "am_or_pm = df.groupby(['Reported_AM_or_PM', 'Stop_Resolution']).Reported_AM_or_PM.count().unstack()\n",
    "am_or_pm['% of Stops Ending In Arrest'] = (am_or_pm['Yes'] / (am_or_pm.sum(axis=1)))*100 \n",
    "\n",
    "print('Reported AM or PM\\n')\n",
    "print(am_or_pm)\n",
    "\n",
    "viz_6 = am_or_pm.plot(kind = 'bar', stacked = True,\n",
    "                                   title = 'Time of Day (AM or PM):\\n Arrested v Not Arrested',\n",
    "                                   color = ['blue', 'red','white'], alpha = .80, rot=0)\n"
   ]
  },
  {
   "cell_type": "code",
   "execution_count": 73,
   "metadata": {},
   "outputs": [],
   "source": [
    "# There are more Terry stops in the PM hours than AM, however the percentages\n",
    "# are less than 0.3% apart. "
   ]
  },
  {
   "cell_type": "code",
   "execution_count": 74,
   "metadata": {},
   "outputs": [
    {
     "name": "stdout",
     "output_type": "stream",
     "text": [
      "Reported Hour\n",
      "\n",
      "Stop_Resolution    No  Yes  % of Stops Ending In Arrest\n",
      "Reported_Hour                                          \n",
      "0                1170  517                    30.646117\n",
      "1                1237  587                    32.182018\n",
      "2                1527  606                    28.410689\n",
      "3                1400  565                    28.753181\n",
      "4                 766  377                    32.983377\n",
      "5                 795  374                    31.993157\n",
      "6                 651  320                    32.955716\n",
      "7                 679  300                    30.643514\n",
      "8                 687  347                    33.558994\n",
      "9                 788  332                    29.642857\n",
      "10               1078  409                    27.505044\n",
      "11               1043  552                    34.608150\n",
      "12                776  441                    36.236647\n",
      "13                917  415                    31.156156\n",
      "14               1076  443                    29.163924\n",
      "15               1129  495                    30.480296\n",
      "16               1205  488                    28.824572\n",
      "17               1304  572                    30.490405\n",
      "18               1456  637                    30.434783\n",
      "19               1367  606                    30.714648\n",
      "20                725  448                    38.192668\n",
      "21                925  412                    30.815258\n",
      "22               1100  478                    30.291508\n",
      "23               1284  557                    30.255296\n"
     ]
    },
    {
     "data": {
      "image/png": "[encoded data removed]",
      "text/plain": [
       "<Figure size 432x288 with 1 Axes>"
      ]
     },
     "metadata": {},
     "output_type": "display_data"
    }
   ],
   "source": [
    "hour_of_day = df.groupby(['Reported_Hour', 'Stop_Resolution']).Reported_Hour.count().unstack()\n",
    "hour_of_day['% of Stops Ending In Arrest'] = (hour_of_day['Yes'] / (hour_of_day.sum(axis=1)))*100 \n",
    "\n",
    "print('Reported Hour\\n')\n",
    "print(hour_of_day)\n",
    "\n",
    "viz_7 = hour_of_day.plot(kind = 'bar', stacked = True,\n",
    "                                   title = 'Hour of Day:\\n Arrested v Not Arrested',\n",
    "                                   color = ['blue', 'red','white'], alpha = .80, rot=0)\n"
   ]
  },
  {
   "cell_type": "code",
   "execution_count": 75,
   "metadata": {},
   "outputs": [],
   "source": [
    "# Looking at the data, arrests ebb and flow depending on time of day, \n",
    "# with peaks at midnight to 3am and 4pm to 7pm. However the highest\n",
    "# percentage of arrests made at 11am and 12pm, over 1 percentage point\n",
    "#away from the next two closest hours at 9am and 8pm. "
   ]
  },
  {
   "cell_type": "markdown",
   "metadata": {},
   "source": [
    "# Step 3: Model the Data"
   ]
  },
  {
   "cell_type": "code",
   "execution_count": 76,
   "metadata": {},
   "outputs": [],
   "source": [
    "# Now that we've cleaned and visualized the data, now let's fit it into\n",
    "# model. First starting with converting the target variable to binary,\n",
    "# OneHotEncoding, then normalizing the data with StandardScalar\n"
   ]
  },
  {
   "cell_type": "code",
   "execution_count": 77,
   "metadata": {},
   "outputs": [
    {
     "data": {
      "text/plain": [
       "0    25085\n",
       "1    11278\n",
       "Name: Stop_Resolution, dtype: int64"
      ]
     },
     "execution_count": 77,
     "metadata": {},
     "output_type": "execute_result"
    }
   ],
   "source": [
    "df['Stop_Resolution'] = df['Stop_Resolution'].apply(lambda x: 0 if x=='No' else 1)\n",
    "\n",
    "df['Stop_Resolution'].value_counts()"
   ]
  },
  {
   "cell_type": "code",
   "execution_count": 78,
   "metadata": {
    "scrolled": true
   },
   "outputs": [],
   "source": [
    "one_hot_df = pd.get_dummies(df)\n",
    "\n",
    "y = one_hot_df['Stop_Resolution']\n",
    "one_hot_df.drop('Stop_Resolution', axis=1, inplace=True)\n",
    "\n",
    "X_train, X_test, y_train, y_test = train_test_split(one_hot_df, y, test_size=0.2, random_state=42)"
   ]
  },
  {
   "cell_type": "code",
   "execution_count": 79,
   "metadata": {},
   "outputs": [],
   "source": [
    "scaler = StandardScaler()\n",
    "\n",
    "scaled_data_train = scaler.fit_transform(X_train)\n",
    "scaled_data_test = scaler.transform(X_test)\n",
    "\n",
    "scaled_df_train = pd.DataFrame(scaled_data_train, columns=one_hot_df.columns)"
   ]
  },
  {
   "cell_type": "code",
   "execution_count": 80,
   "metadata": {},
   "outputs": [
    {
     "data": {
      "text/html": [
       "<div>\n",
       "<style scoped>\n",
       "    .dataframe tbody tr th:only-of-type {\n",
       "        vertical-align: middle;\n",
       "    }\n",
       "\n",
       "    .dataframe tbody tr th {\n",
       "        vertical-align: top;\n",
       "    }\n",
       "\n",
       "    .dataframe thead th {\n",
       "        text-align: right;\n",
       "    }\n",
       "</style>\n",
       "<table border=\"1\" class=\"dataframe\">\n",
       "  <thead>\n",
       "    <tr style=\"text-align: right;\">\n",
       "      <th></th>\n",
       "      <th>Officer_YOB</th>\n",
       "      <th>Reported_Date</th>\n",
       "      <th>Reported_Hour</th>\n",
       "      <th>Reported_AM_or_PM</th>\n",
       "      <th>Subject_Age_Group_1 - 17</th>\n",
       "      <th>Subject_Age_Group_18 - 25</th>\n",
       "      <th>Subject_Age_Group_26 - 35</th>\n",
       "      <th>Subject_Age_Group_36 - 45</th>\n",
       "      <th>Subject_Age_Group_46 - 55</th>\n",
       "      <th>Subject_Age_Group_56 and Above</th>\n",
       "      <th>Officer_Gender_F</th>\n",
       "      <th>Officer_Gender_M</th>\n",
       "      <th>Officer_Race_American Indian/Alaska Native</th>\n",
       "      <th>Officer_Race_Asian</th>\n",
       "      <th>Officer_Race_Black or African American</th>\n",
       "      <th>Officer_Race_Hispanic or Latino</th>\n",
       "      <th>Officer_Race_Nat Hawaiian/Oth Pac Islander</th>\n",
       "      <th>Officer_Race_Other</th>\n",
       "      <th>Officer_Race_Two or More Races</th>\n",
       "      <th>Officer_Race_White</th>\n",
       "      <th>Subject_Perceived_Race_American Indian or Alaska Native</th>\n",
       "      <th>Subject_Perceived_Race_Asian</th>\n",
       "      <th>Subject_Perceived_Race_Black or African American</th>\n",
       "      <th>Subject_Perceived_Race_Hispanic</th>\n",
       "      <th>Subject_Perceived_Race_Multi-Racial</th>\n",
       "      <th>Subject_Perceived_Race_Native Hawaiian or Other Pacific Islander</th>\n",
       "      <th>Subject_Perceived_Race_Unknown</th>\n",
       "      <th>Subject_Perceived_Race_White</th>\n",
       "      <th>Subject_Perceived_Gender_Female</th>\n",
       "      <th>Subject_Perceived_Gender_Male</th>\n",
       "      <th>Frisk_Flag_0</th>\n",
       "      <th>Frisk_Flag_1</th>\n",
       "      <th>Precinct_East</th>\n",
       "      <th>Precinct_North</th>\n",
       "      <th>Precinct_South</th>\n",
       "      <th>Precinct_SouthWest</th>\n",
       "      <th>Precinct_West</th>\n",
       "      <th>Officer_Age_By_Decade_1900-1960</th>\n",
       "      <th>Officer_Age_By_Decade_1960s</th>\n",
       "      <th>Officer_Age_By_Decade_1970s</th>\n",
       "      <th>Officer_Age_By_Decade_1980s</th>\n",
       "      <th>Officer_Age_By_Decade_1990s</th>\n",
       "      <th>Time_of_Day_Afternoon</th>\n",
       "      <th>Time_of_Day_Morning</th>\n",
       "      <th>Time_of_Day_Night</th>\n",
       "    </tr>\n",
       "  </thead>\n",
       "  <tbody>\n",
       "    <tr>\n",
       "      <th>0</th>\n",
       "      <td>0.386363</td>\n",
       "      <td>-0.726015</td>\n",
       "      <td>-1.070069</td>\n",
       "      <td>-1.060617</td>\n",
       "      <td>-0.216547</td>\n",
       "      <td>-0.505151</td>\n",
       "      <td>1.369852</td>\n",
       "      <td>-0.533967</td>\n",
       "      <td>-0.386808</td>\n",
       "      <td>-0.234803</td>\n",
       "      <td>-0.360029</td>\n",
       "      <td>0.360029</td>\n",
       "      <td>-0.079346</td>\n",
       "      <td>-0.218885</td>\n",
       "      <td>-0.192937</td>\n",
       "      <td>4.072796</td>\n",
       "      <td>-0.095333</td>\n",
       "      <td>-0.177137</td>\n",
       "      <td>-0.251844</td>\n",
       "      <td>-1.761194</td>\n",
       "      <td>-0.174121</td>\n",
       "      <td>-0.186815</td>\n",
       "      <td>1.490464</td>\n",
       "      <td>-0.183037</td>\n",
       "      <td>-0.124497</td>\n",
       "      <td>-0.038475</td>\n",
       "      <td>-0.316652</td>\n",
       "      <td>-0.972666</td>\n",
       "      <td>-0.512593</td>\n",
       "      <td>0.512593</td>\n",
       "      <td>-1.730861</td>\n",
       "      <td>1.730861</td>\n",
       "      <td>-0.448578</td>\n",
       "      <td>-0.619878</td>\n",
       "      <td>-0.423843</td>\n",
       "      <td>-0.315995</td>\n",
       "      <td>1.485572</td>\n",
       "      <td>-0.098228</td>\n",
       "      <td>-0.291968</td>\n",
       "      <td>-0.464741</td>\n",
       "      <td>1.101367</td>\n",
       "      <td>-0.627322</td>\n",
       "      <td>-0.706469</td>\n",
       "      <td>-0.546074</td>\n",
       "      <td>1.134200</td>\n",
       "    </tr>\n",
       "    <tr>\n",
       "      <th>1</th>\n",
       "      <td>0.731738</td>\n",
       "      <td>-1.025905</td>\n",
       "      <td>-1.486164</td>\n",
       "      <td>-1.060617</td>\n",
       "      <td>-0.216547</td>\n",
       "      <td>-0.505151</td>\n",
       "      <td>1.369852</td>\n",
       "      <td>-0.533967</td>\n",
       "      <td>-0.386808</td>\n",
       "      <td>-0.234803</td>\n",
       "      <td>-0.360029</td>\n",
       "      <td>0.360029</td>\n",
       "      <td>-0.079346</td>\n",
       "      <td>-0.218885</td>\n",
       "      <td>-0.192937</td>\n",
       "      <td>-0.245532</td>\n",
       "      <td>-0.095333</td>\n",
       "      <td>-0.177137</td>\n",
       "      <td>-0.251844</td>\n",
       "      <td>0.567797</td>\n",
       "      <td>-0.174121</td>\n",
       "      <td>-0.186815</td>\n",
       "      <td>-0.670932</td>\n",
       "      <td>-0.183037</td>\n",
       "      <td>-0.124497</td>\n",
       "      <td>-0.038475</td>\n",
       "      <td>3.158040</td>\n",
       "      <td>-0.972666</td>\n",
       "      <td>-0.512593</td>\n",
       "      <td>0.512593</td>\n",
       "      <td>-1.730861</td>\n",
       "      <td>1.730861</td>\n",
       "      <td>-0.448578</td>\n",
       "      <td>1.613219</td>\n",
       "      <td>-0.423843</td>\n",
       "      <td>-0.315995</td>\n",
       "      <td>-0.673142</td>\n",
       "      <td>-0.098228</td>\n",
       "      <td>-0.291968</td>\n",
       "      <td>-0.464741</td>\n",
       "      <td>-0.907963</td>\n",
       "      <td>1.594078</td>\n",
       "      <td>-0.706469</td>\n",
       "      <td>-0.546074</td>\n",
       "      <td>1.134200</td>\n",
       "    </tr>\n",
       "    <tr>\n",
       "      <th>2</th>\n",
       "      <td>-2.146385</td>\n",
       "      <td>-0.426125</td>\n",
       "      <td>0.178215</td>\n",
       "      <td>0.942847</td>\n",
       "      <td>-0.216547</td>\n",
       "      <td>1.979605</td>\n",
       "      <td>-0.730006</td>\n",
       "      <td>-0.533967</td>\n",
       "      <td>-0.386808</td>\n",
       "      <td>-0.234803</td>\n",
       "      <td>-0.360029</td>\n",
       "      <td>0.360029</td>\n",
       "      <td>-0.079346</td>\n",
       "      <td>-0.218885</td>\n",
       "      <td>-0.192937</td>\n",
       "      <td>-0.245532</td>\n",
       "      <td>-0.095333</td>\n",
       "      <td>-0.177137</td>\n",
       "      <td>-0.251844</td>\n",
       "      <td>0.567797</td>\n",
       "      <td>-0.174121</td>\n",
       "      <td>-0.186815</td>\n",
       "      <td>-0.670932</td>\n",
       "      <td>-0.183037</td>\n",
       "      <td>-0.124497</td>\n",
       "      <td>-0.038475</td>\n",
       "      <td>-0.316652</td>\n",
       "      <td>1.028102</td>\n",
       "      <td>1.950867</td>\n",
       "      <td>-1.950867</td>\n",
       "      <td>0.577747</td>\n",
       "      <td>-0.577747</td>\n",
       "      <td>-0.448578</td>\n",
       "      <td>-0.619878</td>\n",
       "      <td>2.359363</td>\n",
       "      <td>-0.315995</td>\n",
       "      <td>-0.673142</td>\n",
       "      <td>-0.098228</td>\n",
       "      <td>3.425033</td>\n",
       "      <td>-0.464741</td>\n",
       "      <td>-0.907963</td>\n",
       "      <td>-0.627322</td>\n",
       "      <td>1.415491</td>\n",
       "      <td>-0.546074</td>\n",
       "      <td>-0.881678</td>\n",
       "    </tr>\n",
       "    <tr>\n",
       "      <th>3</th>\n",
       "      <td>0.731738</td>\n",
       "      <td>1.373217</td>\n",
       "      <td>1.426499</td>\n",
       "      <td>0.942847</td>\n",
       "      <td>-0.216547</td>\n",
       "      <td>-0.505151</td>\n",
       "      <td>1.369852</td>\n",
       "      <td>-0.533967</td>\n",
       "      <td>-0.386808</td>\n",
       "      <td>-0.234803</td>\n",
       "      <td>-0.360029</td>\n",
       "      <td>0.360029</td>\n",
       "      <td>-0.079346</td>\n",
       "      <td>-0.218885</td>\n",
       "      <td>-0.192937</td>\n",
       "      <td>-0.245532</td>\n",
       "      <td>-0.095333</td>\n",
       "      <td>-0.177137</td>\n",
       "      <td>-0.251844</td>\n",
       "      <td>0.567797</td>\n",
       "      <td>-0.174121</td>\n",
       "      <td>-0.186815</td>\n",
       "      <td>-0.670932</td>\n",
       "      <td>-0.183037</td>\n",
       "      <td>-0.124497</td>\n",
       "      <td>-0.038475</td>\n",
       "      <td>-0.316652</td>\n",
       "      <td>1.028102</td>\n",
       "      <td>1.950867</td>\n",
       "      <td>-1.950867</td>\n",
       "      <td>0.577747</td>\n",
       "      <td>-0.577747</td>\n",
       "      <td>-0.448578</td>\n",
       "      <td>1.613219</td>\n",
       "      <td>-0.423843</td>\n",
       "      <td>-0.315995</td>\n",
       "      <td>-0.673142</td>\n",
       "      <td>-0.098228</td>\n",
       "      <td>-0.291968</td>\n",
       "      <td>-0.464741</td>\n",
       "      <td>-0.907963</td>\n",
       "      <td>1.594078</td>\n",
       "      <td>-0.706469</td>\n",
       "      <td>-0.546074</td>\n",
       "      <td>1.134200</td>\n",
       "    </tr>\n",
       "    <tr>\n",
       "      <th>4</th>\n",
       "      <td>1.307362</td>\n",
       "      <td>0.773437</td>\n",
       "      <td>0.871706</td>\n",
       "      <td>0.942847</td>\n",
       "      <td>-0.216547</td>\n",
       "      <td>-0.505151</td>\n",
       "      <td>-0.730006</td>\n",
       "      <td>-0.533967</td>\n",
       "      <td>-0.386808</td>\n",
       "      <td>4.258892</td>\n",
       "      <td>2.777553</td>\n",
       "      <td>-2.777553</td>\n",
       "      <td>-0.079346</td>\n",
       "      <td>-0.218885</td>\n",
       "      <td>-0.192937</td>\n",
       "      <td>4.072796</td>\n",
       "      <td>-0.095333</td>\n",
       "      <td>-0.177137</td>\n",
       "      <td>-0.251844</td>\n",
       "      <td>-1.761194</td>\n",
       "      <td>-0.174121</td>\n",
       "      <td>-0.186815</td>\n",
       "      <td>-0.670932</td>\n",
       "      <td>-0.183037</td>\n",
       "      <td>-0.124497</td>\n",
       "      <td>-0.038475</td>\n",
       "      <td>-0.316652</td>\n",
       "      <td>1.028102</td>\n",
       "      <td>-0.512593</td>\n",
       "      <td>0.512593</td>\n",
       "      <td>-1.730861</td>\n",
       "      <td>1.730861</td>\n",
       "      <td>-0.448578</td>\n",
       "      <td>-0.619878</td>\n",
       "      <td>2.359363</td>\n",
       "      <td>-0.315995</td>\n",
       "      <td>-0.673142</td>\n",
       "      <td>-0.098228</td>\n",
       "      <td>-0.291968</td>\n",
       "      <td>-0.464741</td>\n",
       "      <td>-0.907963</td>\n",
       "      <td>1.594078</td>\n",
       "      <td>1.415491</td>\n",
       "      <td>-0.546074</td>\n",
       "      <td>-0.881678</td>\n",
       "    </tr>\n",
       "  </tbody>\n",
       "</table>\n",
       "</div>"
      ],
      "text/plain": [
       "   Officer_YOB  Reported_Date  Reported_Hour  Reported_AM_or_PM  \\\n",
       "0     0.386363      -0.726015      -1.070069          -1.060617   \n",
       "1     0.731738      -1.025905      -1.486164          -1.060617   \n",
       "2    -2.146385      -0.426125       0.178215           0.942847   \n",
       "3     0.731738       1.373217       1.426499           0.942847   \n",
       "4     1.307362       0.773437       0.871706           0.942847   \n",
       "\n",
       "   Subject_Age_Group_1 - 17  Subject_Age_Group_18 - 25  \\\n",
       "0                 -0.216547                  -0.505151   \n",
       "1                 -0.216547                  -0.505151   \n",
       "2                 -0.216547                   1.979605   \n",
       "3                 -0.216547                  -0.505151   \n",
       "4                 -0.216547                  -0.505151   \n",
       "\n",
       "   Subject_Age_Group_26 - 35  Subject_Age_Group_36 - 45  \\\n",
       "0                   1.369852                  -0.533967   \n",
       "1                   1.369852                  -0.533967   \n",
       "2                  -0.730006                  -0.533967   \n",
       "3                   1.369852                  -0.533967   \n",
       "4                  -0.730006                  -0.533967   \n",
       "\n",
       "   Subject_Age_Group_46 - 55  Subject_Age_Group_56 and Above  \\\n",
       "0                  -0.386808                       -0.234803   \n",
       "1                  -0.386808                       -0.234803   \n",
       "2                  -0.386808                       -0.234803   \n",
       "3                  -0.386808                       -0.234803   \n",
       "4                  -0.386808                        4.258892   \n",
       "\n",
       "   Officer_Gender_F  Officer_Gender_M  \\\n",
       "0         -0.360029          0.360029   \n",
       "1         -0.360029          0.360029   \n",
       "2         -0.360029          0.360029   \n",
       "3         -0.360029          0.360029   \n",
       "4          2.777553         -2.777553   \n",
       "\n",
       "   Officer_Race_American Indian/Alaska Native  Officer_Race_Asian  \\\n",
       "0                                   -0.079346           -0.218885   \n",
       "1                                   -0.079346           -0.218885   \n",
       "2                                   -0.079346           -0.218885   \n",
       "3                                   -0.079346           -0.218885   \n",
       "4                                   -0.079346           -0.218885   \n",
       "\n",
       "   Officer_Race_Black or African American  Officer_Race_Hispanic or Latino  \\\n",
       "0                               -0.192937                         4.072796   \n",
       "1                               -0.192937                        -0.245532   \n",
       "2                               -0.192937                        -0.245532   \n",
       "3                               -0.192937                        -0.245532   \n",
       "4                               -0.192937                         4.072796   \n",
       "\n",
       "   Officer_Race_Nat Hawaiian/Oth Pac Islander  Officer_Race_Other  \\\n",
       "0                                   -0.095333           -0.177137   \n",
       "1                                   -0.095333           -0.177137   \n",
       "2                                   -0.095333           -0.177137   \n",
       "3                                   -0.095333           -0.177137   \n",
       "4                                   -0.095333           -0.177137   \n",
       "\n",
       "   Officer_Race_Two or More Races  Officer_Race_White  \\\n",
       "0                       -0.251844           -1.761194   \n",
       "1                       -0.251844            0.567797   \n",
       "2                       -0.251844            0.567797   \n",
       "3                       -0.251844            0.567797   \n",
       "4                       -0.251844           -1.761194   \n",
       "\n",
       "   Subject_Perceived_Race_American Indian or Alaska Native  \\\n",
       "0                                          -0.174121         \n",
       "1                                          -0.174121         \n",
       "2                                          -0.174121         \n",
       "3                                          -0.174121         \n",
       "4                                          -0.174121         \n",
       "\n",
       "   Subject_Perceived_Race_Asian  \\\n",
       "0                     -0.186815   \n",
       "1                     -0.186815   \n",
       "2                     -0.186815   \n",
       "3                     -0.186815   \n",
       "4                     -0.186815   \n",
       "\n",
       "   Subject_Perceived_Race_Black or African American  \\\n",
       "0                                          1.490464   \n",
       "1                                         -0.670932   \n",
       "2                                         -0.670932   \n",
       "3                                         -0.670932   \n",
       "4                                         -0.670932   \n",
       "\n",
       "   Subject_Perceived_Race_Hispanic  Subject_Perceived_Race_Multi-Racial  \\\n",
       "0                        -0.183037                            -0.124497   \n",
       "1                        -0.183037                            -0.124497   \n",
       "2                        -0.183037                            -0.124497   \n",
       "3                        -0.183037                            -0.124497   \n",
       "4                        -0.183037                            -0.124497   \n",
       "\n",
       "   Subject_Perceived_Race_Native Hawaiian or Other Pacific Islander  \\\n",
       "0                                          -0.038475                  \n",
       "1                                          -0.038475                  \n",
       "2                                          -0.038475                  \n",
       "3                                          -0.038475                  \n",
       "4                                          -0.038475                  \n",
       "\n",
       "   Subject_Perceived_Race_Unknown  Subject_Perceived_Race_White  \\\n",
       "0                       -0.316652                     -0.972666   \n",
       "1                        3.158040                     -0.972666   \n",
       "2                       -0.316652                      1.028102   \n",
       "3                       -0.316652                      1.028102   \n",
       "4                       -0.316652                      1.028102   \n",
       "\n",
       "   Subject_Perceived_Gender_Female  Subject_Perceived_Gender_Male  \\\n",
       "0                        -0.512593                       0.512593   \n",
       "1                        -0.512593                       0.512593   \n",
       "2                         1.950867                      -1.950867   \n",
       "3                         1.950867                      -1.950867   \n",
       "4                        -0.512593                       0.512593   \n",
       "\n",
       "   Frisk_Flag_0  Frisk_Flag_1  Precinct_East  Precinct_North  Precinct_South  \\\n",
       "0     -1.730861      1.730861      -0.448578       -0.619878       -0.423843   \n",
       "1     -1.730861      1.730861      -0.448578        1.613219       -0.423843   \n",
       "2      0.577747     -0.577747      -0.448578       -0.619878        2.359363   \n",
       "3      0.577747     -0.577747      -0.448578        1.613219       -0.423843   \n",
       "4     -1.730861      1.730861      -0.448578       -0.619878        2.359363   \n",
       "\n",
       "   Precinct_SouthWest  Precinct_West  Officer_Age_By_Decade_1900-1960  \\\n",
       "0           -0.315995       1.485572                        -0.098228   \n",
       "1           -0.315995      -0.673142                        -0.098228   \n",
       "2           -0.315995      -0.673142                        -0.098228   \n",
       "3           -0.315995      -0.673142                        -0.098228   \n",
       "4           -0.315995      -0.673142                        -0.098228   \n",
       "\n",
       "   Officer_Age_By_Decade_1960s  Officer_Age_By_Decade_1970s  \\\n",
       "0                    -0.291968                    -0.464741   \n",
       "1                    -0.291968                    -0.464741   \n",
       "2                     3.425033                    -0.464741   \n",
       "3                    -0.291968                    -0.464741   \n",
       "4                    -0.291968                    -0.464741   \n",
       "\n",
       "   Officer_Age_By_Decade_1980s  Officer_Age_By_Decade_1990s  \\\n",
       "0                     1.101367                    -0.627322   \n",
       "1                    -0.907963                     1.594078   \n",
       "2                    -0.907963                    -0.627322   \n",
       "3                    -0.907963                     1.594078   \n",
       "4                    -0.907963                     1.594078   \n",
       "\n",
       "   Time_of_Day_Afternoon  Time_of_Day_Morning  Time_of_Day_Night  \n",
       "0              -0.706469            -0.546074           1.134200  \n",
       "1              -0.706469            -0.546074           1.134200  \n",
       "2               1.415491            -0.546074          -0.881678  \n",
       "3              -0.706469            -0.546074           1.134200  \n",
       "4               1.415491            -0.546074          -0.881678  "
      ]
     },
     "execution_count": 80,
     "metadata": {},
     "output_type": "execute_result"
    }
   ],
   "source": [
    "scaled_df_train.head()"
   ]
  },
  {
   "cell_type": "code",
   "execution_count": 81,
   "metadata": {},
   "outputs": [],
   "source": [
    "# Now that the data is OneHotEncoded and normalized, let's fit a model, \n",
    "# starting with a Logistic Regression model."
   ]
  },
  {
   "cell_type": "code",
   "execution_count": 122,
   "metadata": {},
   "outputs": [
    {
     "data": {
      "text/plain": [
       "LogisticRegression(C=1000000000000.0, fit_intercept=False, solver='liblinear')"
      ]
     },
     "execution_count": 122,
     "metadata": {},
     "output_type": "execute_result"
    }
   ],
   "source": [
    "logreg = LogisticRegression(fit_intercept=False, C=1e12, solver='liblinear')\n",
    "logreg.fit(scaled_data_train, y_train)"
   ]
  },
  {
   "cell_type": "code",
   "execution_count": 123,
   "metadata": {},
   "outputs": [],
   "source": [
    "y_hat_train = logreg.predict(scaled_data_train)\n",
    "y_hat_test = logreg.predict(scaled_data_test)"
   ]
  },
  {
   "cell_type": "code",
   "execution_count": 124,
   "metadata": {},
   "outputs": [
    {
     "name": "stdout",
     "output_type": "stream",
     "text": [
      "Testing Accuracy:  0.5704661075209679\n"
     ]
    }
   ],
   "source": [
    "print('Testing Accuracy: ', accuracy_score(y_test, y_hat_test))"
   ]
  },
  {
   "cell_type": "code",
   "execution_count": 85,
   "metadata": {},
   "outputs": [],
   "source": [
    "# Looking at the initial model, both the training and the test, both had an\n",
    "# accuracy of 57%. We can definitely make this better using more sophisticated\n",
    "# modeling. Next let's look at a confusion matrix to see where we can\n",
    "# see how the model is performing\n",
    "\n"
   ]
  },
  {
   "cell_type": "code",
   "execution_count": 126,
   "metadata": {},
   "outputs": [
    {
     "data": {
      "image/png": "[encoded data removed]",
      "text/plain": [
       "<Figure size 432x288 with 2 Axes>"
      ]
     },
     "metadata": {
      "needs_background": "light"
     },
     "output_type": "display_data"
    }
   ],
   "source": [
    "plot_confusion_matrix(logreg, scaled_data_test, y_test,\n",
    "                     cmap=plt.cm.Blues)\n",
    "plt.grid(False)\n",
    "plt.show()"
   ]
  },
  {
   "cell_type": "code",
   "execution_count": 87,
   "metadata": {},
   "outputs": [],
   "source": [
    "# The model is correctly predicting stops ending in no arrest 4896 times\n",
    "# while inccorectly predicting stops that were arrests as noa arrest 2163\n",
    "# times. \n",
    "\n",
    "# Next let's check the Precision, Recall, Accuracy, and F1 scores. "
   ]
  },
  {
   "cell_type": "code",
   "execution_count": 127,
   "metadata": {},
   "outputs": [
    {
     "name": "stdout",
     "output_type": "stream",
     "text": [
      "Testing Accuracy:  0.5704661075209679\n",
      "Testing Precision:  0.3788005578800558\n",
      "Testing Recall:  0.6022172949002217\n",
      "Testing F1-Score:  0.4650684931506849\n"
     ]
    }
   ],
   "source": [
    "print('Testing Accuracy: ', accuracy_score(y_test, y_hat_test))\n",
    "print('Testing Precision: ', precision_score(y_test, y_hat_test))\n",
    "print('Testing Recall: ', recall_score(y_test, y_hat_test))\n",
    "print('Testing F1-Score: ', f1_score(y_test, y_hat_test))\n"
   ]
  },
  {
   "cell_type": "code",
   "execution_count": 128,
   "metadata": {},
   "outputs": [],
   "source": [
    "# The recall and F1-score ar absolutely abysmal. The accuracy is \n",
    "# slightly better than a coinflip which isn't much to write home about.\n",
    "# This time, we'll fit a K Nearest-Neighbors model to see if the data\n",
    "# works better in that context. "
   ]
  },
  {
   "cell_type": "code",
   "execution_count": 129,
   "metadata": {},
   "outputs": [],
   "source": [
    "clf = KNeighborsClassifier()\n",
    "clf.fit(scaled_data_train, y_train)\n",
    "y_hat_train = clf.predict(scaled_data_train)\n",
    "y_hat_test = clf.predict(scaled_data_test)\n"
   ]
  },
  {
   "cell_type": "code",
   "execution_count": 130,
   "metadata": {},
   "outputs": [
    {
     "name": "stdout",
     "output_type": "stream",
     "text": [
      "Testing Accuracy:  0.6467757459095284\n",
      "Testing Precision:  0.3969816272965879\n",
      "Testing Recall:  0.2682926829268293\n",
      "Testing F1-Score:  0.3201905265943371\n"
     ]
    }
   ],
   "source": [
    "print('Testing Accuracy: ', accuracy_score(y_test, y_hat_test))\n",
    "print('Testing Precision: ', precision_score(y_test, y_hat_test))\n",
    "print('Testing Recall: ', recall_score(y_test, y_hat_test))\n",
    "print('Testing F1-Score: ', f1_score(y_test, y_hat_test))"
   ]
  },
  {
   "cell_type": "code",
   "execution_count": 131,
   "metadata": {},
   "outputs": [
    {
     "data": {
      "image/png": "[encoded data removed]",
      "text/plain": [
       "<Figure size 432x288 with 2 Axes>"
      ]
     },
     "metadata": {
      "needs_background": "light"
     },
     "output_type": "display_data"
    }
   ],
   "source": [
    "plot_confusion_matrix(clf, scaled_data_test, y_test,\n",
    "                     cmap=plt.cm.Blues)\n",
    "plt.grid(False)\n",
    "plt.show()"
   ]
  },
  {
   "cell_type": "code",
   "execution_count": 93,
   "metadata": {},
   "outputs": [],
   "source": [
    "# The accuracy and precision went down\n",
    "# slightly in comparison to the Logistic Regression output.\n",
    "# A confusion matrix shows that it has only predicted '0', not\n",
    "# a great sign.\n",
    "# Since KNN has a default \"neighbors\" of 5, let's use GridSearchCV to \n",
    "# see if we can find a the best number of neighbors and run that\n",
    "# model one more time. \n",
    "\n",
    "# Source of following code: Eijaz Allibhai (https://towardsdatascience.com/building-a-k-nearest-neighbors-k-nn-model-with-scikit-learn-51209555453a)"
   ]
  },
  {
   "cell_type": "code",
   "execution_count": 94,
   "metadata": {},
   "outputs": [
    {
     "data": {
      "text/plain": [
       "GridSearchCV(cv=5, estimator=KNeighborsClassifier(),\n",
       "             param_grid={'n_neighbors': array([ 1,  2,  3,  4,  5,  6,  7,  8,  9, 10, 11, 12, 13, 14, 15, 16, 17,\n",
       "       18, 19, 20, 21, 22, 23, 24])})"
      ]
     },
     "execution_count": 94,
     "metadata": {},
     "output_type": "execute_result"
    }
   ],
   "source": [
    "knn2 = KNeighborsClassifier()\n",
    "param_grid = {'n_neighbors': np.arange(1,25)}\n",
    "knn_gscv = GridSearchCV(knn2, param_grid, cv=5)\n",
    "knn_gscv.fit(scaled_data_train, y_train)"
   ]
  },
  {
   "cell_type": "code",
   "execution_count": 95,
   "metadata": {},
   "outputs": [
    {
     "data": {
      "text/plain": [
       "{'n_neighbors': 24}"
      ]
     },
     "execution_count": 95,
     "metadata": {},
     "output_type": "execute_result"
    }
   ],
   "source": [
    "knn_gscv.best_params_"
   ]
  },
  {
   "cell_type": "code",
   "execution_count": 96,
   "metadata": {},
   "outputs": [],
   "source": [
    "# Let's rerun the KNN model to see exactly how this 24 is the best neighbor"
   ]
  },
  {
   "cell_type": "code",
   "execution_count": 97,
   "metadata": {},
   "outputs": [],
   "source": [
    "clf = KNeighborsClassifier(n_neighbors=24)\n",
    "clf.fit(scaled_data_train, y_train)\n",
    "y_hat_test = clf.predict(scaled_data_test)"
   ]
  },
  {
   "cell_type": "code",
   "execution_count": 98,
   "metadata": {},
   "outputs": [
    {
     "name": "stdout",
     "output_type": "stream",
     "text": [
      "Testing Accuracy:  0.6837618589302901\n",
      "Testing Precision:  0.4403183023872679\n",
      "Testing Recall:  0.07361419068736141\n",
      "Testing F1-Score:  0.12613981762917933\n"
     ]
    }
   ],
   "source": [
    "print('Testing Accuracy: ', accuracy_score(y_test, y_hat_test))\n",
    "print('Testing Precision: ', precision_score(y_test, y_hat_test))\n",
    "print('Testing Recall: ', recall_score(y_test, y_hat_test))\n",
    "print('Testing F1-Score: ', f1_score(y_test, y_hat_test))"
   ]
  },
  {
   "cell_type": "code",
   "execution_count": 99,
   "metadata": {},
   "outputs": [],
   "source": [
    "# Accuracy and precision are up but recall and are not great. \n",
    "# Let's move on to XGBoost"
   ]
  },
  {
   "cell_type": "code",
   "execution_count": 169,
   "metadata": {},
   "outputs": [],
   "source": [
    "xgbc = XGBClassifier()\n",
    "xgbc.fit(scaled_data_train, y_train)\n",
    "y_hat_test = xgbc.predict(scaled_data_test)"
   ]
  },
  {
   "cell_type": "code",
   "execution_count": 170,
   "metadata": {},
   "outputs": [
    {
     "name": "stdout",
     "output_type": "stream",
     "text": [
      "Testing Accuracy:  0.6902241165956277\n",
      "Testing Precision:  0.5098039215686274\n",
      "Testing Recall:  0.023059866962305987\n",
      "Testing F1-Score:  0.044123886296139156\n"
     ]
    }
   ],
   "source": [
    "print('Testing Accuracy: ', accuracy_score(y_test, y_hat_test))\n",
    "print('Testing Precision: ', precision_score(y_test, y_hat_test))\n",
    "print('Testing Recall: ', recall_score(y_test, y_hat_test))\n",
    "print('Testing F1-Score: ', f1_score(y_test, y_hat_test))"
   ]
  },
  {
   "cell_type": "code",
   "execution_count": 103,
   "metadata": {},
   "outputs": [],
   "source": [
    "# Accuracy and Precision are up, but everything else is worse. \n",
    "# Let's try tuning XGBoost using GridSearchCV\n",
    "# to see if we get better results. "
   ]
  },
  {
   "cell_type": "code",
   "execution_count": 104,
   "metadata": {},
   "outputs": [],
   "source": [
    "param_grid = {\n",
    "    'learning rate': [0.1, 0.2, 0.3, 0.4, 0.5],\n",
    "    'max_depth': [6],\n",
    "    'min_child_weight': [1, 2, 3, 4, 5],\n",
    "    'subsample': [0.5, 0.7, 0.9],\n",
    "    'n_estimators': [100],\n",
    "}"
   ]
  },
  {
   "cell_type": "code",
   "execution_count": 118,
   "metadata": {},
   "outputs": [],
   "source": [
    "grid_clf = GridSearchCV(clf, param_grid, scoring='accuracy', cv=None, n_jobs=1)\n",
    "grid_clf.fit(scaled_data_train, y_train)\n",
    "\n",
    "best_parameters = grid_clf.best_params_"
   ]
  },
  {
   "cell_type": "code",
   "execution_count": 168,
   "metadata": {},
   "outputs": [
    {
     "name": "stdout",
     "output_type": "stream",
     "text": [
      "{'learning rate': 0.1, 'max_depth': 6, 'min_child_weight': 2, 'n_estimators': 100, 'subsample': 0.9}\n"
     ]
    }
   ],
   "source": [
    "print(best_parameters)"
   ]
  },
  {
   "cell_type": "code",
   "execution_count": 171,
   "metadata": {},
   "outputs": [],
   "source": [
    "xgbc = XGBClassifier(n_estimators=100, max_depth=6, learning_rate=0.1,\n",
    "                    min_child_weight=2, subsample=0.9)\n",
    "xgbc.fit(scaled_data_train, y_train)\n",
    "y_hat_test = xgbc.predict(scaled_data_test)"
   ]
  },
  {
   "cell_type": "code",
   "execution_count": 172,
   "metadata": {},
   "outputs": [
    {
     "name": "stdout",
     "output_type": "stream",
     "text": [
      "Testing Accuracy:  0.690774095971401\n",
      "Testing Precision:  0.5081081081081081\n",
      "Testing Recall:  0.08337028824833703\n",
      "Testing F1-Score:  0.14323809523809525\n"
     ]
    }
   ],
   "source": [
    "print('Testing Accuracy: ', accuracy_score(y_test, y_hat_test))\n",
    "print('Testing Precision: ', precision_score(y_test, y_hat_test))\n",
    "print('Testing Recall: ', recall_score(y_test, y_hat_test))\n",
    "print('Testing F1-Score: ', f1_score(y_test, y_hat_test))"
   ]
  },
  {
   "cell_type": "code",
   "execution_count": 115,
   "metadata": {},
   "outputs": [],
   "source": [
    "# This is the highest our accuracy has been but barely. Was the 30\n",
    "# minutes of loading this GridSearch worth it? \n",
    "# Let's move to a decision tree and see if we can get better than \n",
    "# 69% accuracy. "
   ]
  },
  {
   "cell_type": "code",
   "execution_count": 139,
   "metadata": {},
   "outputs": [],
   "source": [
    "SEED=1\n",
    "dtc = DecisionTreeClassifier(criterion='entropy', random_state=SEED)\n",
    "dtc.fit(scaled_data_train, y_train)"
   ]
  },
  {
   "cell_type": "code",
   "execution_count": 156,
   "metadata": {},
   "outputs": [
    {
     "name": "stdout",
     "output_type": "stream",
     "text": [
      "Testing Accuracy:  0.6147394472707274\n",
      "Testing Precision:  0.38580375782881005\n",
      "Testing Recall:  0.4097560975609756\n",
      "Testing F1-Score:  0.3974193548387097\n"
     ]
    }
   ],
   "source": [
    "y_hat_test = dtc.predict(scaled_data_test)\n",
    "\n",
    "print('Testing Accuracy: ', accuracy_score(y_test, y_hat_test))\n",
    "print('Testing Precision: ', precision_score(y_test, y_hat_test))\n",
    "print('Testing Recall: ', recall_score(y_test, y_hat_test))\n",
    "print('Testing F1-Score: ', f1_score(y_test, y_hat_test))"
   ]
  },
  {
   "cell_type": "code",
   "execution_count": 141,
   "metadata": {},
   "outputs": [],
   "source": [
    "SEED=1\n",
    "dtc = DecisionTreeClassifier(criterion='gini', random_state=SEED)\n",
    "dtc.fit(scaled_data_train, y_train)"
   ]
  },
  {
   "cell_type": "code",
   "execution_count": 153,
   "metadata": {},
   "outputs": [
    {
     "name": "stdout",
     "output_type": "stream",
     "text": [
      "Testing Accuracy:  0.6147394472707274\n",
      "Testing Precision:  0.38580375782881005\n",
      "Testing Recall:  0.4097560975609756\n",
      "Testing F1-Score:  0.3974193548387097\n"
     ]
    }
   ],
   "source": [
    "y_hat_test = dtc.predict(scaled_data_test)\n",
    "\n",
    "print('Testing Accuracy: ', accuracy_score(y_test, y_hat_test))\n",
    "print('Testing Precision: ', precision_score(y_test, y_hat_test))\n",
    "print('Testing Recall: ', recall_score(y_test, y_hat_test))\n",
    "print('Testing F1-Score: ', f1_score(y_test, y_hat_test))"
   ]
  },
  {
   "cell_type": "code",
   "execution_count": 143,
   "metadata": {},
   "outputs": [],
   "source": [
    "# The difference between 'gini' and 'entropy' were basically non existent.\n",
    "# Let's try another GridSearch to see instead of manually changing parameters.\n",
    "# Hopefully we can find the best decision tree.\n"
   ]
  },
  {
   "cell_type": "code",
   "execution_count": 157,
   "metadata": {},
   "outputs": [
    {
     "data": {
      "text/plain": [
       "GridSearchCV(cv=3, estimator=DecisionTreeClassifier(random_state=1),\n",
       "             param_grid={'criterion': ['gini', 'entropy'],\n",
       "                         'max_depth': [None, 2, 3, 4, 5],\n",
       "                         'min_samples_leaf': [1, 2, 3, 4, 5],\n",
       "                         'min_samples_split': [2, 5, 10]},\n",
       "             return_train_score=True)"
      ]
     },
     "execution_count": 157,
     "metadata": {},
     "output_type": "execute_result"
    }
   ],
   "source": [
    "dtc_param_grid = {\n",
    "    'criterion': ['gini', 'entropy'],\n",
    "    'max_depth': [None, 2, 3, 4, 5],\n",
    "    'min_samples_split': [2, 5, 10],\n",
    "    'min_samples_leaf': [1, 2, 3, 4, 5]\n",
    "}\n",
    "\n",
    "dtc_grid = GridSearchCV(dtc, dt_param_grid, cv=3, return_train_score=True)\n",
    "\n",
    "dtc_grid.fit(scaled_data_train, y_train)\n"
   ]
  },
  {
   "cell_type": "code",
   "execution_count": 159,
   "metadata": {},
   "outputs": [
    {
     "data": {
      "text/plain": [
       "{'criterion': 'gini',\n",
       " 'max_depth': 2,\n",
       " 'min_samples_leaf': 1,\n",
       " 'min_samples_split': 2}"
      ]
     },
     "execution_count": 159,
     "metadata": {},
     "output_type": "execute_result"
    }
   ],
   "source": [
    "dtc_grid.best_params_"
   ]
  },
  {
   "cell_type": "code",
   "execution_count": 166,
   "metadata": {},
   "outputs": [
    {
     "data": {
      "text/plain": [
       "DecisionTreeClassifier(max_depth=2, random_state=1)"
      ]
     },
     "execution_count": 166,
     "metadata": {},
     "output_type": "execute_result"
    }
   ],
   "source": [
    "dtc = DecisionTreeClassifier(criterion='gini', max_depth=2,\n",
    "                             min_samples_leaf=1, min_samples_split=2,\n",
    "                             random_state=SEED)\n",
    "dtc.fit(scaled_data_train, y_train)"
   ]
  },
  {
   "cell_type": "code",
   "execution_count": 167,
   "metadata": {},
   "outputs": [
    {
     "name": "stdout",
     "output_type": "stream",
     "text": [
      "Testing Accuracy:  0.6899491269077409\n",
      "Testing Precision:  0.0\n",
      "Testing Recall:  0.0\n",
      "Testing F1-Score:  0.0\n"
     ]
    },
    {
     "name": "stderr",
     "output_type": "stream",
     "text": [
      "/Users/Garseed/anaconda3/envs/learn-env/lib/python3.6/site-packages/sklearn/metrics/_classification.py:1248: UndefinedMetricWarning: Precision is ill-defined and being set to 0.0 due to no predicted samples. Use `zero_division` parameter to control this behavior.\n",
      "  _warn_prf(average, modifier, msg_start, len(result))\n"
     ]
    }
   ],
   "source": [
    "y_hat_test = dtc.predict(scaled_data_test)\n",
    "\n",
    "print('Testing Accuracy: ', accuracy_score(y_test, y_hat_test))\n",
    "print('Testing Precision: ', precision_score(y_test, y_hat_test))\n",
    "print('Testing Recall: ', recall_score(y_test, y_hat_test))\n",
    "print('Testing F1-Score: ', f1_score(y_test, y_hat_test))"
   ]
  },
  {
   "cell_type": "code",
   "execution_count": 174,
   "metadata": {},
   "outputs": [],
   "source": [
    "# It seems as though we were unable to get enough data for testing\n",
    "# metrics outside of Accuracy, probably deue to the low samples."
   ]
  },
  {
   "cell_type": "code",
   "execution_count": null,
   "metadata": {},
   "outputs": [],
   "source": [
    "# After running 7 models, the highest accuracy achieved was from an \n",
    "# XGBoost model with the best parameters found through GridSearchCV, \n",
    "# and even at that it was only able to be 69% accurate. "
   ]
  }
 ],
 "metadata": {
  "kernelspec": {
   "display_name": "Python 3",
   "language": "python",
   "name": "python3"
  },
  "language_info": {
   "codemirror_mode": {
    "name": "ipython",
    "version": 3
   },
   "file_extension": ".py",
   "mimetype": "text/x-python",
   "name": "python",
   "nbconvert_exporter": "python",
   "pygments_lexer": "ipython3",
   "version": "3.6.9"
  }
 },
 "nbformat": 4,
 "nbformat_minor": 4
}
