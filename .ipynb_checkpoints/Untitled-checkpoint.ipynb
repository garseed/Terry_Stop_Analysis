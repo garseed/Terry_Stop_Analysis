{
 "cells": [
  {
   "cell_type": "markdown",
   "metadata": {},
   "source": [
    "# Terry Stop Analysis\n",
    "### In the 1968 Supreme Court case \"Terry v. Ohio\", the court found that a police officer was not in vilation of the \"unresonable search and seizure\" clause of the Fourth Amendment after he stopped and frisked suspects only because their behavior was suspicious. Thus the phrase \"Terry Stops\" are in reference to stops made of suspicious drivers. \n",
    "\n",
    "This is an analysis of over 48,000 Terry Stops, with a goal of predicting if an arrest will be made based off time of day, whether a suspect was frisked, and racial & gender demographics of both the suspects and officers. \n",
    "\n",
    "The overall goal of the analysis is to have the highest possible recall, to minimize false positives, of accidentally classifying subject who were not arrested as arrested. \n",
    "\n",
    "\n"
   ]
  },
  {
   "cell_type": "code",
   "execution_count": 94,
   "metadata": {},
   "outputs": [],
   "source": [
    "#import the necessary libraries. \n",
    "\n",
    "\n",
    "import pandas as pd\n",
    "import numpy as np\n",
    "import seaborn as sns\n",
    "import matplotlib.pyplot as plt\n",
    "%matplotlib inline\n",
    "from sklearn.preprocessing import StandardScaler, normalize, OneHotEncoder\n",
    "from sklearn.model_selection import train_test_split, GridSearchCV, cross_val_score\n",
    "from sklearn.linear_model import LogisticRegression, LinearRegression, Lasso, Ridge\n",
    "from sklearn.neighbors import KNeighborsClassifier\n",
    "from sklearn.metrics import classification_report,precision_score, roc_curve, auc, recall_score, accuracy_score,f1_score,mean_squared_error, mean_squared_log_error, confusion_matrix, plot_confusion_matrix\n",
    "from sklearn.tree import DecisionTreeClassifier\n",
    "from sklearn import tree\n",
    "from sklearn.impute import SimpleImputer\n",
    "from imblearn.over_sampling import SMOTE, ADASYN\n",
    "from sklearn.ensemble import RandomForestClassifier, BaggingClassifier, AdaBoostClassifier\n",
    "from sklearn.tree import DecisionTreeRegressor\n",
    "from sklearn.dummy import DummyClassifier\n",
    "from xgboost import XGBClassifier\n",
    "import itertools\n",
    "import warnings"
   ]
  },
  {
   "cell_type": "markdown",
   "metadata": {},
   "source": [
    "# Step 1: Cleaning the Data"
   ]
  },
  {
   "cell_type": "code",
   "execution_count": 2,
   "metadata": {},
   "outputs": [
    {
     "data": {
      "text/html": [
       "<div>\n",
       "<style scoped>\n",
       "    .dataframe tbody tr th:only-of-type {\n",
       "        vertical-align: middle;\n",
       "    }\n",
       "\n",
       "    .dataframe tbody tr th {\n",
       "        vertical-align: top;\n",
       "    }\n",
       "\n",
       "    .dataframe thead th {\n",
       "        text-align: right;\n",
       "    }\n",
       "</style>\n",
       "<table border=\"1\" class=\"dataframe\">\n",
       "  <thead>\n",
       "    <tr style=\"text-align: right;\">\n",
       "      <th></th>\n",
       "      <th>Subject Age Group</th>\n",
       "      <th>Subject ID</th>\n",
       "      <th>GO / SC Num</th>\n",
       "      <th>Terry Stop ID</th>\n",
       "      <th>Stop Resolution</th>\n",
       "      <th>Weapon Type</th>\n",
       "      <th>Officer ID</th>\n",
       "      <th>Officer YOB</th>\n",
       "      <th>Officer Gender</th>\n",
       "      <th>Officer Race</th>\n",
       "      <th>Subject Perceived Race</th>\n",
       "      <th>Subject Perceived Gender</th>\n",
       "      <th>Reported Date</th>\n",
       "      <th>Reported Time</th>\n",
       "      <th>Initial Call Type</th>\n",
       "      <th>Final Call Type</th>\n",
       "      <th>Call Type</th>\n",
       "      <th>Officer Squad</th>\n",
       "      <th>Arrest Flag</th>\n",
       "      <th>Frisk Flag</th>\n",
       "      <th>Precinct</th>\n",
       "      <th>Sector</th>\n",
       "      <th>Beat</th>\n",
       "    </tr>\n",
       "  </thead>\n",
       "  <tbody>\n",
       "    <tr>\n",
       "      <th>0</th>\n",
       "      <td>-</td>\n",
       "      <td>-1</td>\n",
       "      <td>20140000120677</td>\n",
       "      <td>92317</td>\n",
       "      <td>Arrest</td>\n",
       "      <td>None</td>\n",
       "      <td>7500</td>\n",
       "      <td>1984</td>\n",
       "      <td>M</td>\n",
       "      <td>Black or African American</td>\n",
       "      <td>Asian</td>\n",
       "      <td>Male</td>\n",
       "      <td>2015-10-16T00:00:00</td>\n",
       "      <td>11:32:00</td>\n",
       "      <td>-</td>\n",
       "      <td>-</td>\n",
       "      <td>-</td>\n",
       "      <td>SOUTH PCT 1ST W - ROBERT</td>\n",
       "      <td>N</td>\n",
       "      <td>N</td>\n",
       "      <td>South</td>\n",
       "      <td>O</td>\n",
       "      <td>O2</td>\n",
       "    </tr>\n",
       "    <tr>\n",
       "      <th>1</th>\n",
       "      <td>-</td>\n",
       "      <td>-1</td>\n",
       "      <td>20150000001463</td>\n",
       "      <td>28806</td>\n",
       "      <td>Field Contact</td>\n",
       "      <td>None</td>\n",
       "      <td>5670</td>\n",
       "      <td>1965</td>\n",
       "      <td>M</td>\n",
       "      <td>White</td>\n",
       "      <td>-</td>\n",
       "      <td>-</td>\n",
       "      <td>2015-03-19T00:00:00</td>\n",
       "      <td>07:59:00</td>\n",
       "      <td>-</td>\n",
       "      <td>-</td>\n",
       "      <td>-</td>\n",
       "      <td>NaN</td>\n",
       "      <td>N</td>\n",
       "      <td>N</td>\n",
       "      <td>-</td>\n",
       "      <td>-</td>\n",
       "      <td>-</td>\n",
       "    </tr>\n",
       "    <tr>\n",
       "      <th>2</th>\n",
       "      <td>-</td>\n",
       "      <td>-1</td>\n",
       "      <td>20150000001516</td>\n",
       "      <td>29599</td>\n",
       "      <td>Field Contact</td>\n",
       "      <td>None</td>\n",
       "      <td>4844</td>\n",
       "      <td>1961</td>\n",
       "      <td>M</td>\n",
       "      <td>White</td>\n",
       "      <td>White</td>\n",
       "      <td>Male</td>\n",
       "      <td>2015-03-21T00:00:00</td>\n",
       "      <td>19:12:00</td>\n",
       "      <td>-</td>\n",
       "      <td>-</td>\n",
       "      <td>-</td>\n",
       "      <td>NaN</td>\n",
       "      <td>N</td>\n",
       "      <td>-</td>\n",
       "      <td>-</td>\n",
       "      <td>-</td>\n",
       "      <td>-</td>\n",
       "    </tr>\n",
       "    <tr>\n",
       "      <th>3</th>\n",
       "      <td>-</td>\n",
       "      <td>-1</td>\n",
       "      <td>20150000001670</td>\n",
       "      <td>32260</td>\n",
       "      <td>Field Contact</td>\n",
       "      <td>None</td>\n",
       "      <td>7539</td>\n",
       "      <td>1963</td>\n",
       "      <td>M</td>\n",
       "      <td>White</td>\n",
       "      <td>-</td>\n",
       "      <td>-</td>\n",
       "      <td>2015-04-01T00:00:00</td>\n",
       "      <td>04:55:00</td>\n",
       "      <td>-</td>\n",
       "      <td>-</td>\n",
       "      <td>-</td>\n",
       "      <td>NaN</td>\n",
       "      <td>N</td>\n",
       "      <td>N</td>\n",
       "      <td>-</td>\n",
       "      <td>-</td>\n",
       "      <td>-</td>\n",
       "    </tr>\n",
       "    <tr>\n",
       "      <th>4</th>\n",
       "      <td>-</td>\n",
       "      <td>-1</td>\n",
       "      <td>20150000001739</td>\n",
       "      <td>33155</td>\n",
       "      <td>Field Contact</td>\n",
       "      <td>None</td>\n",
       "      <td>6973</td>\n",
       "      <td>1977</td>\n",
       "      <td>M</td>\n",
       "      <td>White</td>\n",
       "      <td>Black or African American</td>\n",
       "      <td>Male</td>\n",
       "      <td>2015-04-03T00:00:00</td>\n",
       "      <td>00:41:00</td>\n",
       "      <td>-</td>\n",
       "      <td>-</td>\n",
       "      <td>-</td>\n",
       "      <td>NaN</td>\n",
       "      <td>N</td>\n",
       "      <td>N</td>\n",
       "      <td>-</td>\n",
       "      <td>-</td>\n",
       "      <td>-</td>\n",
       "    </tr>\n",
       "  </tbody>\n",
       "</table>\n",
       "</div>"
      ],
      "text/plain": [
       "  Subject Age Group  Subject ID     GO / SC Num  Terry Stop ID  \\\n",
       "0                 -          -1  20140000120677          92317   \n",
       "1                 -          -1  20150000001463          28806   \n",
       "2                 -          -1  20150000001516          29599   \n",
       "3                 -          -1  20150000001670          32260   \n",
       "4                 -          -1  20150000001739          33155   \n",
       "\n",
       "  Stop Resolution Weapon Type Officer ID  Officer YOB Officer Gender  \\\n",
       "0          Arrest        None     7500           1984              M   \n",
       "1   Field Contact        None     5670           1965              M   \n",
       "2   Field Contact        None     4844           1961              M   \n",
       "3   Field Contact        None     7539           1963              M   \n",
       "4   Field Contact        None     6973           1977              M   \n",
       "\n",
       "                Officer Race     Subject Perceived Race  \\\n",
       "0  Black or African American                      Asian   \n",
       "1                      White                          -   \n",
       "2                      White                      White   \n",
       "3                      White                          -   \n",
       "4                      White  Black or African American   \n",
       "\n",
       "  Subject Perceived Gender        Reported Date Reported Time  \\\n",
       "0                     Male  2015-10-16T00:00:00      11:32:00   \n",
       "1                        -  2015-03-19T00:00:00      07:59:00   \n",
       "2                     Male  2015-03-21T00:00:00      19:12:00   \n",
       "3                        -  2015-04-01T00:00:00      04:55:00   \n",
       "4                     Male  2015-04-03T00:00:00      00:41:00   \n",
       "\n",
       "  Initial Call Type Final Call Type Call Type             Officer Squad  \\\n",
       "0                 -               -         -  SOUTH PCT 1ST W - ROBERT   \n",
       "1                 -               -         -                       NaN   \n",
       "2                 -               -         -                       NaN   \n",
       "3                 -               -         -                       NaN   \n",
       "4                 -               -         -                       NaN   \n",
       "\n",
       "  Arrest Flag Frisk Flag Precinct  Sector    Beat  \n",
       "0           N          N    South  O       O2      \n",
       "1           N          N        -       -       -  \n",
       "2           N          -        -       -       -  \n",
       "3           N          N        -       -       -  \n",
       "4           N          N        -       -       -  "
      ]
     },
     "execution_count": 2,
     "metadata": {},
     "output_type": "execute_result"
    }
   ],
   "source": [
    "# Import and look at the rows of our dataset. \n",
    "\n",
    "pd.set_option('display.max_columns', None)\n",
    "df = pd.read_csv('Terry_Stops.csv')\n",
    "df.head()\n"
   ]
  },
  {
   "cell_type": "code",
   "execution_count": 3,
   "metadata": {
    "scrolled": true
   },
   "outputs": [
    {
     "data": {
      "text/html": [
       "<div>\n",
       "<style scoped>\n",
       "    .dataframe tbody tr th:only-of-type {\n",
       "        vertical-align: middle;\n",
       "    }\n",
       "\n",
       "    .dataframe tbody tr th {\n",
       "        vertical-align: top;\n",
       "    }\n",
       "\n",
       "    .dataframe thead th {\n",
       "        text-align: right;\n",
       "    }\n",
       "</style>\n",
       "<table border=\"1\" class=\"dataframe\">\n",
       "  <thead>\n",
       "    <tr style=\"text-align: right;\">\n",
       "      <th></th>\n",
       "      <th>Subject_Age_Group</th>\n",
       "      <th>Subject_ID</th>\n",
       "      <th>GO_SC_Num</th>\n",
       "      <th>Terry_Stop_ID</th>\n",
       "      <th>Stop_Resolution</th>\n",
       "      <th>Weapon_Type</th>\n",
       "      <th>Officer_ID</th>\n",
       "      <th>Officer_YOB</th>\n",
       "      <th>Officer_Gender</th>\n",
       "      <th>Officer_Race</th>\n",
       "      <th>Subject_Perceived_Race</th>\n",
       "      <th>Subject_Perceived_Gender</th>\n",
       "      <th>Reported_Date</th>\n",
       "      <th>Reported_Time</th>\n",
       "      <th>Initial_Call_Type</th>\n",
       "      <th>Final_Call_Type</th>\n",
       "      <th>Call_Type</th>\n",
       "      <th>Officer_Squad</th>\n",
       "      <th>Arrest_Flag</th>\n",
       "      <th>Frisk_Flag</th>\n",
       "      <th>Precinct</th>\n",
       "      <th>Sector</th>\n",
       "      <th>Beat</th>\n",
       "    </tr>\n",
       "  </thead>\n",
       "  <tbody>\n",
       "    <tr>\n",
       "      <th>0</th>\n",
       "      <td>-</td>\n",
       "      <td>-1</td>\n",
       "      <td>20140000120677</td>\n",
       "      <td>92317</td>\n",
       "      <td>Arrest</td>\n",
       "      <td>None</td>\n",
       "      <td>7500</td>\n",
       "      <td>1984</td>\n",
       "      <td>M</td>\n",
       "      <td>Black or African American</td>\n",
       "      <td>Asian</td>\n",
       "      <td>Male</td>\n",
       "      <td>2015-10-16T00:00:00</td>\n",
       "      <td>11:32:00</td>\n",
       "      <td>-</td>\n",
       "      <td>-</td>\n",
       "      <td>-</td>\n",
       "      <td>SOUTH PCT 1ST W - ROBERT</td>\n",
       "      <td>N</td>\n",
       "      <td>N</td>\n",
       "      <td>South</td>\n",
       "      <td>O</td>\n",
       "      <td>O2</td>\n",
       "    </tr>\n",
       "    <tr>\n",
       "      <th>1</th>\n",
       "      <td>-</td>\n",
       "      <td>-1</td>\n",
       "      <td>20150000001463</td>\n",
       "      <td>28806</td>\n",
       "      <td>Field Contact</td>\n",
       "      <td>None</td>\n",
       "      <td>5670</td>\n",
       "      <td>1965</td>\n",
       "      <td>M</td>\n",
       "      <td>White</td>\n",
       "      <td>-</td>\n",
       "      <td>-</td>\n",
       "      <td>2015-03-19T00:00:00</td>\n",
       "      <td>07:59:00</td>\n",
       "      <td>-</td>\n",
       "      <td>-</td>\n",
       "      <td>-</td>\n",
       "      <td>NaN</td>\n",
       "      <td>N</td>\n",
       "      <td>N</td>\n",
       "      <td>-</td>\n",
       "      <td>-</td>\n",
       "      <td>-</td>\n",
       "    </tr>\n",
       "    <tr>\n",
       "      <th>2</th>\n",
       "      <td>-</td>\n",
       "      <td>-1</td>\n",
       "      <td>20150000001516</td>\n",
       "      <td>29599</td>\n",
       "      <td>Field Contact</td>\n",
       "      <td>None</td>\n",
       "      <td>4844</td>\n",
       "      <td>1961</td>\n",
       "      <td>M</td>\n",
       "      <td>White</td>\n",
       "      <td>White</td>\n",
       "      <td>Male</td>\n",
       "      <td>2015-03-21T00:00:00</td>\n",
       "      <td>19:12:00</td>\n",
       "      <td>-</td>\n",
       "      <td>-</td>\n",
       "      <td>-</td>\n",
       "      <td>NaN</td>\n",
       "      <td>N</td>\n",
       "      <td>-</td>\n",
       "      <td>-</td>\n",
       "      <td>-</td>\n",
       "      <td>-</td>\n",
       "    </tr>\n",
       "    <tr>\n",
       "      <th>3</th>\n",
       "      <td>-</td>\n",
       "      <td>-1</td>\n",
       "      <td>20150000001670</td>\n",
       "      <td>32260</td>\n",
       "      <td>Field Contact</td>\n",
       "      <td>None</td>\n",
       "      <td>7539</td>\n",
       "      <td>1963</td>\n",
       "      <td>M</td>\n",
       "      <td>White</td>\n",
       "      <td>-</td>\n",
       "      <td>-</td>\n",
       "      <td>2015-04-01T00:00:00</td>\n",
       "      <td>04:55:00</td>\n",
       "      <td>-</td>\n",
       "      <td>-</td>\n",
       "      <td>-</td>\n",
       "      <td>NaN</td>\n",
       "      <td>N</td>\n",
       "      <td>N</td>\n",
       "      <td>-</td>\n",
       "      <td>-</td>\n",
       "      <td>-</td>\n",
       "    </tr>\n",
       "    <tr>\n",
       "      <th>4</th>\n",
       "      <td>-</td>\n",
       "      <td>-1</td>\n",
       "      <td>20150000001739</td>\n",
       "      <td>33155</td>\n",
       "      <td>Field Contact</td>\n",
       "      <td>None</td>\n",
       "      <td>6973</td>\n",
       "      <td>1977</td>\n",
       "      <td>M</td>\n",
       "      <td>White</td>\n",
       "      <td>Black or African American</td>\n",
       "      <td>Male</td>\n",
       "      <td>2015-04-03T00:00:00</td>\n",
       "      <td>00:41:00</td>\n",
       "      <td>-</td>\n",
       "      <td>-</td>\n",
       "      <td>-</td>\n",
       "      <td>NaN</td>\n",
       "      <td>N</td>\n",
       "      <td>N</td>\n",
       "      <td>-</td>\n",
       "      <td>-</td>\n",
       "      <td>-</td>\n",
       "    </tr>\n",
       "  </tbody>\n",
       "</table>\n",
       "</div>"
      ],
      "text/plain": [
       "  Subject_Age_Group  Subject_ID       GO_SC_Num  Terry_Stop_ID  \\\n",
       "0                 -          -1  20140000120677          92317   \n",
       "1                 -          -1  20150000001463          28806   \n",
       "2                 -          -1  20150000001516          29599   \n",
       "3                 -          -1  20150000001670          32260   \n",
       "4                 -          -1  20150000001739          33155   \n",
       "\n",
       "  Stop_Resolution Weapon_Type Officer_ID  Officer_YOB Officer_Gender  \\\n",
       "0          Arrest        None     7500           1984              M   \n",
       "1   Field Contact        None     5670           1965              M   \n",
       "2   Field Contact        None     4844           1961              M   \n",
       "3   Field Contact        None     7539           1963              M   \n",
       "4   Field Contact        None     6973           1977              M   \n",
       "\n",
       "                Officer_Race     Subject_Perceived_Race  \\\n",
       "0  Black or African American                      Asian   \n",
       "1                      White                          -   \n",
       "2                      White                      White   \n",
       "3                      White                          -   \n",
       "4                      White  Black or African American   \n",
       "\n",
       "  Subject_Perceived_Gender        Reported_Date Reported_Time  \\\n",
       "0                     Male  2015-10-16T00:00:00      11:32:00   \n",
       "1                        -  2015-03-19T00:00:00      07:59:00   \n",
       "2                     Male  2015-03-21T00:00:00      19:12:00   \n",
       "3                        -  2015-04-01T00:00:00      04:55:00   \n",
       "4                     Male  2015-04-03T00:00:00      00:41:00   \n",
       "\n",
       "  Initial_Call_Type Final_Call_Type Call_Type             Officer_Squad  \\\n",
       "0                 -               -         -  SOUTH PCT 1ST W - ROBERT   \n",
       "1                 -               -         -                       NaN   \n",
       "2                 -               -         -                       NaN   \n",
       "3                 -               -         -                       NaN   \n",
       "4                 -               -         -                       NaN   \n",
       "\n",
       "  Arrest_Flag Frisk_Flag Precinct  Sector    Beat  \n",
       "0           N          N    South  O       O2      \n",
       "1           N          N        -       -       -  \n",
       "2           N          -        -       -       -  \n",
       "3           N          N        -       -       -  \n",
       "4           N          N        -       -       -  "
      ]
     },
     "execution_count": 3,
     "metadata": {},
     "output_type": "execute_result"
    }
   ],
   "source": [
    "# For ease of analysis, let's add underscores to each column name\n",
    "renamed_columns = ['Subject_Age_Group','Subject_ID', 'GO_SC_Num', 'Terry_Stop_ID',\n",
    "                   'Stop_Resolution', 'Weapon_Type', 'Officer_ID', 'Officer_YOB',\n",
    "                  'Officer_Gender', 'Officer_Race', 'Subject_Perceived_Race',\n",
    "                  'Subject_Perceived_Gender', 'Reported_Date', 'Reported_Time',\n",
    "                   'Initial_Call_Type', 'Final_Call_Type', 'Call_Type', 'Officer_Squad',\n",
    "                  'Arrest_Flag', 'Frisk_Flag','Precinct', 'Sector', 'Beat']\n",
    "df.columns = renamed_columns\n",
    "df.head()"
   ]
  },
  {
   "cell_type": "code",
   "execution_count": 4,
   "metadata": {},
   "outputs": [
    {
     "data": {
      "text/plain": [
       "Subject_Age_Group             0\n",
       "Subject_ID                    0\n",
       "GO_SC_Num                     0\n",
       "Terry_Stop_ID                 0\n",
       "Stop_Resolution               0\n",
       "Weapon_Type                   0\n",
       "Officer_ID                    0\n",
       "Officer_YOB                   0\n",
       "Officer_Gender                0\n",
       "Officer_Race                  0\n",
       "Subject_Perceived_Race        0\n",
       "Subject_Perceived_Gender      0\n",
       "Reported_Date                 0\n",
       "Reported_Time                 0\n",
       "Initial_Call_Type             0\n",
       "Final_Call_Type               0\n",
       "Call_Type                     0\n",
       "Officer_Squad               605\n",
       "Arrest_Flag                   0\n",
       "Frisk_Flag                    0\n",
       "Precinct                      0\n",
       "Sector                        0\n",
       "Beat                          0\n",
       "dtype: int64"
      ]
     },
     "execution_count": 4,
     "metadata": {},
     "output_type": "execute_result"
    }
   ],
   "source": [
    "# Take a look to see if there are any null values in the data \n",
    "\n",
    "df.isna().sum()"
   ]
  },
  {
   "cell_type": "code",
   "execution_count": 5,
   "metadata": {},
   "outputs": [
    {
     "name": "stdout",
     "output_type": "stream",
     "text": [
      "<class 'pandas.core.frame.DataFrame'>\n",
      "RangeIndex: 48094 entries, 0 to 48093\n",
      "Data columns (total 23 columns):\n",
      "Subject_Age_Group           48094 non-null object\n",
      "Subject_ID                  48094 non-null int64\n",
      "GO_SC_Num                   48094 non-null int64\n",
      "Terry_Stop_ID               48094 non-null int64\n",
      "Stop_Resolution             48094 non-null object\n",
      "Weapon_Type                 48094 non-null object\n",
      "Officer_ID                  48094 non-null object\n",
      "Officer_YOB                 48094 non-null int64\n",
      "Officer_Gender              48094 non-null object\n",
      "Officer_Race                48094 non-null object\n",
      "Subject_Perceived_Race      48094 non-null object\n",
      "Subject_Perceived_Gender    48094 non-null object\n",
      "Reported_Date               48094 non-null object\n",
      "Reported_Time               48094 non-null object\n",
      "Initial_Call_Type           48094 non-null object\n",
      "Final_Call_Type             48094 non-null object\n",
      "Call_Type                   48094 non-null object\n",
      "Officer_Squad               47489 non-null object\n",
      "Arrest_Flag                 48094 non-null object\n",
      "Frisk_Flag                  48094 non-null object\n",
      "Precinct                    48094 non-null object\n",
      "Sector                      48094 non-null object\n",
      "Beat                        48094 non-null object\n",
      "dtypes: int64(4), object(19)\n",
      "memory usage: 8.4+ MB\n"
     ]
    }
   ],
   "source": [
    "# Interesting, because upon initial analysis, there are empty entries \n",
    "# in 'Subject Age Group', all of the 'Call Type' columns\n",
    "\n",
    "df.info()"
   ]
  },
  {
   "cell_type": "code",
   "execution_count": 6,
   "metadata": {},
   "outputs": [],
   "source": [
    "# investigate the columns that are mostly '-' to see if there is data \n",
    "# or if it's mostly null values"
   ]
  },
  {
   "cell_type": "code",
   "execution_count": 7,
   "metadata": {},
   "outputs": [
    {
     "name": "stdout",
     "output_type": "stream",
     "text": [
      "Subject Age Group: \n",
      " 26 - 35         16012\n",
      "36 - 45         10262\n",
      "18 - 25          9590\n",
      "46 - 55          6225\n",
      "56 and Above     2448\n",
      "1 - 17           1986\n",
      "-                1571\n",
      "Name: Subject_Age_Group, dtype: int64 \n",
      "\n",
      "Initial Call Type: \n",
      " -                                                 13207\n",
      "SUSPICIOUS STOP - OFFICER INITIATED ONVIEW         3221\n",
      "SUSPICIOUS PERSON, VEHICLE OR INCIDENT             3078\n",
      "DISTURBANCE, MISCELLANEOUS/OTHER                   2477\n",
      "ASLT - IP/JO - WITH OR W/O WPNS (NO SHOOTINGS)     2070\n",
      "                                                  ...  \n",
      "WARRANT PICKUP - FROM OTHER AGENCY                    1\n",
      "KNOWN KIDNAPPNG                                       1\n",
      "UNKNOWN - ANI/ALI - PAY PHNS (INCL OPEN LINE)         1\n",
      "DEMONSTRATIONS                                        1\n",
      "PHONE - OBSCENE OR NUISANCE PHONE CALLS               1\n",
      "Name: Initial_Call_Type, Length: 168, dtype: int64 \n",
      "\n",
      "Final Call Type: \n",
      " -                                                    13207\n",
      "--SUSPICIOUS CIRCUM. - SUSPICIOUS PERSON              3873\n",
      "--PROWLER - TRESPASS                                  3381\n",
      "--DISTURBANCE - OTHER                                 2775\n",
      "--ASSAULTS, OTHER                                     2344\n",
      "                                                     ...  \n",
      "TRAFFIC - MOVING VIOLATION                               1\n",
      "PROWLER                                                  1\n",
      "BIAS -RACIAL, POLITICAL, SEXUAL MOTIVATION               1\n",
      "WARRANT PICKUP - FROM OTHER AGENCY                       1\n",
      "--COMMERCIAL SEXUAL EXPLOITATION OF MINORS (CSEC)        1\n",
      "Name: Final_Call_Type, Length: 211, dtype: int64 \n",
      "\n",
      "Call Type: \n",
      " 911                              21844\n",
      "-                                13207\n",
      "ONVIEW                            9280\n",
      "TELEPHONE OTHER, NOT 911          3399\n",
      "ALARM CALL (NOT POLICE ALARM)      355\n",
      "TEXT MESSAGE                         8\n",
      "SCHEDULED EVENT (RECURRING)          1\n",
      "Name: Call_Type, dtype: int64 \n",
      "\n"
     ]
    }
   ],
   "source": [
    "print('Subject Age Group:' , '\\n', df['Subject_Age_Group'].value_counts(),'\\n')\n",
    "print('Initial Call Type:', '\\n', df['Initial_Call_Type'].value_counts(),'\\n')\n",
    "print('Final Call Type:', '\\n',  df['Final_Call_Type'].value_counts(), '\\n')\n",
    "print('Call Type:', \"\\n\", df['Call_Type'].value_counts(),'\\n')"
   ]
  },
  {
   "cell_type": "code",
   "execution_count": 8,
   "metadata": {},
   "outputs": [],
   "source": [
    "# From this it seems like \"Call Type\" is mostly unnecessary and can be dropped"
   ]
  },
  {
   "cell_type": "code",
   "execution_count": 9,
   "metadata": {},
   "outputs": [],
   "source": [
    "# Explore \"Arrest Flag\" as it is the target variable for this exploration. "
   ]
  },
  {
   "cell_type": "code",
   "execution_count": 10,
   "metadata": {},
   "outputs": [
    {
     "data": {
      "text/plain": [
       "N    44393\n",
       "Y     3701\n",
       "Name: Arrest_Flag, dtype: int64"
      ]
     },
     "execution_count": 10,
     "metadata": {},
     "output_type": "execute_result"
    }
   ],
   "source": [
    "df['Arrest_Flag'].value_counts()\n",
    "\n"
   ]
  },
  {
   "cell_type": "code",
   "execution_count": 11,
   "metadata": {},
   "outputs": [],
   "source": [
    "# Now explore factors like the races and genders of both the officers\n",
    "# and the people pulled over"
   ]
  },
  {
   "cell_type": "code",
   "execution_count": 12,
   "metadata": {},
   "outputs": [
    {
     "name": "stdout",
     "output_type": "stream",
     "text": [
      "Officer Gender: \n",
      " M    42583\n",
      "F     5482\n",
      "N       29\n",
      "Name: Officer_Gender, dtype: int64 \n",
      "\n",
      "Officer Race: \n",
      " White                            36238\n",
      "Hispanic or Latino                2803\n",
      "Two or More Races                 2741\n",
      "Asian                             2084\n",
      "Black or African American         1921\n",
      "Not Specified                     1496\n",
      "Nat Hawaiian/Oth Pac Islander      458\n",
      "American Indian/Alaska Native      318\n",
      "Unknown                             35\n",
      "Name: Officer_Race, dtype: int64 \n",
      "\n",
      "Subject Perceived Gender: \n",
      " Male                                                         37762\n",
      "Female                                                        9729\n",
      "Unable to Determine                                            326\n",
      "-                                                              235\n",
      "Unknown                                                         35\n",
      "Gender Diverse (gender non-conforming and/or transgender)        7\n",
      "Name: Subject_Perceived_Gender, dtype: int64 \n",
      "\n",
      "Subject Perceived Race: \n",
      " White                                        23501\n",
      "Black or African American                    14333\n",
      "Unknown                                       2747\n",
      "-                                             1850\n",
      "Hispanic                                      1684\n",
      "Asian                                         1575\n",
      "American Indian or Alaska Native              1378\n",
      "Multi-Racial                                   809\n",
      "Other                                          152\n",
      "Native Hawaiian or Other Pacific Islander       65\n",
      "Name: Subject_Perceived_Race, dtype: int64 \n",
      "\n"
     ]
    }
   ],
   "source": [
    "print('Officer Gender:' , '\\n', df['Officer_Gender'].value_counts(),'\\n')\n",
    "print('Officer Race:', '\\n', df['Officer_Race'].value_counts(),'\\n')\n",
    "print('Subject Perceived Gender:', '\\n',  df['Subject_Perceived_Gender'].value_counts(), '\\n')\n",
    "print('Subject Perceived Race:', \"\\n\", df['Subject_Perceived_Race'].value_counts(),'\\n')"
   ]
  },
  {
   "cell_type": "code",
   "execution_count": 13,
   "metadata": {},
   "outputs": [],
   "source": [
    "# There seem to be many different ways to say \"unknown\" in these columns\n",
    "# Let's combine the redundant values together"
   ]
  },
  {
   "cell_type": "code",
   "execution_count": 14,
   "metadata": {
    "scrolled": true
   },
   "outputs": [],
   "source": [
    "df['Officer_Race'] = df['Officer_Race'].apply(lambda x: \"Other\" if x in ['Not Specified', 'Unknown'] else x)\n",
    "df['Subject_Perceived_Gender'] = df['Subject_Perceived_Gender'].apply(lambda x: 'Unknown/GNC' if x in ['Unable to Determine', '-', 'Unknown', 'Gender Diverse (gender non-conforming and/or transgender)'] else x)\n",
    "df['Subject_Perceived_Race'] = df['Subject_Perceived_Race'].apply(lambda x: 'Unknown' if x in ['-', 'Other'] else x)"
   ]
  },
  {
   "cell_type": "code",
   "execution_count": 15,
   "metadata": {},
   "outputs": [
    {
     "name": "stdout",
     "output_type": "stream",
     "text": [
      "White                            36238\n",
      "Hispanic or Latino                2803\n",
      "Two or More Races                 2741\n",
      "Asian                             2084\n",
      "Black or African American         1921\n",
      "Other                             1531\n",
      "Nat Hawaiian/Oth Pac Islander      458\n",
      "American Indian/Alaska Native      318\n",
      "Name: Officer_Race, dtype: int64 \n",
      "\n",
      "Male           37762\n",
      "Female          9729\n",
      "Unknown/GNC      603\n",
      "Name: Subject_Perceived_Gender, dtype: int64 \n",
      "\n",
      "White                                        23501\n",
      "Black or African American                    14333\n",
      "Unknown                                       4749\n",
      "Hispanic                                      1684\n",
      "Asian                                         1575\n",
      "American Indian or Alaska Native              1378\n",
      "Multi-Racial                                   809\n",
      "Native Hawaiian or Other Pacific Islander       65\n",
      "Name: Subject_Perceived_Race, dtype: int64 \n",
      "\n"
     ]
    }
   ],
   "source": [
    "print(df['Officer_Race'].value_counts(), '\\n')\n",
    "print(df['Subject_Perceived_Gender'].value_counts(), '\\n')\n",
    "print(df['Subject_Perceived_Race'].value_counts(), '\\n')"
   ]
  },
  {
   "cell_type": "code",
   "execution_count": 16,
   "metadata": {},
   "outputs": [
    {
     "name": "stdout",
     "output_type": "stream",
     "text": [
      "<class 'pandas.core.frame.DataFrame'>\n",
      "RangeIndex: 48094 entries, 0 to 48093\n",
      "Data columns (total 23 columns):\n",
      "Subject_Age_Group           48094 non-null object\n",
      "Subject_ID                  48094 non-null int64\n",
      "GO_SC_Num                   48094 non-null int64\n",
      "Terry_Stop_ID               48094 non-null int64\n",
      "Stop_Resolution             48094 non-null object\n",
      "Weapon_Type                 48094 non-null object\n",
      "Officer_ID                  48094 non-null object\n",
      "Officer_YOB                 48094 non-null int64\n",
      "Officer_Gender              48094 non-null object\n",
      "Officer_Race                48094 non-null object\n",
      "Subject_Perceived_Race      48094 non-null object\n",
      "Subject_Perceived_Gender    48094 non-null object\n",
      "Reported_Date               48094 non-null object\n",
      "Reported_Time               48094 non-null object\n",
      "Initial_Call_Type           48094 non-null object\n",
      "Final_Call_Type             48094 non-null object\n",
      "Call_Type                   48094 non-null object\n",
      "Officer_Squad               47489 non-null object\n",
      "Arrest_Flag                 48094 non-null object\n",
      "Frisk_Flag                  48094 non-null object\n",
      "Precinct                    48094 non-null object\n",
      "Sector                      48094 non-null object\n",
      "Beat                        48094 non-null object\n",
      "dtypes: int64(4), object(19)\n",
      "memory usage: 8.4+ MB\n"
     ]
    }
   ],
   "source": [
    "# Also let's clean up the gender columns of both the officer and the \n",
    "# subject. Entries outside of the gender binary are miniscule compared\n",
    "# to Male and Female. \n",
    "\n",
    "df.info()"
   ]
  },
  {
   "cell_type": "code",
   "execution_count": 17,
   "metadata": {},
   "outputs": [
    {
     "name": "stdout",
     "output_type": "stream",
     "text": [
      "<class 'pandas.core.frame.DataFrame'>\n",
      "Int64Index: 47465 entries, 0 to 48093\n",
      "Data columns (total 23 columns):\n",
      "Subject_Age_Group           47465 non-null object\n",
      "Subject_ID                  47465 non-null int64\n",
      "GO_SC_Num                   47465 non-null int64\n",
      "Terry_Stop_ID               47465 non-null int64\n",
      "Stop_Resolution             47465 non-null object\n",
      "Weapon_Type                 47465 non-null object\n",
      "Officer_ID                  47465 non-null object\n",
      "Officer_YOB                 47465 non-null int64\n",
      "Officer_Gender              47465 non-null object\n",
      "Officer_Race                47465 non-null object\n",
      "Subject_Perceived_Race      47465 non-null object\n",
      "Subject_Perceived_Gender    47465 non-null object\n",
      "Reported_Date               47465 non-null object\n",
      "Reported_Time               47465 non-null object\n",
      "Initial_Call_Type           47465 non-null object\n",
      "Final_Call_Type             47465 non-null object\n",
      "Call_Type                   47465 non-null object\n",
      "Officer_Squad               46899 non-null object\n",
      "Arrest_Flag                 47465 non-null object\n",
      "Frisk_Flag                  47465 non-null object\n",
      "Precinct                    47465 non-null object\n",
      "Sector                      47465 non-null object\n",
      "Beat                        47465 non-null object\n",
      "dtypes: int64(4), object(19)\n",
      "memory usage: 8.7+ MB\n"
     ]
    }
   ],
   "source": [
    "df = df[df.Officer_Gender != 'N']\n",
    "df = df[df.Subject_Perceived_Gender != 'Unknown/GNC']\n",
    "df.info()"
   ]
  },
  {
   "cell_type": "code",
   "execution_count": 18,
   "metadata": {},
   "outputs": [
    {
     "data": {
      "text/plain": [
       "None                                    32033\n",
       "-                                       12586\n",
       "Lethal Cutting Instrument                1469\n",
       "Knife/Cutting/Stabbing Instrument         684\n",
       "Handgun                                   297\n",
       "Firearm Other                              93\n",
       "Blunt Object/Striking Implement            91\n",
       "Club, Blackjack, Brass Knuckles            49\n",
       "Firearm                                    43\n",
       "Mace/Pepper Spray                          30\n",
       "Other Firearm                              23\n",
       "Firearm (unk type)                         15\n",
       "Taser/Stun Gun                             10\n",
       "Club                                        9\n",
       "None/Not Applicable                         9\n",
       "Fire/Incendiary Device                      8\n",
       "Rifle                                       7\n",
       "Shotgun                                     3\n",
       "Personal Weapons (hands, feet, etc.)        2\n",
       "Automatic Handgun                           2\n",
       "Blackjack                                   1\n",
       "Brass Knuckles                              1\n",
       "Name: Weapon_Type, dtype: int64"
      ]
     },
     "execution_count": 18,
     "metadata": {},
     "output_type": "execute_result"
    }
   ],
   "source": [
    "df['Weapon_Type'].value_counts()"
   ]
  },
  {
   "cell_type": "code",
   "execution_count": 19,
   "metadata": {},
   "outputs": [],
   "source": [
    "# Drop Weapon type, there are far more null values than there are weapons"
   ]
  },
  {
   "cell_type": "code",
   "execution_count": 20,
   "metadata": {},
   "outputs": [
    {
     "data": {
      "text/plain": [
       "17:00:00    51\n",
       "02:56:00    51\n",
       "03:09:00    50\n",
       "03:13:00    49\n",
       "19:02:00    49\n",
       "            ..\n",
       "13:59:23     1\n",
       "17:17:42     1\n",
       "03:09:42     1\n",
       "16:00:09     1\n",
       "11:20:52     1\n",
       "Name: Reported_Time, Length: 13632, dtype: int64"
      ]
     },
     "execution_count": 20,
     "metadata": {},
     "output_type": "execute_result"
    }
   ],
   "source": [
    "df['Reported_Time'].value_counts()"
   ]
  },
  {
   "cell_type": "code",
   "execution_count": 21,
   "metadata": {},
   "outputs": [],
   "source": [
    "# There are 13K different times, let's create a new column that is just \n",
    "# the hours of the stops. "
   ]
  },
  {
   "cell_type": "code",
   "execution_count": 22,
   "metadata": {},
   "outputs": [],
   "source": [
    "df['Reported_Time'] = pd.to_datetime(df['Reported_Time'])\n",
    "df['Reported_Hour'] = df['Reported_Time'].apply(lambda x: x.hour)\n"
   ]
  },
  {
   "cell_type": "code",
   "execution_count": 23,
   "metadata": {},
   "outputs": [
    {
     "data": {
      "text/plain": [
       "18    2891\n",
       "2     2750\n",
       "19    2607\n",
       "3     2522\n",
       "17    2522\n",
       "1     2363\n",
       "23    2360\n",
       "16    2274\n",
       "0     2174\n",
       "15    2158\n",
       "14    2081\n",
       "22    2033\n",
       "11    1958\n",
       "10    1866\n",
       "13    1846\n",
       "21    1729\n",
       "12    1588\n",
       "5     1525\n",
       "9     1473\n",
       "4     1466\n",
       "20    1441\n",
       "8     1322\n",
       "7     1282\n",
       "6     1234\n",
       "Name: Reported_Hour, dtype: int64"
      ]
     },
     "execution_count": 23,
     "metadata": {},
     "output_type": "execute_result"
    }
   ],
   "source": [
    "df['Reported_Hour'].value_counts()"
   ]
  },
  {
   "cell_type": "code",
   "execution_count": 24,
   "metadata": {},
   "outputs": [],
   "source": [
    "# Now that those are divided, let's divide them into AM and PM and \n",
    "# create a new column. 0 is AM, 1 is PM"
   ]
  },
  {
   "cell_type": "code",
   "execution_count": 25,
   "metadata": {},
   "outputs": [
    {
     "name": "stdout",
     "output_type": "stream",
     "text": [
      "<class 'pandas.core.frame.DataFrame'>\n",
      "Int64Index: 47465 entries, 0 to 48093\n",
      "Data columns (total 25 columns):\n",
      "Subject_Age_Group           47465 non-null object\n",
      "Subject_ID                  47465 non-null int64\n",
      "GO_SC_Num                   47465 non-null int64\n",
      "Terry_Stop_ID               47465 non-null int64\n",
      "Stop_Resolution             47465 non-null object\n",
      "Weapon_Type                 47465 non-null object\n",
      "Officer_ID                  47465 non-null object\n",
      "Officer_YOB                 47465 non-null int64\n",
      "Officer_Gender              47465 non-null object\n",
      "Officer_Race                47465 non-null object\n",
      "Subject_Perceived_Race      47465 non-null object\n",
      "Subject_Perceived_Gender    47465 non-null object\n",
      "Reported_Date               47465 non-null object\n",
      "Reported_Time               47465 non-null datetime64[ns]\n",
      "Initial_Call_Type           47465 non-null object\n",
      "Final_Call_Type             47465 non-null object\n",
      "Call_Type                   47465 non-null object\n",
      "Officer_Squad               46899 non-null object\n",
      "Arrest_Flag                 47465 non-null object\n",
      "Frisk_Flag                  47465 non-null object\n",
      "Precinct                    47465 non-null object\n",
      "Sector                      47465 non-null object\n",
      "Beat                        47465 non-null object\n",
      "Reported_Hour               47465 non-null int64\n",
      "Reported_AM_or_PM           47465 non-null int64\n",
      "dtypes: datetime64[ns](1), int64(6), object(18)\n",
      "memory usage: 9.4+ MB\n"
     ]
    }
   ],
   "source": [
    "df['Reported_AM_or_PM'] = df['Reported_Hour'].apply(lambda x: \"0\" if x <12 else \"1\")\n",
    "df['Reported_AM_or_PM'] = df['Reported_AM_or_PM'].astype(int)\n",
    "df.info()"
   ]
  },
  {
   "cell_type": "code",
   "execution_count": 26,
   "metadata": {},
   "outputs": [
    {
     "data": {
      "text/plain": [
       "1    25530\n",
       "0    21935\n",
       "Name: Reported_AM_or_PM, dtype: int64"
      ]
     },
     "execution_count": 26,
     "metadata": {},
     "output_type": "execute_result"
    }
   ],
   "source": [
    "df['Reported_AM_or_PM'].value_counts()"
   ]
  },
  {
   "cell_type": "code",
   "execution_count": 27,
   "metadata": {},
   "outputs": [
    {
     "data": {
      "text/plain": [
       "N    36297\n",
       "Y    10748\n",
       "-      420\n",
       "Name: Frisk_Flag, dtype: int64"
      ]
     },
     "execution_count": 27,
     "metadata": {},
     "output_type": "execute_result"
    }
   ],
   "source": [
    "df['Frisk_Flag'].value_counts()"
   ]
  },
  {
   "cell_type": "code",
   "execution_count": 28,
   "metadata": {},
   "outputs": [],
   "source": [
    "df = df[df.Frisk_Flag != '-']\n",
    "df['Frisk_Flag'] = df['Frisk_Flag'].apply(lambda x: \"0\" if x =='N' else '1')\n"
   ]
  },
  {
   "cell_type": "code",
   "execution_count": 29,
   "metadata": {
    "scrolled": true
   },
   "outputs": [
    {
     "data": {
      "text/plain": [
       "0    36297\n",
       "1    10748\n",
       "Name: Frisk_Flag, dtype: int64"
      ]
     },
     "execution_count": 29,
     "metadata": {},
     "output_type": "execute_result"
    }
   ],
   "source": [
    "df['Frisk_Flag'].value_counts()"
   ]
  },
  {
   "cell_type": "code",
   "execution_count": 30,
   "metadata": {},
   "outputs": [],
   "source": [
    "# Columns with many null values and individual officer classifiers"
   ]
  },
  {
   "cell_type": "code",
   "execution_count": 31,
   "metadata": {},
   "outputs": [],
   "source": [
    "df.drop(['Subject_ID', 'GO_SC_Num', 'Terry_Stop_ID', 'Weapon_Type', \n",
    "        'Officer_ID', 'Initial_Call_Type', 'Final_Call_Type', 'Call_Type', \n",
    "        'Officer_Squad', 'Precinct', 'Sector', 'Beat', 'Reported_Date',\n",
    "        'Stop_Resolution', 'Officer_YOB','Reported_Time'], axis=1, inplace=True)"
   ]
  },
  {
   "cell_type": "code",
   "execution_count": 32,
   "metadata": {},
   "outputs": [
    {
     "data": {
      "text/plain": [
       "Index(['Subject_Age_Group', 'Officer_Gender', 'Officer_Race',\n",
       "       'Subject_Perceived_Race', 'Subject_Perceived_Gender', 'Arrest_Flag',\n",
       "       'Frisk_Flag', 'Reported_Hour', 'Reported_AM_or_PM'],\n",
       "      dtype='object')"
      ]
     },
     "execution_count": 32,
     "metadata": {},
     "output_type": "execute_result"
    }
   ],
   "source": [
    "df.columns"
   ]
  },
  {
   "cell_type": "markdown",
   "metadata": {},
   "source": [
    "# Step 2: Visualize the Data"
   ]
  },
  {
   "cell_type": "code",
   "execution_count": 33,
   "metadata": {},
   "outputs": [],
   "source": [
    "# Begin visualization of cleaned data, starting with a visualizaiton of \n",
    "# our target variable, Arrest Counts"
   ]
  },
  {
   "cell_type": "code",
   "execution_count": 34,
   "metadata": {},
   "outputs": [
    {
     "name": "stdout",
     "output_type": "stream",
     "text": [
      "Target Variable: Arrest Counts\n",
      "Total Arrests:  3696\n",
      "Total of Non-arrests:  43349\n"
     ]
    },
    {
     "data": {
      "image/png": "[encoded data removed]",
      "text/plain": [
       "<Figure size 720x360 with 1 Axes>"
      ]
     },
     "metadata": {},
     "output_type": "display_data"
    }
   ],
   "source": [
    "arrests = df['Arrest_Flag']=='Y'\n",
    "non_arrests = df['Arrest_Flag']=='N'\n",
    "y = df['Arrest_Flag']\n",
    "num_of_arrests = df[arrests].shape[0]\n",
    "num_of_nonarrests = df[non_arrests].shape[0]\n",
    "\n",
    "print('Target Variable: Arrest Counts')\n",
    "print('Total Arrests: ', num_of_arrests)\n",
    "print('Total of Non-arrests: ', num_of_nonarrests)\n",
    "\n",
    "sns.set_style('darkgrid');\n",
    "plt.figure(figsize = (10,5));\n",
    "sns.countplot(df['Arrest_Flag'], alpha = .80, palette= ['blue', 'red'])\n",
    "plt.title('Arrests & Non-Arrests');\n",
    "plt.ylabel('Number of people pulled over');\n",
    "plt.show()"
   ]
  },
  {
   "cell_type": "code",
   "execution_count": 35,
   "metadata": {},
   "outputs": [],
   "source": [
    "# Create bar charts to compare different columns against the arrrest data"
   ]
  },
  {
   "cell_type": "code",
   "execution_count": 36,
   "metadata": {},
   "outputs": [
    {
     "name": "stdout",
     "output_type": "stream",
     "text": [
      "<class 'pandas.core.frame.DataFrame'>\n",
      "Int64Index: 47045 entries, 0 to 48093\n",
      "Data columns (total 9 columns):\n",
      "Subject_Age_Group           47045 non-null object\n",
      "Officer_Gender              47045 non-null object\n",
      "Officer_Race                47045 non-null object\n",
      "Subject_Perceived_Race      47045 non-null object\n",
      "Subject_Perceived_Gender    47045 non-null object\n",
      "Arrest_Flag                 47045 non-null object\n",
      "Frisk_Flag                  47045 non-null object\n",
      "Reported_Hour               47045 non-null int64\n",
      "Reported_AM_or_PM           47045 non-null int64\n",
      "dtypes: int64(2), object(7)\n",
      "memory usage: 4.8+ MB\n"
     ]
    }
   ],
   "source": [
    "df.info()"
   ]
  },
  {
   "cell_type": "code",
   "execution_count": 37,
   "metadata": {},
   "outputs": [
    {
     "name": "stdout",
     "output_type": "stream",
     "text": [
      "Subject Age Group\n",
      "\n",
      "Arrest_Flag            N     Y  Percentage of Arrests\n",
      "Subject_Age_Group                                    \n",
      "-                   1066    21               1.931923\n",
      "1 - 17              1885    75               3.826531\n",
      "18 - 25             8832   616               6.519898\n",
      "26 - 35            14488  1341               8.471792\n",
      "36 - 45             9207   943               9.290640\n",
      "46 - 55             5658   492               8.000000\n",
      "56 and Above        2213   208               8.591491\n"
     ]
    },
    {
     "data": {
      "image/png": "[encoded data removed]",
      "text/plain": [
       "<Figure size 432x288 with 1 Axes>"
      ]
     },
     "metadata": {},
     "output_type": "display_data"
    }
   ],
   "source": [
    "subject_age_group = df.groupby(['Subject_Age_Group', 'Arrest_Flag']).Subject_Age_Group.count().unstack()\n",
    "subject_age_group['Percentage of Arrests'] = (subject_age_group['Y'] / (subject_age_group.sum(axis=1)))*100 \n",
    "print('Subject Age Group\\n')\n",
    "print(subject_age_group)\n",
    "\n",
    "viz_1 = subject_age_group.plot(kind = 'bar', stacked = True,\n",
    "                           title = \"People Pulled Over By Age: Arrested v Not Arrested\",\n",
    "                           color = ['blue', 'red', 'white'], alpha = .70, rot=30)\n"
   ]
  },
  {
   "cell_type": "code",
   "execution_count": 38,
   "metadata": {},
   "outputs": [
    {
     "name": "stdout",
     "output_type": "stream",
     "text": [
      "Subject Perceived Race\n",
      "\n",
      "Arrest_Flag                                      N       Y  \\\n",
      "Subject_Perceived_Race                                       \n",
      "American Indian or Alaska Native            1260.0    99.0   \n",
      "Asian                                       1400.0   160.0   \n",
      "Black or African American                  12937.0  1245.0   \n",
      "Hispanic                                    1664.0     NaN   \n",
      "Multi-Racial                                 778.0     NaN   \n",
      "Native Hawaiian or Other Pacific Islander     47.0    18.0   \n",
      "Unknown                                     3836.0   369.0   \n",
      "White                                      21427.0  1805.0   \n",
      "\n",
      "Arrest_Flag                                Percentage of Arrests  \n",
      "Subject_Perceived_Race                                            \n",
      "American Indian or Alaska Native                        7.284768  \n",
      "Asian                                                  10.256410  \n",
      "Black or African American                               8.778734  \n",
      "Hispanic                                                     NaN  \n",
      "Multi-Racial                                                 NaN  \n",
      "Native Hawaiian or Other Pacific Islander              27.692308  \n",
      "Unknown                                                 8.775268  \n",
      "White                                                   7.769456  \n"
     ]
    },
    {
     "data": {
      "image/png": "[encoded data removed]",
      "text/plain": [
       "<Figure size 432x288 with 1 Axes>"
      ]
     },
     "metadata": {},
     "output_type": "display_data"
    }
   ],
   "source": [
    "subject_perceived_race = df.groupby(['Subject_Perceived_Race', 'Arrest_Flag']).Subject_Perceived_Race.count().unstack()\n",
    "subject_perceived_race['Percentage of Arrests'] = (subject_perceived_race['Y'] / (subject_perceived_race.sum(axis=1)))*100 \n",
    "print('Subject Perceived Race\\n')\n",
    "print(subject_perceived_race)\n",
    "\n",
    "viz_2 = subject_perceived_race.plot(kind = 'bar', stacked = True,\n",
    "                                   title = 'People Pulled Over by Perceived Race:\\n Arrested v Not Arrested',\n",
    "                                   color = ['blue', 'red','white'], alpha = .80, rot=90)\n"
   ]
  },
  {
   "cell_type": "code",
   "execution_count": 39,
   "metadata": {},
   "outputs": [],
   "source": [
    "# It appears Native Hawaiian/Pacific Islanders have the highest percentage\n",
    "# of arrests made after a Terry stop with nearly 28%. While important to note\n",
    "# there were only 65 total stops of the nearly 48,000 total in the data set. \n",
    "# The next highest was Asian with 10.1% , with black, white, and American \n",
    "# Indian. Hispanic and Multiracial had 0 arrests. "
   ]
  },
  {
   "cell_type": "code",
   "execution_count": 40,
   "metadata": {},
   "outputs": [
    {
     "name": "stdout",
     "output_type": "stream",
     "text": [
      "Subject Perceived Gender\n",
      "\n",
      "Arrest_Flag                   N     Y  Percentage of Arrests\n",
      "Subject_Perceived_Gender                                    \n",
      "Female                     8977   657               6.819597\n",
      "Male                      34372  3039               8.123279\n"
     ]
    },
    {
     "data": {
      "image/png": "[encoded data removed]",
      "text/plain": [
       "<Figure size 432x288 with 1 Axes>"
      ]
     },
     "metadata": {},
     "output_type": "display_data"
    }
   ],
   "source": [
    "subject_perceived_gender = df.groupby(['Subject_Perceived_Gender', 'Arrest_Flag']).Subject_Perceived_Gender.count().unstack()\n",
    "subject_perceived_gender['Percentage of Arrests'] = (subject_perceived_gender['Y'] / (subject_perceived_gender.sum(axis=1)))*100 \n",
    "\n",
    "\n",
    "print('Subject Perceived Gender\\n')\n",
    "print(subject_perceived_gender)\n",
    "\n",
    "viz_3 = subject_perceived_gender.plot(kind = 'bar', stacked = True,\n",
    "                                   title = 'People Pulled Over by Perceived Gender:\\n Arrested v Not Arrested',\n",
    "                                   color = ['blue', 'red','white'], alpha = .80, rot = 30)\n"
   ]
  },
  {
   "cell_type": "code",
   "execution_count": 41,
   "metadata": {},
   "outputs": [],
   "source": [
    "# Male subjects were arrest 8% of the time while female subjects were \n",
    "# arrested 6.75%. While the male subjects were stopped nearly 4 times the rate\n",
    "# of female, their arrest percentage was surprisingly close"
   ]
  },
  {
   "cell_type": "code",
   "execution_count": 42,
   "metadata": {},
   "outputs": [
    {
     "name": "stdout",
     "output_type": "stream",
     "text": [
      "Officer Gender\n",
      "\n",
      "Arrest_Flag         N     Y  Percentage of Arrests\n",
      "Officer_Gender                                    \n",
      "F                4953   439               8.141691\n",
      "M               38396  3257               7.819365\n"
     ]
    },
    {
     "data": {
      "image/png": "[encoded data removed]",
      "text/plain": [
       "<Figure size 432x288 with 1 Axes>"
      ]
     },
     "metadata": {},
     "output_type": "display_data"
    }
   ],
   "source": [
    "officer_gender = df.groupby(['Officer_Gender', 'Arrest_Flag']).Officer_Gender.count().unstack()\n",
    "officer_gender['Percentage of Arrests'] = (officer_gender['Y'] / (officer_gender.sum(axis=1)))*100 \n",
    "\n",
    "print('Officer Gender\\n')\n",
    "print(officer_gender)\n",
    "\n",
    "viz_4 = officer_gender.plot(kind = 'bar', stacked = True,\n",
    "                                   title = 'Officers by Gender:\\n Arrested v Not Arrested',\n",
    "                                   color = ['blue', 'red','white'], alpha = .80, rot=0)\n"
   ]
  },
  {
   "cell_type": "code",
   "execution_count": 43,
   "metadata": {},
   "outputs": [],
   "source": [
    "# Interestingly, the officer gender revealed itself to be almost the oppostie\n",
    "# Female cops arrested individuals 8% of those pulled over, while male officers\n",
    "# arrested at a rate of 7.75%. "
   ]
  },
  {
   "cell_type": "code",
   "execution_count": 44,
   "metadata": {},
   "outputs": [
    {
     "name": "stdout",
     "output_type": "stream",
     "text": [
      "Officer Race\n",
      "\n",
      "Arrest_Flag                        N     Y  Percentage of Arrests\n",
      "Officer_Race                                                     \n",
      "American Indian/Alaska Native    299     5               1.644737\n",
      "Asian                           1813   204              10.114031\n",
      "Black or African American       1716   125               6.789788\n",
      "Hispanic or Latino              2460   303              10.966341\n",
      "Nat Hawaiian/Oth Pac Islander    421    24               5.393258\n",
      "Other                           1422    42               2.868852\n",
      "Two or More Races               2412   307              11.290916\n",
      "White                          32806  2686               7.567903\n"
     ]
    },
    {
     "data": {
      "image/png": "[encoded data removed]",
      "text/plain": [
       "<Figure size 432x288 with 1 Axes>"
      ]
     },
     "metadata": {},
     "output_type": "display_data"
    }
   ],
   "source": [
    "officer_race = df.groupby(['Officer_Race', 'Arrest_Flag']).Subject_Perceived_Race.count().unstack()\n",
    "officer_race['Percentage of Arrests'] = (officer_race['Y'] / (officer_race.sum(axis=1)))*100 \n",
    "\n",
    "print('Officer Race\\n')\n",
    "print(officer_race)\n",
    "\n",
    "viz_5 = officer_race.plot(kind = 'bar', stacked = True,\n",
    "                                   title = 'Officers by Race:\\n Arrested v Not Arrested',\n",
    "                                   color = ['blue', 'red','white'], alpha = .80, rot=90)\n"
   ]
  },
  {
   "cell_type": "code",
   "execution_count": 45,
   "metadata": {},
   "outputs": [],
   "source": [
    "# While white officers make up nearly 3 times the cops of all other races\n",
    "# combined, they were actually in the middle of the pack in terms of \n",
    "# arrests made. Officers of two + races, Hispanic/Latino, and Asian officers\n",
    "# were arresting at around 10/11%. "
   ]
  },
  {
   "cell_type": "code",
   "execution_count": 46,
   "metadata": {
    "scrolled": true
   },
   "outputs": [
    {
     "name": "stdout",
     "output_type": "stream",
     "text": [
      "Reported AM or PM\n",
      "\n",
      "Arrest_Flag            N     Y  Percentage of Arrests\n",
      "Reported_AM_or_PM                                    \n",
      "0                  19975  1753               8.067931\n",
      "1                  23374  1943               7.674685\n"
     ]
    },
    {
     "data": {
      "image/png": "[encoded data removed]",
      "text/plain": [
       "<Figure size 432x288 with 1 Axes>"
      ]
     },
     "metadata": {},
     "output_type": "display_data"
    }
   ],
   "source": [
    "am_or_pm = df.groupby(['Reported_AM_or_PM', 'Arrest_Flag']).Reported_AM_or_PM.count().unstack()\n",
    "am_or_pm['Percentage of Arrests'] = (am_or_pm['Y'] / (am_or_pm.sum(axis=1)))*100 \n",
    "\n",
    "print('Reported AM or PM\\n')\n",
    "print(am_or_pm)\n",
    "\n",
    "viz_6 = am_or_pm.plot(kind = 'bar', stacked = True,\n",
    "                                   title = 'Time of Day (AM or PM):\\n Arrested v Not Arrested',\n",
    "                                   color = ['blue', 'red','white'], alpha = .80, rot=0)\n"
   ]
  },
  {
   "cell_type": "code",
   "execution_count": 47,
   "metadata": {},
   "outputs": [],
   "source": [
    "# There are more Terry stops in the PM hours than AM, however the percentages\n",
    "# are less than 0.3% apart. "
   ]
  },
  {
   "cell_type": "code",
   "execution_count": 48,
   "metadata": {},
   "outputs": [
    {
     "name": "stdout",
     "output_type": "stream",
     "text": [
      "Reported Hour\n",
      "\n",
      "Arrest_Flag       N    Y  Percentage of Arrests\n",
      "Reported_Hour                                  \n",
      "0              1998  165               7.628294\n",
      "1              2152  198               8.425532\n",
      "2              2535  190               6.972477\n",
      "3              2321  172               6.899318\n",
      "4              1334  112               7.745505\n",
      "5              1381  123               8.178191\n",
      "6              1119  100               8.203445\n",
      "7              1184   88               6.918239\n",
      "8              1198  113               8.619375\n",
      "9              1318  133               9.166092\n",
      "10             1695  157               8.477322\n",
      "11             1740  202              10.401648\n",
      "12             1415  170              10.725552\n",
      "13             1687  141               7.713348\n",
      "14             1920  140               6.796117\n",
      "15             1982  154               7.209738\n",
      "16             2103  152               6.740576\n",
      "17             2310  192               7.673861\n",
      "18             2677  191               6.659693\n",
      "19             2370  216               8.352668\n",
      "20             1298  132               9.230769\n",
      "21             1594  121               7.055394\n",
      "22             1864  149               7.401888\n",
      "23             2154  185               7.909363\n"
     ]
    },
    {
     "data": {
      "image/png": "[encoded data removed]",
      "text/plain": [
       "<Figure size 432x288 with 1 Axes>"
      ]
     },
     "metadata": {},
     "output_type": "display_data"
    }
   ],
   "source": [
    "hour_of_day = df.groupby(['Reported_Hour', 'Arrest_Flag']).Reported_Hour.count().unstack()\n",
    "hour_of_day['Percentage of Arrests'] = (hour_of_day['Y'] / (hour_of_day.sum(axis=1)))*100 \n",
    "\n",
    "print('Reported Hour\\n')\n",
    "print(hour_of_day)\n",
    "\n",
    "viz_7 = hour_of_day.plot(kind = 'bar', stacked = True,\n",
    "                                   title = 'Hour of Day:\\n Arrested v Not Arrested',\n",
    "                                   color = ['blue', 'red'], alpha = .80, rot=0)\n"
   ]
  },
  {
   "cell_type": "code",
   "execution_count": 49,
   "metadata": {},
   "outputs": [],
   "source": [
    "# Looking at the data, arrests ebb and flow depending on time of day, \n",
    "# with peaks at midnight to 3am and 4pm to 7pm. However the highest\n",
    "# percentage of arrests made at 11am and 12pm, over 1 percentage point\n",
    "#away from the next two closest hours at 9am and 8pm. "
   ]
  },
  {
   "cell_type": "markdown",
   "metadata": {},
   "source": [
    "# Step 3: Model the Data"
   ]
  },
  {
   "cell_type": "code",
   "execution_count": 50,
   "metadata": {},
   "outputs": [],
   "source": [
    "# Now that we've cleaned and visualized the data, now let's fit it into\n",
    "# model. First starting with OneHotEncoding the categorical data\n"
   ]
  },
  {
   "cell_type": "code",
   "execution_count": 51,
   "metadata": {
    "scrolled": true
   },
   "outputs": [
    {
     "data": {
      "text/html": [
       "<div>\n",
       "<style scoped>\n",
       "    .dataframe tbody tr th:only-of-type {\n",
       "        vertical-align: middle;\n",
       "    }\n",
       "\n",
       "    .dataframe tbody tr th {\n",
       "        vertical-align: top;\n",
       "    }\n",
       "\n",
       "    .dataframe thead th {\n",
       "        text-align: right;\n",
       "    }\n",
       "</style>\n",
       "<table border=\"1\" class=\"dataframe\">\n",
       "  <thead>\n",
       "    <tr style=\"text-align: right;\">\n",
       "      <th></th>\n",
       "      <th>Subject_Age_Group_-</th>\n",
       "      <th>Subject_Age_Group_1 - 17</th>\n",
       "      <th>Subject_Age_Group_18 - 25</th>\n",
       "      <th>Subject_Age_Group_26 - 35</th>\n",
       "      <th>Subject_Age_Group_36 - 45</th>\n",
       "      <th>Subject_Age_Group_46 - 55</th>\n",
       "      <th>Subject_Age_Group_56 and Above</th>\n",
       "      <th>Officer_Gender_F</th>\n",
       "      <th>Officer_Gender_M</th>\n",
       "      <th>Subject_Perceived_Gender_Female</th>\n",
       "      <th>Subject_Perceived_Gender_Male</th>\n",
       "      <th>Officer_Race_American Indian/Alaska Native</th>\n",
       "      <th>Officer_Race_Asian</th>\n",
       "      <th>Officer_Race_Black or African American</th>\n",
       "      <th>Officer_Race_Hispanic or Latino</th>\n",
       "      <th>Officer_Race_Nat Hawaiian/Oth Pac Islander</th>\n",
       "      <th>Officer_Race_Other</th>\n",
       "      <th>Officer_Race_Two or More Races</th>\n",
       "      <th>Officer_Race_White</th>\n",
       "      <th>Subject_Perceived_Race_American Indian or Alaska Native</th>\n",
       "      <th>Subject_Perceived_Race_Asian</th>\n",
       "      <th>Subject_Perceived_Race_Black or African American</th>\n",
       "      <th>Subject_Perceived_Race_Hispanic</th>\n",
       "      <th>Subject_Perceived_Race_Multi-Racial</th>\n",
       "      <th>Subject_Perceived_Race_Native Hawaiian or Other Pacific Islander</th>\n",
       "      <th>Subject_Perceived_Race_Unknown</th>\n",
       "      <th>Subject_Perceived_Race_White</th>\n",
       "      <th>Frisk_Flag_0</th>\n",
       "      <th>Frisk_Flag_1</th>\n",
       "      <th>Reported_Hour_0</th>\n",
       "      <th>Reported_Hour_1</th>\n",
       "      <th>Reported_Hour_2</th>\n",
       "      <th>Reported_Hour_3</th>\n",
       "      <th>Reported_Hour_4</th>\n",
       "      <th>Reported_Hour_5</th>\n",
       "      <th>Reported_Hour_6</th>\n",
       "      <th>Reported_Hour_7</th>\n",
       "      <th>Reported_Hour_8</th>\n",
       "      <th>Reported_Hour_9</th>\n",
       "      <th>Reported_Hour_10</th>\n",
       "      <th>Reported_Hour_11</th>\n",
       "      <th>Reported_Hour_12</th>\n",
       "      <th>Reported_Hour_13</th>\n",
       "      <th>Reported_Hour_14</th>\n",
       "      <th>Reported_Hour_15</th>\n",
       "      <th>Reported_Hour_16</th>\n",
       "      <th>Reported_Hour_17</th>\n",
       "      <th>Reported_Hour_18</th>\n",
       "      <th>Reported_Hour_19</th>\n",
       "      <th>Reported_Hour_20</th>\n",
       "      <th>Reported_Hour_21</th>\n",
       "      <th>Reported_Hour_22</th>\n",
       "      <th>Reported_Hour_23</th>\n",
       "      <th>Reported_AM_or_PM_0</th>\n",
       "      <th>Reported_AM_or_PM_1</th>\n",
       "    </tr>\n",
       "  </thead>\n",
       "  <tbody>\n",
       "    <tr>\n",
       "      <th>0</th>\n",
       "      <td>1</td>\n",
       "      <td>0</td>\n",
       "      <td>0</td>\n",
       "      <td>0</td>\n",
       "      <td>0</td>\n",
       "      <td>0</td>\n",
       "      <td>0</td>\n",
       "      <td>0</td>\n",
       "      <td>1</td>\n",
       "      <td>0</td>\n",
       "      <td>1</td>\n",
       "      <td>0</td>\n",
       "      <td>0</td>\n",
       "      <td>1</td>\n",
       "      <td>0</td>\n",
       "      <td>0</td>\n",
       "      <td>0</td>\n",
       "      <td>0</td>\n",
       "      <td>0</td>\n",
       "      <td>0</td>\n",
       "      <td>1</td>\n",
       "      <td>0</td>\n",
       "      <td>0</td>\n",
       "      <td>0</td>\n",
       "      <td>0</td>\n",
       "      <td>0</td>\n",
       "      <td>0</td>\n",
       "      <td>1</td>\n",
       "      <td>0</td>\n",
       "      <td>0</td>\n",
       "      <td>0</td>\n",
       "      <td>0</td>\n",
       "      <td>0</td>\n",
       "      <td>0</td>\n",
       "      <td>0</td>\n",
       "      <td>0</td>\n",
       "      <td>0</td>\n",
       "      <td>0</td>\n",
       "      <td>0</td>\n",
       "      <td>0</td>\n",
       "      <td>1</td>\n",
       "      <td>0</td>\n",
       "      <td>0</td>\n",
       "      <td>0</td>\n",
       "      <td>0</td>\n",
       "      <td>0</td>\n",
       "      <td>0</td>\n",
       "      <td>0</td>\n",
       "      <td>0</td>\n",
       "      <td>0</td>\n",
       "      <td>0</td>\n",
       "      <td>0</td>\n",
       "      <td>0</td>\n",
       "      <td>1</td>\n",
       "      <td>0</td>\n",
       "    </tr>\n",
       "    <tr>\n",
       "      <th>4</th>\n",
       "      <td>1</td>\n",
       "      <td>0</td>\n",
       "      <td>0</td>\n",
       "      <td>0</td>\n",
       "      <td>0</td>\n",
       "      <td>0</td>\n",
       "      <td>0</td>\n",
       "      <td>0</td>\n",
       "      <td>1</td>\n",
       "      <td>0</td>\n",
       "      <td>1</td>\n",
       "      <td>0</td>\n",
       "      <td>0</td>\n",
       "      <td>0</td>\n",
       "      <td>0</td>\n",
       "      <td>0</td>\n",
       "      <td>0</td>\n",
       "      <td>0</td>\n",
       "      <td>1</td>\n",
       "      <td>0</td>\n",
       "      <td>0</td>\n",
       "      <td>1</td>\n",
       "      <td>0</td>\n",
       "      <td>0</td>\n",
       "      <td>0</td>\n",
       "      <td>0</td>\n",
       "      <td>0</td>\n",
       "      <td>1</td>\n",
       "      <td>0</td>\n",
       "      <td>1</td>\n",
       "      <td>0</td>\n",
       "      <td>0</td>\n",
       "      <td>0</td>\n",
       "      <td>0</td>\n",
       "      <td>0</td>\n",
       "      <td>0</td>\n",
       "      <td>0</td>\n",
       "      <td>0</td>\n",
       "      <td>0</td>\n",
       "      <td>0</td>\n",
       "      <td>0</td>\n",
       "      <td>0</td>\n",
       "      <td>0</td>\n",
       "      <td>0</td>\n",
       "      <td>0</td>\n",
       "      <td>0</td>\n",
       "      <td>0</td>\n",
       "      <td>0</td>\n",
       "      <td>0</td>\n",
       "      <td>0</td>\n",
       "      <td>0</td>\n",
       "      <td>0</td>\n",
       "      <td>0</td>\n",
       "      <td>1</td>\n",
       "      <td>0</td>\n",
       "    </tr>\n",
       "    <tr>\n",
       "      <th>5</th>\n",
       "      <td>1</td>\n",
       "      <td>0</td>\n",
       "      <td>0</td>\n",
       "      <td>0</td>\n",
       "      <td>0</td>\n",
       "      <td>0</td>\n",
       "      <td>0</td>\n",
       "      <td>0</td>\n",
       "      <td>1</td>\n",
       "      <td>0</td>\n",
       "      <td>1</td>\n",
       "      <td>0</td>\n",
       "      <td>0</td>\n",
       "      <td>0</td>\n",
       "      <td>0</td>\n",
       "      <td>0</td>\n",
       "      <td>0</td>\n",
       "      <td>0</td>\n",
       "      <td>1</td>\n",
       "      <td>0</td>\n",
       "      <td>0</td>\n",
       "      <td>1</td>\n",
       "      <td>0</td>\n",
       "      <td>0</td>\n",
       "      <td>0</td>\n",
       "      <td>0</td>\n",
       "      <td>0</td>\n",
       "      <td>1</td>\n",
       "      <td>0</td>\n",
       "      <td>0</td>\n",
       "      <td>0</td>\n",
       "      <td>0</td>\n",
       "      <td>0</td>\n",
       "      <td>0</td>\n",
       "      <td>0</td>\n",
       "      <td>0</td>\n",
       "      <td>0</td>\n",
       "      <td>0</td>\n",
       "      <td>0</td>\n",
       "      <td>0</td>\n",
       "      <td>0</td>\n",
       "      <td>0</td>\n",
       "      <td>0</td>\n",
       "      <td>0</td>\n",
       "      <td>0</td>\n",
       "      <td>0</td>\n",
       "      <td>0</td>\n",
       "      <td>0</td>\n",
       "      <td>0</td>\n",
       "      <td>0</td>\n",
       "      <td>0</td>\n",
       "      <td>0</td>\n",
       "      <td>1</td>\n",
       "      <td>0</td>\n",
       "      <td>1</td>\n",
       "    </tr>\n",
       "    <tr>\n",
       "      <th>6</th>\n",
       "      <td>1</td>\n",
       "      <td>0</td>\n",
       "      <td>0</td>\n",
       "      <td>0</td>\n",
       "      <td>0</td>\n",
       "      <td>0</td>\n",
       "      <td>0</td>\n",
       "      <td>0</td>\n",
       "      <td>1</td>\n",
       "      <td>1</td>\n",
       "      <td>0</td>\n",
       "      <td>0</td>\n",
       "      <td>0</td>\n",
       "      <td>0</td>\n",
       "      <td>1</td>\n",
       "      <td>0</td>\n",
       "      <td>0</td>\n",
       "      <td>0</td>\n",
       "      <td>0</td>\n",
       "      <td>0</td>\n",
       "      <td>0</td>\n",
       "      <td>0</td>\n",
       "      <td>0</td>\n",
       "      <td>0</td>\n",
       "      <td>0</td>\n",
       "      <td>1</td>\n",
       "      <td>0</td>\n",
       "      <td>1</td>\n",
       "      <td>0</td>\n",
       "      <td>0</td>\n",
       "      <td>0</td>\n",
       "      <td>0</td>\n",
       "      <td>0</td>\n",
       "      <td>0</td>\n",
       "      <td>0</td>\n",
       "      <td>0</td>\n",
       "      <td>0</td>\n",
       "      <td>0</td>\n",
       "      <td>0</td>\n",
       "      <td>0</td>\n",
       "      <td>0</td>\n",
       "      <td>0</td>\n",
       "      <td>0</td>\n",
       "      <td>0</td>\n",
       "      <td>0</td>\n",
       "      <td>0</td>\n",
       "      <td>0</td>\n",
       "      <td>0</td>\n",
       "      <td>0</td>\n",
       "      <td>0</td>\n",
       "      <td>1</td>\n",
       "      <td>0</td>\n",
       "      <td>0</td>\n",
       "      <td>0</td>\n",
       "      <td>1</td>\n",
       "    </tr>\n",
       "    <tr>\n",
       "      <th>7</th>\n",
       "      <td>1</td>\n",
       "      <td>0</td>\n",
       "      <td>0</td>\n",
       "      <td>0</td>\n",
       "      <td>0</td>\n",
       "      <td>0</td>\n",
       "      <td>0</td>\n",
       "      <td>0</td>\n",
       "      <td>1</td>\n",
       "      <td>0</td>\n",
       "      <td>1</td>\n",
       "      <td>0</td>\n",
       "      <td>0</td>\n",
       "      <td>0</td>\n",
       "      <td>1</td>\n",
       "      <td>0</td>\n",
       "      <td>0</td>\n",
       "      <td>0</td>\n",
       "      <td>0</td>\n",
       "      <td>0</td>\n",
       "      <td>0</td>\n",
       "      <td>0</td>\n",
       "      <td>0</td>\n",
       "      <td>0</td>\n",
       "      <td>0</td>\n",
       "      <td>0</td>\n",
       "      <td>1</td>\n",
       "      <td>1</td>\n",
       "      <td>0</td>\n",
       "      <td>0</td>\n",
       "      <td>0</td>\n",
       "      <td>0</td>\n",
       "      <td>0</td>\n",
       "      <td>0</td>\n",
       "      <td>0</td>\n",
       "      <td>0</td>\n",
       "      <td>0</td>\n",
       "      <td>0</td>\n",
       "      <td>0</td>\n",
       "      <td>0</td>\n",
       "      <td>0</td>\n",
       "      <td>0</td>\n",
       "      <td>0</td>\n",
       "      <td>0</td>\n",
       "      <td>0</td>\n",
       "      <td>0</td>\n",
       "      <td>0</td>\n",
       "      <td>0</td>\n",
       "      <td>0</td>\n",
       "      <td>0</td>\n",
       "      <td>0</td>\n",
       "      <td>1</td>\n",
       "      <td>0</td>\n",
       "      <td>0</td>\n",
       "      <td>1</td>\n",
       "    </tr>\n",
       "  </tbody>\n",
       "</table>\n",
       "</div>"
      ],
      "text/plain": [
       "   Subject_Age_Group_-  Subject_Age_Group_1 - 17  Subject_Age_Group_18 - 25  \\\n",
       "0                    1                         0                          0   \n",
       "4                    1                         0                          0   \n",
       "5                    1                         0                          0   \n",
       "6                    1                         0                          0   \n",
       "7                    1                         0                          0   \n",
       "\n",
       "   Subject_Age_Group_26 - 35  Subject_Age_Group_36 - 45  \\\n",
       "0                          0                          0   \n",
       "4                          0                          0   \n",
       "5                          0                          0   \n",
       "6                          0                          0   \n",
       "7                          0                          0   \n",
       "\n",
       "   Subject_Age_Group_46 - 55  Subject_Age_Group_56 and Above  \\\n",
       "0                          0                               0   \n",
       "4                          0                               0   \n",
       "5                          0                               0   \n",
       "6                          0                               0   \n",
       "7                          0                               0   \n",
       "\n",
       "   Officer_Gender_F  Officer_Gender_M  Subject_Perceived_Gender_Female  \\\n",
       "0                 0                 1                                0   \n",
       "4                 0                 1                                0   \n",
       "5                 0                 1                                0   \n",
       "6                 0                 1                                1   \n",
       "7                 0                 1                                0   \n",
       "\n",
       "   Subject_Perceived_Gender_Male  Officer_Race_American Indian/Alaska Native  \\\n",
       "0                              1                                           0   \n",
       "4                              1                                           0   \n",
       "5                              1                                           0   \n",
       "6                              0                                           0   \n",
       "7                              1                                           0   \n",
       "\n",
       "   Officer_Race_Asian  Officer_Race_Black or African American  \\\n",
       "0                   0                                       1   \n",
       "4                   0                                       0   \n",
       "5                   0                                       0   \n",
       "6                   0                                       0   \n",
       "7                   0                                       0   \n",
       "\n",
       "   Officer_Race_Hispanic or Latino  \\\n",
       "0                                0   \n",
       "4                                0   \n",
       "5                                0   \n",
       "6                                1   \n",
       "7                                1   \n",
       "\n",
       "   Officer_Race_Nat Hawaiian/Oth Pac Islander  Officer_Race_Other  \\\n",
       "0                                           0                   0   \n",
       "4                                           0                   0   \n",
       "5                                           0                   0   \n",
       "6                                           0                   0   \n",
       "7                                           0                   0   \n",
       "\n",
       "   Officer_Race_Two or More Races  Officer_Race_White  \\\n",
       "0                               0                   0   \n",
       "4                               0                   1   \n",
       "5                               0                   1   \n",
       "6                               0                   0   \n",
       "7                               0                   0   \n",
       "\n",
       "   Subject_Perceived_Race_American Indian or Alaska Native  \\\n",
       "0                                                  0         \n",
       "4                                                  0         \n",
       "5                                                  0         \n",
       "6                                                  0         \n",
       "7                                                  0         \n",
       "\n",
       "   Subject_Perceived_Race_Asian  \\\n",
       "0                             1   \n",
       "4                             0   \n",
       "5                             0   \n",
       "6                             0   \n",
       "7                             0   \n",
       "\n",
       "   Subject_Perceived_Race_Black or African American  \\\n",
       "0                                                 0   \n",
       "4                                                 1   \n",
       "5                                                 1   \n",
       "6                                                 0   \n",
       "7                                                 0   \n",
       "\n",
       "   Subject_Perceived_Race_Hispanic  Subject_Perceived_Race_Multi-Racial  \\\n",
       "0                                0                                    0   \n",
       "4                                0                                    0   \n",
       "5                                0                                    0   \n",
       "6                                0                                    0   \n",
       "7                                0                                    0   \n",
       "\n",
       "   Subject_Perceived_Race_Native Hawaiian or Other Pacific Islander  \\\n",
       "0                                                  0                  \n",
       "4                                                  0                  \n",
       "5                                                  0                  \n",
       "6                                                  0                  \n",
       "7                                                  0                  \n",
       "\n",
       "   Subject_Perceived_Race_Unknown  Subject_Perceived_Race_White  Frisk_Flag_0  \\\n",
       "0                               0                             0             1   \n",
       "4                               0                             0             1   \n",
       "5                               0                             0             1   \n",
       "6                               1                             0             1   \n",
       "7                               0                             1             1   \n",
       "\n",
       "   Frisk_Flag_1  Reported_Hour_0  Reported_Hour_1  Reported_Hour_2  \\\n",
       "0             0                0                0                0   \n",
       "4             0                1                0                0   \n",
       "5             0                0                0                0   \n",
       "6             0                0                0                0   \n",
       "7             0                0                0                0   \n",
       "\n",
       "   Reported_Hour_3  Reported_Hour_4  Reported_Hour_5  Reported_Hour_6  \\\n",
       "0                0                0                0                0   \n",
       "4                0                0                0                0   \n",
       "5                0                0                0                0   \n",
       "6                0                0                0                0   \n",
       "7                0                0                0                0   \n",
       "\n",
       "   Reported_Hour_7  Reported_Hour_8  Reported_Hour_9  Reported_Hour_10  \\\n",
       "0                0                0                0                 0   \n",
       "4                0                0                0                 0   \n",
       "5                0                0                0                 0   \n",
       "6                0                0                0                 0   \n",
       "7                0                0                0                 0   \n",
       "\n",
       "   Reported_Hour_11  Reported_Hour_12  Reported_Hour_13  Reported_Hour_14  \\\n",
       "0                 1                 0                 0                 0   \n",
       "4                 0                 0                 0                 0   \n",
       "5                 0                 0                 0                 0   \n",
       "6                 0                 0                 0                 0   \n",
       "7                 0                 0                 0                 0   \n",
       "\n",
       "   Reported_Hour_15  Reported_Hour_16  Reported_Hour_17  Reported_Hour_18  \\\n",
       "0                 0                 0                 0                 0   \n",
       "4                 0                 0                 0                 0   \n",
       "5                 0                 0                 0                 0   \n",
       "6                 0                 0                 0                 0   \n",
       "7                 0                 0                 0                 0   \n",
       "\n",
       "   Reported_Hour_19  Reported_Hour_20  Reported_Hour_21  Reported_Hour_22  \\\n",
       "0                 0                 0                 0                 0   \n",
       "4                 0                 0                 0                 0   \n",
       "5                 0                 0                 0                 0   \n",
       "6                 0                 0                 1                 0   \n",
       "7                 0                 0                 0                 1   \n",
       "\n",
       "   Reported_Hour_23  Reported_AM_or_PM_0  Reported_AM_or_PM_1  \n",
       "0                 0                    1                    0  \n",
       "4                 0                    1                    0  \n",
       "5                 1                    0                    1  \n",
       "6                 0                    0                    1  \n",
       "7                 0                    0                    1  "
      ]
     },
     "execution_count": 51,
     "metadata": {},
     "output_type": "execute_result"
    }
   ],
   "source": [
    "df['Arrest_Flag'] = df['Arrest_Flag'].apply(lambda x: 0 if x =='N' else 1)\n",
    "y = df['Arrest_Flag']\n",
    "X = df.drop(['Arrest_Flag'], axis=1)\n",
    "\n",
    "one_hot_df = pd.get_dummies(X, columns=['Subject_Age_Group', 'Officer_Gender',\n",
    "                                        'Subject_Perceived_Gender',\n",
    "                                        'Officer_Race', 'Subject_Perceived_Race',\n",
    "                                        'Frisk_Flag', 'Reported_Hour', 'Reported_AM_or_PM'])\n",
    "\n",
    "one_hot_df.head()\n",
    "                                        "
   ]
  },
  {
   "cell_type": "code",
   "execution_count": 52,
   "metadata": {},
   "outputs": [],
   "source": [
    "X_train, X_test, y_train, y_test = train_test_split(one_hot_df, y, random_state=1)"
   ]
  },
  {
   "cell_type": "code",
   "execution_count": 53,
   "metadata": {
    "scrolled": true
   },
   "outputs": [
    {
     "data": {
      "text/html": [
       "<div>\n",
       "<style scoped>\n",
       "    .dataframe tbody tr th:only-of-type {\n",
       "        vertical-align: middle;\n",
       "    }\n",
       "\n",
       "    .dataframe tbody tr th {\n",
       "        vertical-align: top;\n",
       "    }\n",
       "\n",
       "    .dataframe thead th {\n",
       "        text-align: right;\n",
       "    }\n",
       "</style>\n",
       "<table border=\"1\" class=\"dataframe\">\n",
       "  <thead>\n",
       "    <tr style=\"text-align: right;\">\n",
       "      <th></th>\n",
       "      <th>Subject_Age_Group_-</th>\n",
       "      <th>Subject_Age_Group_1 - 17</th>\n",
       "      <th>Subject_Age_Group_18 - 25</th>\n",
       "      <th>Subject_Age_Group_26 - 35</th>\n",
       "      <th>Subject_Age_Group_36 - 45</th>\n",
       "      <th>Subject_Age_Group_46 - 55</th>\n",
       "      <th>Subject_Age_Group_56 and Above</th>\n",
       "      <th>Officer_Gender_F</th>\n",
       "      <th>Officer_Gender_M</th>\n",
       "      <th>Subject_Perceived_Gender_Female</th>\n",
       "      <th>Subject_Perceived_Gender_Male</th>\n",
       "      <th>Officer_Race_American Indian/Alaska Native</th>\n",
       "      <th>Officer_Race_Asian</th>\n",
       "      <th>Officer_Race_Black or African American</th>\n",
       "      <th>Officer_Race_Hispanic or Latino</th>\n",
       "      <th>Officer_Race_Nat Hawaiian/Oth Pac Islander</th>\n",
       "      <th>Officer_Race_Other</th>\n",
       "      <th>Officer_Race_Two or More Races</th>\n",
       "      <th>Officer_Race_White</th>\n",
       "      <th>Subject_Perceived_Race_American Indian or Alaska Native</th>\n",
       "      <th>Subject_Perceived_Race_Asian</th>\n",
       "      <th>Subject_Perceived_Race_Black or African American</th>\n",
       "      <th>Subject_Perceived_Race_Hispanic</th>\n",
       "      <th>Subject_Perceived_Race_Multi-Racial</th>\n",
       "      <th>Subject_Perceived_Race_Native Hawaiian or Other Pacific Islander</th>\n",
       "      <th>Subject_Perceived_Race_Unknown</th>\n",
       "      <th>Subject_Perceived_Race_White</th>\n",
       "      <th>Frisk_Flag_0</th>\n",
       "      <th>Frisk_Flag_1</th>\n",
       "      <th>Reported_Hour_0</th>\n",
       "      <th>Reported_Hour_1</th>\n",
       "      <th>Reported_Hour_2</th>\n",
       "      <th>Reported_Hour_3</th>\n",
       "      <th>Reported_Hour_4</th>\n",
       "      <th>Reported_Hour_5</th>\n",
       "      <th>Reported_Hour_6</th>\n",
       "      <th>Reported_Hour_7</th>\n",
       "      <th>Reported_Hour_8</th>\n",
       "      <th>Reported_Hour_9</th>\n",
       "      <th>Reported_Hour_10</th>\n",
       "      <th>Reported_Hour_11</th>\n",
       "      <th>Reported_Hour_12</th>\n",
       "      <th>Reported_Hour_13</th>\n",
       "      <th>Reported_Hour_14</th>\n",
       "      <th>Reported_Hour_15</th>\n",
       "      <th>Reported_Hour_16</th>\n",
       "      <th>Reported_Hour_17</th>\n",
       "      <th>Reported_Hour_18</th>\n",
       "      <th>Reported_Hour_19</th>\n",
       "      <th>Reported_Hour_20</th>\n",
       "      <th>Reported_Hour_21</th>\n",
       "      <th>Reported_Hour_22</th>\n",
       "      <th>Reported_Hour_23</th>\n",
       "      <th>Reported_AM_or_PM_0</th>\n",
       "      <th>Reported_AM_or_PM_1</th>\n",
       "    </tr>\n",
       "  </thead>\n",
       "  <tbody>\n",
       "    <tr>\n",
       "      <th>0</th>\n",
       "      <td>-0.153189</td>\n",
       "      <td>-0.207244</td>\n",
       "      <td>-0.498423</td>\n",
       "      <td>-0.714696</td>\n",
       "      <td>-0.525807</td>\n",
       "      <td>2.576240</td>\n",
       "      <td>-0.232469</td>\n",
       "      <td>-0.359746</td>\n",
       "      <td>0.359746</td>\n",
       "      <td>-0.50886</td>\n",
       "      <td>0.50886</td>\n",
       "      <td>-0.078117</td>\n",
       "      <td>-0.212178</td>\n",
       "      <td>-0.201296</td>\n",
       "      <td>-0.250545</td>\n",
       "      <td>-0.095518</td>\n",
       "      <td>-0.176591</td>\n",
       "      <td>-0.249778</td>\n",
       "      <td>0.569899</td>\n",
       "      <td>-0.171666</td>\n",
       "      <td>-0.184376</td>\n",
       "      <td>-0.657487</td>\n",
       "      <td>5.233102</td>\n",
       "      <td>-0.129393</td>\n",
       "      <td>-0.036522</td>\n",
       "      <td>-0.316307</td>\n",
       "      <td>-0.985509</td>\n",
       "      <td>0.546094</td>\n",
       "      <td>-0.546094</td>\n",
       "      <td>-0.219868</td>\n",
       "      <td>-0.230907</td>\n",
       "      <td>-0.247464</td>\n",
       "      <td>-0.235233</td>\n",
       "      <td>-0.177612</td>\n",
       "      <td>-0.183553</td>\n",
       "      <td>-0.161789</td>\n",
       "      <td>-0.168757</td>\n",
       "      <td>-0.167867</td>\n",
       "      <td>-0.177272</td>\n",
       "      <td>4.982914</td>\n",
       "      <td>-0.208061</td>\n",
       "      <td>-0.187476</td>\n",
       "      <td>-0.201677</td>\n",
       "      <td>-0.21414</td>\n",
       "      <td>-0.21702</td>\n",
       "      <td>-0.224295</td>\n",
       "      <td>-0.236505</td>\n",
       "      <td>-0.252456</td>\n",
       "      <td>-0.242983</td>\n",
       "      <td>-0.176505</td>\n",
       "      <td>-0.196211</td>\n",
       "      <td>-0.213270</td>\n",
       "      <td>-0.228171</td>\n",
       "      <td>1.080583</td>\n",
       "      <td>-1.080583</td>\n",
       "    </tr>\n",
       "    <tr>\n",
       "      <th>1</th>\n",
       "      <td>-0.153189</td>\n",
       "      <td>-0.207244</td>\n",
       "      <td>-0.498423</td>\n",
       "      <td>-0.714696</td>\n",
       "      <td>-0.525807</td>\n",
       "      <td>2.576240</td>\n",
       "      <td>-0.232469</td>\n",
       "      <td>-0.359746</td>\n",
       "      <td>0.359746</td>\n",
       "      <td>-0.50886</td>\n",
       "      <td>0.50886</td>\n",
       "      <td>-0.078117</td>\n",
       "      <td>-0.212178</td>\n",
       "      <td>-0.201296</td>\n",
       "      <td>-0.250545</td>\n",
       "      <td>-0.095518</td>\n",
       "      <td>-0.176591</td>\n",
       "      <td>-0.249778</td>\n",
       "      <td>0.569899</td>\n",
       "      <td>-0.171666</td>\n",
       "      <td>-0.184376</td>\n",
       "      <td>-0.657487</td>\n",
       "      <td>-0.191091</td>\n",
       "      <td>-0.129393</td>\n",
       "      <td>-0.036522</td>\n",
       "      <td>-0.316307</td>\n",
       "      <td>1.014704</td>\n",
       "      <td>-1.831185</td>\n",
       "      <td>1.831185</td>\n",
       "      <td>4.548178</td>\n",
       "      <td>-0.230907</td>\n",
       "      <td>-0.247464</td>\n",
       "      <td>-0.235233</td>\n",
       "      <td>-0.177612</td>\n",
       "      <td>-0.183553</td>\n",
       "      <td>-0.161789</td>\n",
       "      <td>-0.168757</td>\n",
       "      <td>-0.167867</td>\n",
       "      <td>-0.177272</td>\n",
       "      <td>-0.200686</td>\n",
       "      <td>-0.208061</td>\n",
       "      <td>-0.187476</td>\n",
       "      <td>-0.201677</td>\n",
       "      <td>-0.21414</td>\n",
       "      <td>-0.21702</td>\n",
       "      <td>-0.224295</td>\n",
       "      <td>-0.236505</td>\n",
       "      <td>-0.252456</td>\n",
       "      <td>-0.242983</td>\n",
       "      <td>-0.176505</td>\n",
       "      <td>-0.196211</td>\n",
       "      <td>-0.213270</td>\n",
       "      <td>-0.228171</td>\n",
       "      <td>1.080583</td>\n",
       "      <td>-1.080583</td>\n",
       "    </tr>\n",
       "    <tr>\n",
       "      <th>2</th>\n",
       "      <td>-0.153189</td>\n",
       "      <td>-0.207244</td>\n",
       "      <td>-0.498423</td>\n",
       "      <td>-0.714696</td>\n",
       "      <td>-0.525807</td>\n",
       "      <td>-0.388163</td>\n",
       "      <td>4.301645</td>\n",
       "      <td>-0.359746</td>\n",
       "      <td>0.359746</td>\n",
       "      <td>-0.50886</td>\n",
       "      <td>0.50886</td>\n",
       "      <td>-0.078117</td>\n",
       "      <td>-0.212178</td>\n",
       "      <td>-0.201296</td>\n",
       "      <td>-0.250545</td>\n",
       "      <td>-0.095518</td>\n",
       "      <td>-0.176591</td>\n",
       "      <td>-0.249778</td>\n",
       "      <td>0.569899</td>\n",
       "      <td>-0.171666</td>\n",
       "      <td>-0.184376</td>\n",
       "      <td>-0.657487</td>\n",
       "      <td>-0.191091</td>\n",
       "      <td>-0.129393</td>\n",
       "      <td>-0.036522</td>\n",
       "      <td>-0.316307</td>\n",
       "      <td>1.014704</td>\n",
       "      <td>0.546094</td>\n",
       "      <td>-0.546094</td>\n",
       "      <td>-0.219868</td>\n",
       "      <td>-0.230907</td>\n",
       "      <td>-0.247464</td>\n",
       "      <td>-0.235233</td>\n",
       "      <td>-0.177612</td>\n",
       "      <td>-0.183553</td>\n",
       "      <td>-0.161789</td>\n",
       "      <td>-0.168757</td>\n",
       "      <td>-0.167867</td>\n",
       "      <td>-0.177272</td>\n",
       "      <td>-0.200686</td>\n",
       "      <td>-0.208061</td>\n",
       "      <td>-0.187476</td>\n",
       "      <td>-0.201677</td>\n",
       "      <td>-0.21414</td>\n",
       "      <td>-0.21702</td>\n",
       "      <td>-0.224295</td>\n",
       "      <td>-0.236505</td>\n",
       "      <td>-0.252456</td>\n",
       "      <td>-0.242983</td>\n",
       "      <td>-0.176505</td>\n",
       "      <td>-0.196211</td>\n",
       "      <td>-0.213270</td>\n",
       "      <td>4.382682</td>\n",
       "      <td>-0.925426</td>\n",
       "      <td>0.925426</td>\n",
       "    </tr>\n",
       "    <tr>\n",
       "      <th>3</th>\n",
       "      <td>-0.153189</td>\n",
       "      <td>-0.207244</td>\n",
       "      <td>-0.498423</td>\n",
       "      <td>1.399196</td>\n",
       "      <td>-0.525807</td>\n",
       "      <td>-0.388163</td>\n",
       "      <td>-0.232469</td>\n",
       "      <td>-0.359746</td>\n",
       "      <td>0.359746</td>\n",
       "      <td>-0.50886</td>\n",
       "      <td>0.50886</td>\n",
       "      <td>-0.078117</td>\n",
       "      <td>-0.212178</td>\n",
       "      <td>-0.201296</td>\n",
       "      <td>-0.250545</td>\n",
       "      <td>-0.095518</td>\n",
       "      <td>-0.176591</td>\n",
       "      <td>-0.249778</td>\n",
       "      <td>0.569899</td>\n",
       "      <td>-0.171666</td>\n",
       "      <td>-0.184376</td>\n",
       "      <td>-0.657487</td>\n",
       "      <td>5.233102</td>\n",
       "      <td>-0.129393</td>\n",
       "      <td>-0.036522</td>\n",
       "      <td>-0.316307</td>\n",
       "      <td>-0.985509</td>\n",
       "      <td>0.546094</td>\n",
       "      <td>-0.546094</td>\n",
       "      <td>-0.219868</td>\n",
       "      <td>-0.230907</td>\n",
       "      <td>-0.247464</td>\n",
       "      <td>-0.235233</td>\n",
       "      <td>-0.177612</td>\n",
       "      <td>-0.183553</td>\n",
       "      <td>-0.161789</td>\n",
       "      <td>-0.168757</td>\n",
       "      <td>-0.167867</td>\n",
       "      <td>-0.177272</td>\n",
       "      <td>-0.200686</td>\n",
       "      <td>-0.208061</td>\n",
       "      <td>-0.187476</td>\n",
       "      <td>-0.201677</td>\n",
       "      <td>-0.21414</td>\n",
       "      <td>-0.21702</td>\n",
       "      <td>-0.224295</td>\n",
       "      <td>-0.236505</td>\n",
       "      <td>-0.252456</td>\n",
       "      <td>-0.242983</td>\n",
       "      <td>-0.176505</td>\n",
       "      <td>5.096545</td>\n",
       "      <td>-0.213270</td>\n",
       "      <td>-0.228171</td>\n",
       "      <td>-0.925426</td>\n",
       "      <td>0.925426</td>\n",
       "    </tr>\n",
       "    <tr>\n",
       "      <th>4</th>\n",
       "      <td>-0.153189</td>\n",
       "      <td>-0.207244</td>\n",
       "      <td>2.006328</td>\n",
       "      <td>-0.714696</td>\n",
       "      <td>-0.525807</td>\n",
       "      <td>-0.388163</td>\n",
       "      <td>-0.232469</td>\n",
       "      <td>-0.359746</td>\n",
       "      <td>0.359746</td>\n",
       "      <td>-0.50886</td>\n",
       "      <td>0.50886</td>\n",
       "      <td>-0.078117</td>\n",
       "      <td>-0.212178</td>\n",
       "      <td>-0.201296</td>\n",
       "      <td>-0.250545</td>\n",
       "      <td>-0.095518</td>\n",
       "      <td>-0.176591</td>\n",
       "      <td>-0.249778</td>\n",
       "      <td>0.569899</td>\n",
       "      <td>-0.171666</td>\n",
       "      <td>-0.184376</td>\n",
       "      <td>1.520943</td>\n",
       "      <td>-0.191091</td>\n",
       "      <td>-0.129393</td>\n",
       "      <td>-0.036522</td>\n",
       "      <td>-0.316307</td>\n",
       "      <td>-0.985509</td>\n",
       "      <td>0.546094</td>\n",
       "      <td>-0.546094</td>\n",
       "      <td>-0.219868</td>\n",
       "      <td>-0.230907</td>\n",
       "      <td>-0.247464</td>\n",
       "      <td>-0.235233</td>\n",
       "      <td>-0.177612</td>\n",
       "      <td>-0.183553</td>\n",
       "      <td>-0.161789</td>\n",
       "      <td>-0.168757</td>\n",
       "      <td>-0.167867</td>\n",
       "      <td>-0.177272</td>\n",
       "      <td>-0.200686</td>\n",
       "      <td>-0.208061</td>\n",
       "      <td>-0.187476</td>\n",
       "      <td>-0.201677</td>\n",
       "      <td>-0.21414</td>\n",
       "      <td>-0.21702</td>\n",
       "      <td>-0.224295</td>\n",
       "      <td>-0.236505</td>\n",
       "      <td>-0.252456</td>\n",
       "      <td>-0.242983</td>\n",
       "      <td>-0.176505</td>\n",
       "      <td>-0.196211</td>\n",
       "      <td>4.688888</td>\n",
       "      <td>-0.228171</td>\n",
       "      <td>-0.925426</td>\n",
       "      <td>0.925426</td>\n",
       "    </tr>\n",
       "  </tbody>\n",
       "</table>\n",
       "</div>"
      ],
      "text/plain": [
       "   Subject_Age_Group_-  Subject_Age_Group_1 - 17  Subject_Age_Group_18 - 25  \\\n",
       "0            -0.153189                 -0.207244                  -0.498423   \n",
       "1            -0.153189                 -0.207244                  -0.498423   \n",
       "2            -0.153189                 -0.207244                  -0.498423   \n",
       "3            -0.153189                 -0.207244                  -0.498423   \n",
       "4            -0.153189                 -0.207244                   2.006328   \n",
       "\n",
       "   Subject_Age_Group_26 - 35  Subject_Age_Group_36 - 45  \\\n",
       "0                  -0.714696                  -0.525807   \n",
       "1                  -0.714696                  -0.525807   \n",
       "2                  -0.714696                  -0.525807   \n",
       "3                   1.399196                  -0.525807   \n",
       "4                  -0.714696                  -0.525807   \n",
       "\n",
       "   Subject_Age_Group_46 - 55  Subject_Age_Group_56 and Above  \\\n",
       "0                   2.576240                       -0.232469   \n",
       "1                   2.576240                       -0.232469   \n",
       "2                  -0.388163                        4.301645   \n",
       "3                  -0.388163                       -0.232469   \n",
       "4                  -0.388163                       -0.232469   \n",
       "\n",
       "   Officer_Gender_F  Officer_Gender_M  Subject_Perceived_Gender_Female  \\\n",
       "0         -0.359746          0.359746                         -0.50886   \n",
       "1         -0.359746          0.359746                         -0.50886   \n",
       "2         -0.359746          0.359746                         -0.50886   \n",
       "3         -0.359746          0.359746                         -0.50886   \n",
       "4         -0.359746          0.359746                         -0.50886   \n",
       "\n",
       "   Subject_Perceived_Gender_Male  Officer_Race_American Indian/Alaska Native  \\\n",
       "0                        0.50886                                   -0.078117   \n",
       "1                        0.50886                                   -0.078117   \n",
       "2                        0.50886                                   -0.078117   \n",
       "3                        0.50886                                   -0.078117   \n",
       "4                        0.50886                                   -0.078117   \n",
       "\n",
       "   Officer_Race_Asian  Officer_Race_Black or African American  \\\n",
       "0           -0.212178                               -0.201296   \n",
       "1           -0.212178                               -0.201296   \n",
       "2           -0.212178                               -0.201296   \n",
       "3           -0.212178                               -0.201296   \n",
       "4           -0.212178                               -0.201296   \n",
       "\n",
       "   Officer_Race_Hispanic or Latino  \\\n",
       "0                        -0.250545   \n",
       "1                        -0.250545   \n",
       "2                        -0.250545   \n",
       "3                        -0.250545   \n",
       "4                        -0.250545   \n",
       "\n",
       "   Officer_Race_Nat Hawaiian/Oth Pac Islander  Officer_Race_Other  \\\n",
       "0                                   -0.095518           -0.176591   \n",
       "1                                   -0.095518           -0.176591   \n",
       "2                                   -0.095518           -0.176591   \n",
       "3                                   -0.095518           -0.176591   \n",
       "4                                   -0.095518           -0.176591   \n",
       "\n",
       "   Officer_Race_Two or More Races  Officer_Race_White  \\\n",
       "0                       -0.249778            0.569899   \n",
       "1                       -0.249778            0.569899   \n",
       "2                       -0.249778            0.569899   \n",
       "3                       -0.249778            0.569899   \n",
       "4                       -0.249778            0.569899   \n",
       "\n",
       "   Subject_Perceived_Race_American Indian or Alaska Native  \\\n",
       "0                                          -0.171666         \n",
       "1                                          -0.171666         \n",
       "2                                          -0.171666         \n",
       "3                                          -0.171666         \n",
       "4                                          -0.171666         \n",
       "\n",
       "   Subject_Perceived_Race_Asian  \\\n",
       "0                     -0.184376   \n",
       "1                     -0.184376   \n",
       "2                     -0.184376   \n",
       "3                     -0.184376   \n",
       "4                     -0.184376   \n",
       "\n",
       "   Subject_Perceived_Race_Black or African American  \\\n",
       "0                                         -0.657487   \n",
       "1                                         -0.657487   \n",
       "2                                         -0.657487   \n",
       "3                                         -0.657487   \n",
       "4                                          1.520943   \n",
       "\n",
       "   Subject_Perceived_Race_Hispanic  Subject_Perceived_Race_Multi-Racial  \\\n",
       "0                         5.233102                            -0.129393   \n",
       "1                        -0.191091                            -0.129393   \n",
       "2                        -0.191091                            -0.129393   \n",
       "3                         5.233102                            -0.129393   \n",
       "4                        -0.191091                            -0.129393   \n",
       "\n",
       "   Subject_Perceived_Race_Native Hawaiian or Other Pacific Islander  \\\n",
       "0                                          -0.036522                  \n",
       "1                                          -0.036522                  \n",
       "2                                          -0.036522                  \n",
       "3                                          -0.036522                  \n",
       "4                                          -0.036522                  \n",
       "\n",
       "   Subject_Perceived_Race_Unknown  Subject_Perceived_Race_White  Frisk_Flag_0  \\\n",
       "0                       -0.316307                     -0.985509      0.546094   \n",
       "1                       -0.316307                      1.014704     -1.831185   \n",
       "2                       -0.316307                      1.014704      0.546094   \n",
       "3                       -0.316307                     -0.985509      0.546094   \n",
       "4                       -0.316307                     -0.985509      0.546094   \n",
       "\n",
       "   Frisk_Flag_1  Reported_Hour_0  Reported_Hour_1  Reported_Hour_2  \\\n",
       "0     -0.546094        -0.219868        -0.230907        -0.247464   \n",
       "1      1.831185         4.548178        -0.230907        -0.247464   \n",
       "2     -0.546094        -0.219868        -0.230907        -0.247464   \n",
       "3     -0.546094        -0.219868        -0.230907        -0.247464   \n",
       "4     -0.546094        -0.219868        -0.230907        -0.247464   \n",
       "\n",
       "   Reported_Hour_3  Reported_Hour_4  Reported_Hour_5  Reported_Hour_6  \\\n",
       "0        -0.235233        -0.177612        -0.183553        -0.161789   \n",
       "1        -0.235233        -0.177612        -0.183553        -0.161789   \n",
       "2        -0.235233        -0.177612        -0.183553        -0.161789   \n",
       "3        -0.235233        -0.177612        -0.183553        -0.161789   \n",
       "4        -0.235233        -0.177612        -0.183553        -0.161789   \n",
       "\n",
       "   Reported_Hour_7  Reported_Hour_8  Reported_Hour_9  Reported_Hour_10  \\\n",
       "0        -0.168757        -0.167867        -0.177272          4.982914   \n",
       "1        -0.168757        -0.167867        -0.177272         -0.200686   \n",
       "2        -0.168757        -0.167867        -0.177272         -0.200686   \n",
       "3        -0.168757        -0.167867        -0.177272         -0.200686   \n",
       "4        -0.168757        -0.167867        -0.177272         -0.200686   \n",
       "\n",
       "   Reported_Hour_11  Reported_Hour_12  Reported_Hour_13  Reported_Hour_14  \\\n",
       "0         -0.208061         -0.187476         -0.201677          -0.21414   \n",
       "1         -0.208061         -0.187476         -0.201677          -0.21414   \n",
       "2         -0.208061         -0.187476         -0.201677          -0.21414   \n",
       "3         -0.208061         -0.187476         -0.201677          -0.21414   \n",
       "4         -0.208061         -0.187476         -0.201677          -0.21414   \n",
       "\n",
       "   Reported_Hour_15  Reported_Hour_16  Reported_Hour_17  Reported_Hour_18  \\\n",
       "0          -0.21702         -0.224295         -0.236505         -0.252456   \n",
       "1          -0.21702         -0.224295         -0.236505         -0.252456   \n",
       "2          -0.21702         -0.224295         -0.236505         -0.252456   \n",
       "3          -0.21702         -0.224295         -0.236505         -0.252456   \n",
       "4          -0.21702         -0.224295         -0.236505         -0.252456   \n",
       "\n",
       "   Reported_Hour_19  Reported_Hour_20  Reported_Hour_21  Reported_Hour_22  \\\n",
       "0         -0.242983         -0.176505         -0.196211         -0.213270   \n",
       "1         -0.242983         -0.176505         -0.196211         -0.213270   \n",
       "2         -0.242983         -0.176505         -0.196211         -0.213270   \n",
       "3         -0.242983         -0.176505          5.096545         -0.213270   \n",
       "4         -0.242983         -0.176505         -0.196211          4.688888   \n",
       "\n",
       "   Reported_Hour_23  Reported_AM_or_PM_0  Reported_AM_or_PM_1  \n",
       "0         -0.228171             1.080583            -1.080583  \n",
       "1         -0.228171             1.080583            -1.080583  \n",
       "2          4.382682            -0.925426             0.925426  \n",
       "3         -0.228171            -0.925426             0.925426  \n",
       "4         -0.228171            -0.925426             0.925426  "
      ]
     },
     "execution_count": 53,
     "metadata": {},
     "output_type": "execute_result"
    }
   ],
   "source": [
    "scaler = StandardScaler()\n",
    "\n",
    "scaled_train = scaler.fit_transform(X_train)\n",
    "scaled_test = scaler.fit_transform(X_test)\n",
    "\n",
    "scaled_df_train = pd.DataFrame(scaled_train, columns=one_hot_df.columns)\n",
    "scaled_df_train.head()"
   ]
  },
  {
   "cell_type": "code",
   "execution_count": 54,
   "metadata": {},
   "outputs": [],
   "source": [
    "base = DummyClassifier()\n",
    "base.fit(X_train, y_train)\n",
    "base_y_hat_pred = base.predict(X_train)\n",
    "base_y_pred = base.predict(X_test)\n"
   ]
  },
  {
   "cell_type": "code",
   "execution_count": 55,
   "metadata": {},
   "outputs": [],
   "source": [
    "# Starting the modeling with logestic regression"
   ]
  },
  {
   "cell_type": "code",
   "execution_count": 56,
   "metadata": {},
   "outputs": [],
   "source": [
    "log_reg = LogisticRegression(max_iter=1000, penalty='l2')\n",
    "log_reg.fit(X_train, y_train)\n",
    "log_reg.score(X_train, y_train, sample_weight=None)\n",
    "y_hat_test = log_reg.predict(X_test)"
   ]
  },
  {
   "cell_type": "code",
   "execution_count": 57,
   "metadata": {},
   "outputs": [],
   "source": [
    "y_hat_train = log_reg.predict(X_train)\n",
    "y_hat_test = log_reg.predict(X_train)\n"
   ]
  },
  {
   "cell_type": "code",
   "execution_count": 58,
   "metadata": {},
   "outputs": [
    {
     "name": "stdout",
     "output_type": "stream",
     "text": [
      "0    32488\n",
      "1     2795\n",
      "Name: Arrest_Flag, dtype: int64\n",
      "------------------------------------\n",
      "0    0.920783\n",
      "1    0.079217\n",
      "Name: Arrest_Flag, dtype: float64\n"
     ]
    }
   ],
   "source": [
    "residuals = np.abs(y_train - y_hat_train)\n",
    "print(pd.Series(residuals).value_counts())\n",
    "print('------------------------------------')\n",
    "print(pd.Series(residuals).value_counts(normalize=True))"
   ]
  },
  {
   "cell_type": "code",
   "execution_count": 59,
   "metadata": {
    "scrolled": true
   },
   "outputs": [
    {
     "data": {
      "text/plain": [
       "<function matplotlib.pyplot.show>"
      ]
     },
     "execution_count": 59,
     "metadata": {},
     "output_type": "execute_result"
    },
    {
     "data": {
      "image/png": "[encoded data removed]",
      "text/plain": [
       "<Figure size 432x288 with 2 Axes>"
      ]
     },
     "metadata": {},
     "output_type": "display_data"
    }
   ],
   "source": [
    "plot_confusion_matrix(log_reg, X_test, y_test, \n",
    "                     cmap=plt.cm.Blues)\n",
    "\n",
    "plt.grid(False)\n",
    "plt.show"
   ]
  },
  {
   "cell_type": "code",
   "execution_count": 60,
   "metadata": {},
   "outputs": [],
   "source": [
    "# This model correctly classified 10,861 arrests and incorectly classified\n",
    "# 901. While this seems great, it actually read the model guessed negative\n",
    "# 100% of the time and was only incorrect 10% of the time rather than \n",
    "# actually modelling. This is clearly an intance of class imbalance."
   ]
  },
  {
   "cell_type": "code",
   "execution_count": 61,
   "metadata": {},
   "outputs": [
    {
     "name": "stdout",
     "output_type": "stream",
     "text": [
      "AUC: 0.6281198263476903\n"
     ]
    },
    {
     "data": {
      "image/png": "[encoded data removed]",
      "text/plain": [
       "<Figure size 720x576 with 1 Axes>"
      ]
     },
     "metadata": {},
     "output_type": "display_data"
    }
   ],
   "source": [
    "logreg = LogisticRegression(fit_intercept=False, solver='liblinear')\n",
    "\n",
    "# Probability scores for test set\n",
    "y_score = logreg.fit(X_train, y_train).decision_function(X_test)\n",
    "# False positive rate and true positive rate\n",
    "fpr, tpr, thresholds = roc_curve(y_test, y_score)\n",
    "\n",
    "sns.set_style('darkgrid', {'axes.facecolor': '0.9'})\n",
    "\n",
    "print('AUC: {}'.format(auc(fpr, tpr)))\n",
    "plt.figure(figsize=(10, 8))\n",
    "lw = 2\n",
    "plt.plot(fpr, tpr, color='darkorange',\n",
    "         lw=lw, label='ROC curve')\n",
    "plt.plot([0, 1], [0, 1], color='navy', lw=lw, linestyle='--')\n",
    "plt.xlim([0.0, 1.0])\n",
    "plt.ylim([0.0, 1.05])\n",
    "plt.yticks([i/20.0 for i in range(21)])\n",
    "plt.xticks([i/20.0 for i in range(21)])\n",
    "plt.xlabel('False Positive Rate')\n",
    "plt.ylabel('True Positive Rate')\n",
    "plt.title('Receiver operating characteristic (ROC) Curve')\n",
    "plt.legend(loc='lower right')\n",
    "plt.show()"
   ]
  },
  {
   "cell_type": "code",
   "execution_count": 62,
   "metadata": {},
   "outputs": [],
   "source": [
    "#The ROC curve illustrates the true positive rate against the false \n",
    "#positive rate. The closer the ROC curve is to the top left corner\n",
    "#the better. This ROC curve is only slightly better than a coin flip. \n",
    "#Let's iterate through weighted ranges to see if we can get that up above\n",
    "# 62%"
   ]
  },
  {
   "cell_type": "code",
   "execution_count": 63,
   "metadata": {},
   "outputs": [
    {
     "name": "stdout",
     "output_type": "stream",
     "text": [
      "LogisticRegression(C=0.0001, fit_intercept=False, solver='liblinear')\n",
      "AUC for 0.0001: 0.5254493237674617\n",
      "-------------------------------------------------------\n",
      "LogisticRegression(C=0.001, fit_intercept=False, solver='liblinear')\n",
      "AUC for 0.001: 0.5508586915212829\n",
      "-------------------------------------------------------\n",
      "LogisticRegression(C=0.01, fit_intercept=False, solver='liblinear')\n",
      "AUC for 0.01: 0.6127233742986364\n",
      "-------------------------------------------------------\n",
      "LogisticRegression(C=0.1, fit_intercept=False, solver='liblinear')\n",
      "AUC for 0.1: 0.6276695803218574\n",
      "-------------------------------------------------------\n",
      "LogisticRegression(C=1, fit_intercept=False, solver='liblinear')\n",
      "AUC for 1: 0.6281198263476903\n",
      "-------------------------------------------------------\n",
      "LogisticRegression(C=10, fit_intercept=False, solver='liblinear')\n",
      "AUC for 10: 0.6280617828291535\n",
      "-------------------------------------------------------\n",
      "LogisticRegression(C=100, fit_intercept=False, solver='liblinear')\n",
      "AUC for 100: 0.6280440018921369\n",
      "-------------------------------------------------------\n",
      "LogisticRegression(C=500, fit_intercept=False, solver='liblinear')\n",
      "AUC for 500: 0.6280438997028437\n",
      "-------------------------------------------------------\n"
     ]
    },
    {
     "data": {
      "image/png": "[encoded data removed]",
      "text/plain": [
       "<Figure size 720x576 with 1 Axes>"
      ]
     },
     "metadata": {},
     "output_type": "display_data"
    }
   ],
   "source": [
    "C_param_range = [0.0001, 0.001, 0.01, 0.1, 1, 10, 100, 500]\n",
    "names = [0.0001, 0.001, 0.01, 0.1, 1, 10, 100, 500]\n",
    "colors = sns.color_palette('Set2')\n",
    "\n",
    "plt.figure(figsize=(10, 8))\n",
    "\n",
    "for n, c in enumerate(C_param_range):\n",
    "\n",
    "    logreg = LogisticRegression(fit_intercept=False, C=c, solver='liblinear')\n",
    "    model_log = logreg.fit(X_train, y_train)\n",
    "    print(model_log) \n",
    "\n",
    "    \n",
    "    y_hat_test = logreg.predict(X_test)\n",
    "\n",
    "    y_score = logreg.fit(X_train, y_train).decision_function(X_test)\n",
    "\n",
    "    fpr, tpr, thresholds = roc_curve(y_test, y_score)\n",
    "    \n",
    "    print('AUC for {}: {}'.format(names[n], auc(fpr, tpr)))\n",
    "    print('-------------------------------------------------------')\n",
    "    lw = 2\n",
    "    plt.plot(fpr, tpr, color=colors[n],\n",
    "             lw=lw, label='ROC curve Normalization Weight: {}'.format(names[n]))\n",
    "\n",
    "plt.plot([0, 1], [0, 1], color='navy', lw=lw, linestyle='--')\n",
    "plt.xlim([0.0, 1.0])\n",
    "plt.ylim([0.0, 1.05])\n",
    "\n",
    "plt.yticks([i/20.0 for i in range(21)])\n",
    "plt.xticks([i/20.0 for i in range(21)])\n",
    "plt.xlabel('False Positive Rate')\n",
    "plt.ylabel('True Positive Rate')\n",
    "plt.title('Receiver operating characteristic (ROC) Curve')\n",
    "plt.legend(loc='lower right')\n",
    "plt.show()"
   ]
  },
  {
   "cell_type": "code",
   "execution_count": 64,
   "metadata": {},
   "outputs": [
    {
     "name": "stdout",
     "output_type": "stream",
     "text": [
      "0    32488\n",
      "1     2795\n",
      "Name: Arrest_Flag, dtype: int64\n",
      "\n",
      "\n",
      "1    32488\n",
      "0    32488\n",
      "Name: Arrest_Flag, dtype: int64\n"
     ]
    }
   ],
   "source": [
    "print(y_train.value_counts()) \n",
    "\n",
    "# Fit SMOTE to training data\n",
    "X_train_resampled, y_train_resampled = SMOTE().fit_resample(X_train, y_train) \n",
    "\n",
    "# Preview synthetic sample class distribution\n",
    "print('\\n')\n",
    "print(pd.Series(y_train_resampled).value_counts())"
   ]
  },
  {
   "cell_type": "code",
   "execution_count": 65,
   "metadata": {},
   "outputs": [
    {
     "name": "stdout",
     "output_type": "stream",
     "text": [
      "Shape of X before SMOTE: (47045, 8)\n",
      "Shape of X after SMOTE: (64976, 55)\n",
      "\n",
      "Balance of positive and negative classes (%):\n"
     ]
    },
    {
     "data": {
      "text/plain": [
       "1    50.0\n",
       "0    50.0\n",
       "Name: Arrest_Flag, dtype: float64"
      ]
     },
     "execution_count": 65,
     "metadata": {},
     "output_type": "execute_result"
    }
   ],
   "source": [
    "sm = SMOTE(random_state=42)\n",
    "X_res, y_res = sm.fit_resample(X_train, y_train)\n",
    "\n",
    "print(f'''Shape of X before SMOTE: {X.shape}\n",
    "Shape of X after SMOTE: {X_res.shape}''')\n",
    "\n",
    "print('\\nBalance of positive and negative classes (%):')\n",
    "y_res.value_counts(normalize=True) * 100"
   ]
  },
  {
   "cell_type": "code",
   "execution_count": 66,
   "metadata": {},
   "outputs": [
    {
     "name": "stdout",
     "output_type": "stream",
     "text": [
      "Original class distribution: \n",
      "\n",
      "0    43349\n",
      "1     3696\n",
      "Name: Arrest_Flag, dtype: int64\n",
      "-----------------------------------------\n",
      "Synthetic sample class distribution: \n",
      "\n",
      "1    32488\n",
      "0    32488\n",
      "Name: Arrest_Flag, dtype: int64\n"
     ]
    }
   ],
   "source": [
    " #pevious original class distribution\n",
    "print('Original class distribution: \\n')\n",
    "print(y.value_counts())\n",
    "smote = SMOTE()\n",
    "X_train_resampled, y_train_resampled = smote.fit_resample(X_train, y_train) \n",
    "# Preview synthetic sample class distribution\n",
    "print('-----------------------------------------')\n",
    "print('Synthetic sample class distribution: \\n')\n",
    "print(pd.Series(y_train_resampled).value_counts()) "
   ]
  },
  {
   "cell_type": "code",
   "execution_count": 67,
   "metadata": {
    "scrolled": false
   },
   "outputs": [
    {
     "name": "stderr",
     "output_type": "stream",
     "text": [
      "/Users/Garseed/anaconda3/envs/learn-env/lib/python3.6/site-packages/sklearn/linear_model/_logistic.py:765: ConvergenceWarning: lbfgs failed to converge (status=1):\n",
      "STOP: TOTAL NO. of ITERATIONS REACHED LIMIT.\n",
      "\n",
      "Increase the number of iterations (max_iter) or scale the data as shown in:\n",
      "    https://scikit-learn.org/stable/modules/preprocessing.html\n",
      "Please also refer to the documentation for alternative solver options:\n",
      "    https://scikit-learn.org/stable/modules/linear_model.html#logistic-regression\n",
      "  extra_warning_msg=_LOGISTIC_SOLVER_CONVERGENCE_MSG)\n"
     ]
    },
    {
     "name": "stdout",
     "output_type": "stream",
     "text": [
      "LogisticRegression(C=1e+20, fit_intercept=False)\n",
      "AUC for 0.1: 0.6082705780368026\n",
      "-------------------------------------------------------------------------------------\n"
     ]
    },
    {
     "name": "stderr",
     "output_type": "stream",
     "text": [
      "/Users/Garseed/anaconda3/envs/learn-env/lib/python3.6/site-packages/sklearn/linear_model/_logistic.py:765: ConvergenceWarning: lbfgs failed to converge (status=1):\n",
      "STOP: TOTAL NO. of ITERATIONS REACHED LIMIT.\n",
      "\n",
      "Increase the number of iterations (max_iter) or scale the data as shown in:\n",
      "    https://scikit-learn.org/stable/modules/preprocessing.html\n",
      "Please also refer to the documentation for alternative solver options:\n",
      "    https://scikit-learn.org/stable/modules/linear_model.html#logistic-regression\n",
      "  extra_warning_msg=_LOGISTIC_SOLVER_CONVERGENCE_MSG)\n"
     ]
    },
    {
     "name": "stdout",
     "output_type": "stream",
     "text": [
      "LogisticRegression(C=1e+20, fit_intercept=False)\n",
      "AUC for 0.25: 0.5564181978284571\n",
      "-------------------------------------------------------------------------------------\n"
     ]
    },
    {
     "name": "stderr",
     "output_type": "stream",
     "text": [
      "/Users/Garseed/anaconda3/envs/learn-env/lib/python3.6/site-packages/sklearn/linear_model/_logistic.py:765: ConvergenceWarning: lbfgs failed to converge (status=1):\n",
      "STOP: TOTAL NO. of ITERATIONS REACHED LIMIT.\n",
      "\n",
      "Increase the number of iterations (max_iter) or scale the data as shown in:\n",
      "    https://scikit-learn.org/stable/modules/preprocessing.html\n",
      "Please also refer to the documentation for alternative solver options:\n",
      "    https://scikit-learn.org/stable/modules/linear_model.html#logistic-regression\n",
      "  extra_warning_msg=_LOGISTIC_SOLVER_CONVERGENCE_MSG)\n"
     ]
    },
    {
     "name": "stdout",
     "output_type": "stream",
     "text": [
      "LogisticRegression(C=1e+20, fit_intercept=False)\n",
      "AUC for 0.33: 0.5520922184794825\n",
      "-------------------------------------------------------------------------------------\n"
     ]
    },
    {
     "name": "stderr",
     "output_type": "stream",
     "text": [
      "/Users/Garseed/anaconda3/envs/learn-env/lib/python3.6/site-packages/sklearn/linear_model/_logistic.py:765: ConvergenceWarning: lbfgs failed to converge (status=1):\n",
      "STOP: TOTAL NO. of ITERATIONS REACHED LIMIT.\n",
      "\n",
      "Increase the number of iterations (max_iter) or scale the data as shown in:\n",
      "    https://scikit-learn.org/stable/modules/preprocessing.html\n",
      "Please also refer to the documentation for alternative solver options:\n",
      "    https://scikit-learn.org/stable/modules/linear_model.html#logistic-regression\n",
      "  extra_warning_msg=_LOGISTIC_SOLVER_CONVERGENCE_MSG)\n"
     ]
    },
    {
     "name": "stdout",
     "output_type": "stream",
     "text": [
      "LogisticRegression(C=1e+20, fit_intercept=False)\n",
      "AUC for 0.5: 0.5505903424373434\n",
      "-------------------------------------------------------------------------------------\n"
     ]
    },
    {
     "name": "stderr",
     "output_type": "stream",
     "text": [
      "/Users/Garseed/anaconda3/envs/learn-env/lib/python3.6/site-packages/sklearn/linear_model/_logistic.py:765: ConvergenceWarning: lbfgs failed to converge (status=1):\n",
      "STOP: TOTAL NO. of ITERATIONS REACHED LIMIT.\n",
      "\n",
      "Increase the number of iterations (max_iter) or scale the data as shown in:\n",
      "    https://scikit-learn.org/stable/modules/preprocessing.html\n",
      "Please also refer to the documentation for alternative solver options:\n",
      "    https://scikit-learn.org/stable/modules/linear_model.html#logistic-regression\n",
      "  extra_warning_msg=_LOGISTIC_SOLVER_CONVERGENCE_MSG)\n"
     ]
    },
    {
     "name": "stdout",
     "output_type": "stream",
     "text": [
      "LogisticRegression(C=1e+20, fit_intercept=False)\n",
      "AUC for 0.7: 0.5466762881292523\n",
      "-------------------------------------------------------------------------------------\n"
     ]
    },
    {
     "name": "stderr",
     "output_type": "stream",
     "text": [
      "/Users/Garseed/anaconda3/envs/learn-env/lib/python3.6/site-packages/sklearn/linear_model/_logistic.py:765: ConvergenceWarning: lbfgs failed to converge (status=1):\n",
      "STOP: TOTAL NO. of ITERATIONS REACHED LIMIT.\n",
      "\n",
      "Increase the number of iterations (max_iter) or scale the data as shown in:\n",
      "    https://scikit-learn.org/stable/modules/preprocessing.html\n",
      "Please also refer to the documentation for alternative solver options:\n",
      "    https://scikit-learn.org/stable/modules/linear_model.html#logistic-regression\n",
      "  extra_warning_msg=_LOGISTIC_SOLVER_CONVERGENCE_MSG)\n"
     ]
    },
    {
     "name": "stdout",
     "output_type": "stream",
     "text": [
      "LogisticRegression(C=1e+20, fit_intercept=False)\n",
      "AUC for even: 0.5507360643694446\n",
      "-------------------------------------------------------------------------------------\n"
     ]
    },
    {
     "data": {
      "image/png": "[encoded data removed]",
      "text/plain": [
       "<Figure size 720x576 with 1 Axes>"
      ]
     },
     "metadata": {},
     "output_type": "display_data"
    }
   ],
   "source": [
    "ratios = [0.1, 0.25, 0.33, 0.5, 0.7, 1]\n",
    "names = ['0.1', '0.25', '0.33','0.5','0.7','even']\n",
    "colors = sns.color_palette('Set2')\n",
    "\n",
    "plt.figure(figsize=(10, 8))\n",
    "\n",
    "for n, ratio in enumerate(ratios):\n",
    "    # Fit a model\n",
    "    smote = SMOTE(sampling_strategy=ratio)\n",
    "    X_train_resampled, y_train_resampled = smote.fit_resample(X_train, y_train) \n",
    "    logreg = LogisticRegression(fit_intercept=False, C=1e20, solver ='lbfgs')\n",
    "    model_log = logreg.fit(X_train_resampled, y_train_resampled)\n",
    "    print(model_log)\n",
    "\n",
    "    # Predict\n",
    "    y_hat_test = logreg.predict(X_test)\n",
    "\n",
    "    y_score = logreg.decision_function(X_test)\n",
    "\n",
    "    fpr, tpr, thresholds = roc_curve(y_test, y_score)\n",
    "    \n",
    "    print('AUC for {}: {}'.format(names[n], auc(fpr, tpr)))\n",
    "    print('-------------------------------------------------------------------------------------')\n",
    "    lw = 2\n",
    "    plt.plot(fpr, tpr, color=colors[n],\n",
    "             lw=lw, label='ROC curve {}'.format(names[n]))\n",
    "\n",
    "plt.plot([0, 1], [0, 1], color='navy', lw=lw, linestyle='--')\n",
    "plt.xlim([0.0, 1.0])\n",
    "plt.ylim([0.0, 1.05])\n",
    "\n",
    "plt.yticks([i/20.0 for i in range(21)])\n",
    "plt.xticks([i/20.0 for i in range(21)])\n",
    "plt.xlabel('False Positive Rate')\n",
    "plt.ylabel('True Positive Rate')\n",
    "plt.title('Receiver operating characteristic (ROC) Curve')\n",
    "plt.legend(loc='lower right')\n",
    "plt.show()"
   ]
  },
  {
   "cell_type": "code",
   "execution_count": 68,
   "metadata": {},
   "outputs": [],
   "source": [
    "# Adding a class weight seemed to make the model actually work worse.\n",
    "# Let's move to building a decision tree."
   ]
  },
  {
   "cell_type": "code",
   "execution_count": 69,
   "metadata": {},
   "outputs": [],
   "source": [
    "classifier = DecisionTreeClassifier(random_state=10)\n",
    "classifier.fit(X_train, y_train)\n",
    "\n",
    "DecisionTreeClassifier(ccp_alpha=0.0, class_weight=None, criterion='gini',\n",
    "                       max_depth=None, max_features=None, max_leaf_nodes=None,\n",
    "                       min_impurity_decrease=0.0, min_impurity_split=None,\n",
    "                       min_samples_leaf=1, min_samples_split=2,\n",
    "                       min_weight_fraction_leaf=0.0, \n",
    "                       random_state=10, splitter='best')\n",
    "\n",
    "y_pred = classifier.predict(X_test)"
   ]
  },
  {
   "cell_type": "code",
   "execution_count": 70,
   "metadata": {},
   "outputs": [
    {
     "name": "stdout",
     "output_type": "stream",
     "text": [
      "Accuracy is :91.04744091140962\n",
      "\n",
      "AUC is :0.51\n",
      "\n",
      "Confusion Matrix\n",
      "----------------\n"
     ]
    },
    {
     "data": {
      "text/html": [
       "<div>\n",
       "<style scoped>\n",
       "    .dataframe tbody tr th:only-of-type {\n",
       "        vertical-align: middle;\n",
       "    }\n",
       "\n",
       "    .dataframe tbody tr th {\n",
       "        vertical-align: top;\n",
       "    }\n",
       "\n",
       "    .dataframe thead th {\n",
       "        text-align: right;\n",
       "    }\n",
       "</style>\n",
       "<table border=\"1\" class=\"dataframe\">\n",
       "  <thead>\n",
       "    <tr style=\"text-align: right;\">\n",
       "      <th>Predicted</th>\n",
       "      <th>0</th>\n",
       "      <th>1</th>\n",
       "      <th>All</th>\n",
       "    </tr>\n",
       "    <tr>\n",
       "      <th>True</th>\n",
       "      <th></th>\n",
       "      <th></th>\n",
       "      <th></th>\n",
       "    </tr>\n",
       "  </thead>\n",
       "  <tbody>\n",
       "    <tr>\n",
       "      <th>0</th>\n",
       "      <td>10678</td>\n",
       "      <td>183</td>\n",
       "      <td>10861</td>\n",
       "    </tr>\n",
       "    <tr>\n",
       "      <th>1</th>\n",
       "      <td>870</td>\n",
       "      <td>31</td>\n",
       "      <td>901</td>\n",
       "    </tr>\n",
       "    <tr>\n",
       "      <th>All</th>\n",
       "      <td>11548</td>\n",
       "      <td>214</td>\n",
       "      <td>11762</td>\n",
       "    </tr>\n",
       "  </tbody>\n",
       "</table>\n",
       "</div>"
      ],
      "text/plain": [
       "Predicted      0    1    All\n",
       "True                        \n",
       "0          10678  183  10861\n",
       "1            870   31    901\n",
       "All        11548  214  11762"
      ]
     },
     "execution_count": 70,
     "metadata": {},
     "output_type": "execute_result"
    }
   ],
   "source": [
    "acc = accuracy_score(y_test,y_pred) * 100\n",
    "print('Accuracy is :{0}'.format(acc))\n",
    "\n",
    "false_positive_rate, true_positive_rate, thresholds = roc_curve(y_test, y_pred)\n",
    "roc_auc = auc(false_positive_rate, true_positive_rate)\n",
    "print('\\nAUC is :{0}'.format(round(roc_auc, 2)))\n",
    "\n",
    "\n",
    "print('\\nConfusion Matrix')\n",
    "print('----------------')\n",
    "pd.crosstab(y_test, y_pred, rownames=['True'], colnames=['Predicted'], margins=True)\n",
    "\n",
    "\n"
   ]
  },
  {
   "cell_type": "code",
   "execution_count": 71,
   "metadata": {},
   "outputs": [],
   "source": [
    "# The accuracy is 90%! Looking at the Confusion matrix, we're headed in \n",
    "# the right direction with the false negatives considering the original\n",
    "# had no positives, true or false. \n",
    "\n",
    "#The AUC however is not great and practiaclly worthless. \n",
    "\n",
    "# Now let's work on hyperparameter tuning in order to get that accuracy up."
   ]
  },
  {
   "cell_type": "code",
   "execution_count": 72,
   "metadata": {},
   "outputs": [],
   "source": [
    "SEED = 1\n",
    "X_train, X_test, y_train, y_test = train_test_split(one_hot_df, y, random_state=SEED)\n",
    "\n",
    "dt = DecisionTreeClassifier(criterion='entropy', random_state=SEED)\n",
    "dt.fit(X_train, y_train)\n",
    "\n",
    "y_pred = dt.predict(X_test)\n",
    "y_hat_train = dt.predict(X_train)\n",
    "y_hat_test = dt.predict(X_test)\n"
   ]
  },
  {
   "cell_type": "code",
   "execution_count": 73,
   "metadata": {},
   "outputs": [
    {
     "data": {
      "text/plain": [
       "0.5073463371933976"
      ]
     },
     "execution_count": 73,
     "metadata": {},
     "output_type": "execute_result"
    }
   ],
   "source": [
    "y_pred = dt.predict(X_test)\n",
    "\n",
    "# Check the AUC of predictions\n",
    "false_positive_rate, true_positive_rate, thresholds = roc_curve(y_test, y_pred)\n",
    "roc_auc = auc(false_positive_rate, true_positive_rate)\n",
    "roc_auc"
   ]
  },
  {
   "cell_type": "code",
   "execution_count": 74,
   "metadata": {},
   "outputs": [
    {
     "data": {
      "image/png": "[encoded data removed]",
      "text/plain": [
       "<Figure size 864x432 with 1 Axes>"
      ]
     },
     "metadata": {},
     "output_type": "display_data"
    }
   ],
   "source": [
    "max_depths = np.linspace(1, 32, 32, endpoint=True)\n",
    "train_results = []\n",
    "test_results = []\n",
    "for max_depth in max_depths:\n",
    "   dt = DecisionTreeClassifier(criterion='entropy', max_depth=max_depth, random_state=SEED)\n",
    "   dt.fit(X_train, y_train)\n",
    "   train_pred = dt.predict(X_train)\n",
    "   false_positive_rate, true_positive_rate, thresholds = roc_curve(y_train, train_pred)\n",
    "   roc_auc = auc(false_positive_rate, true_positive_rate)\n",
    "   # Add auc score to previous train results\n",
    "   train_results.append(roc_auc)\n",
    "   y_pred = dt.predict(X_test)\n",
    "   false_positive_rate, true_positive_rate, thresholds = roc_curve(y_test, y_pred)\n",
    "   roc_auc = auc(false_positive_rate, true_positive_rate)\n",
    "   # Add auc score to previous test results\n",
    "   test_results.append(roc_auc)\n",
    "\n",
    "plt.figure(figsize=(12,6))\n",
    "plt.plot(max_depths, train_results, 'b', label='Train AUC')\n",
    "plt.plot(max_depths, test_results, 'r', label='Test AUC')\n",
    "plt.ylabel('AUC score')\n",
    "plt.xlabel('Tree depth')\n",
    "plt.legend()\n",
    "plt.show()"
   ]
  },
  {
   "cell_type": "code",
   "execution_count": 75,
   "metadata": {},
   "outputs": [
    {
     "data": {
      "image/png": "[encoded data removed]",
      "text/plain": [
       "<Figure size 864x432 with 1 Axes>"
      ]
     },
     "metadata": {},
     "output_type": "display_data"
    }
   ],
   "source": [
    "min_samples_splits = np.linspace(0.1, 1.0, 10, endpoint=True)\n",
    "train_results = []\n",
    "test_results = []\n",
    "for min_samples_split in min_samples_splits:\n",
    "   dt = DecisionTreeClassifier(criterion='entropy', min_samples_split=min_samples_split, random_state=SEED)\n",
    "   dt.fit(X_train, y_train)\n",
    "   train_pred = dt.predict(X_train)\n",
    "   false_positive_rate, true_positive_rate, thresholds =    roc_curve(y_train, train_pred)\n",
    "   roc_auc = auc(false_positive_rate, true_positive_rate)\n",
    "   train_results.append(roc_auc)\n",
    "   y_pred = dt.predict(X_test)\n",
    "   false_positive_rate, true_positive_rate, thresholds = roc_curve(y_test, y_pred)\n",
    "   roc_auc = auc(false_positive_rate, true_positive_rate)\n",
    "   test_results.append(roc_auc)\n",
    "\n",
    "plt.figure(figsize=(12,6))\n",
    "plt.plot(min_samples_splits, train_results, 'b', label='Train AUC')\n",
    "plt.plot(min_samples_splits, test_results, 'r', label='Test AUC')\n",
    "plt.xlabel('Min. Sample splits')\n",
    "plt.legend()\n",
    "plt.show()"
   ]
  },
  {
   "cell_type": "code",
   "execution_count": 76,
   "metadata": {},
   "outputs": [
    {
     "data": {
      "image/png": "[encoded data removed]",
      "text/plain": [
       "<Figure size 864x432 with 1 Axes>"
      ]
     },
     "metadata": {},
     "output_type": "display_data"
    }
   ],
   "source": [
    "min_samples_leafs = np.linspace(0.1, 0.5, 5, endpoint=True)\n",
    "train_results = []\n",
    "test_results = []\n",
    "for min_samples_leaf in min_samples_leafs:\n",
    "   dt = DecisionTreeClassifier(criterion='entropy', min_samples_leaf=min_samples_leaf, random_state=SEED)\n",
    "   dt.fit(X_train, y_train)\n",
    "   train_pred = dt.predict(X_train)\n",
    "   false_positive_rate, true_positive_rate, thresholds = roc_curve(y_train, train_pred)\n",
    "   roc_auc = auc(false_positive_rate, true_positive_rate)\n",
    "   train_results.append(roc_auc)\n",
    "   y_pred = dt.predict(X_test)\n",
    "   false_positive_rate, true_positive_rate, thresholds = roc_curve(y_test, y_pred)\n",
    "   roc_auc = auc(false_positive_rate, true_positive_rate)\n",
    "   test_results.append(roc_auc)\n",
    "    \n",
    "plt.figure(figsize=(12,6))    \n",
    "plt.plot(min_samples_leafs, train_results, 'b', label='Train AUC')\n",
    "plt.plot(min_samples_leafs, test_results, 'r', label='Test AUC')\n",
    "plt.ylabel('AUC score')\n",
    "plt.xlabel('Min. Sample Leafs')\n",
    "plt.legend()\n",
    "plt.show()"
   ]
  },
  {
   "cell_type": "code",
   "execution_count": 77,
   "metadata": {},
   "outputs": [
    {
     "data": {
      "image/png": "[encoded data removed]",
      "text/plain": [
       "<Figure size 864x432 with 1 Axes>"
      ]
     },
     "metadata": {},
     "output_type": "display_data"
    }
   ],
   "source": [
    "max_features = list(range(1, X_train.shape[1]))\n",
    "train_results = []\n",
    "test_results = []\n",
    "for max_feature in max_features:\n",
    "   dt = DecisionTreeClassifier(criterion='entropy', max_features=max_feature, random_state=SEED)\n",
    "   dt.fit(X_train, y_train)\n",
    "   train_pred = dt.predict(X_train)\n",
    "   false_positive_rate, true_positive_rate, thresholds = roc_curve(y_train, train_pred)\n",
    "   roc_auc = auc(false_positive_rate, true_positive_rate)\n",
    "   train_results.append(roc_auc)\n",
    "   y_pred = dt.predict(X_test)\n",
    "   false_positive_rate, true_positive_rate, thresholds = roc_curve(y_test, y_pred)\n",
    "   roc_auc = auc(false_positive_rate, true_positive_rate)\n",
    "   test_results.append(roc_auc)\n",
    "\n",
    "plt.figure(figsize=(12,6))\n",
    "plt.plot(max_features, train_results, 'b', label='Train AUC')\n",
    "plt.plot(max_features, test_results, 'r', label='Test AUC')\n",
    "plt.ylabel('AUC score')\n",
    "plt.xlabel('max features')\n",
    "plt.legend()\n",
    "plt.show()"
   ]
  },
  {
   "cell_type": "code",
   "execution_count": 78,
   "metadata": {},
   "outputs": [
    {
     "data": {
      "text/plain": [
       "0.5"
      ]
     },
     "execution_count": 78,
     "metadata": {},
     "output_type": "execute_result"
    }
   ],
   "source": [
    "dt = DecisionTreeClassifier(criterion='entropy',\n",
    "                           max_features=7,\n",
    "                           max_depth=5,\n",
    "                           min_samples_split=0.7,\n",
    "                           min_samples_leaf=0.5, \n",
    "                           random_state=SEED)\n",
    "dt.fit(X_train, y_train)\n",
    "y_pred = dt.predict(X_test)\n",
    "false_positive_rate, true_positive_rate, thresholds = roc_curve(y_test, y_pred)\n",
    "roc_auc = auc(false_positive_rate, true_positive_rate)\n",
    "roc_auc"
   ]
  },
  {
   "cell_type": "code",
   "execution_count": 79,
   "metadata": {},
   "outputs": [
    {
     "name": "stdout",
     "output_type": "stream",
     "text": [
      "Training Precision:  0.9482758620689655\n",
      "Testing Precision:  0.1324200913242009\n",
      "\n",
      "\n",
      "\n",
      "Training Recall:  0.1771019677996422\n",
      "Testing Recall:  0.03218645948945616\n",
      "\n",
      "\n",
      "\n",
      "Training Accuracy:  0.9340475583142023\n",
      "Testing Accuracy:  0.9097092331236184\n",
      "\n",
      "\n",
      "\n",
      "Training F1-Score:  0.29846246608381066\n",
      "Testing F1-Score:  0.05178571428571429\n"
     ]
    }
   ],
   "source": [
    "print('Training Precision: ', precision_score(y_train, y_hat_train))\n",
    "print('Testing Precision: ', precision_score(y_test, y_hat_test))\n",
    "print('\\n\\n')\n",
    "\n",
    "print('Training Recall: ', recall_score(y_train, y_hat_train))\n",
    "print('Testing Recall: ', recall_score(y_test, y_hat_test))\n",
    "print('\\n\\n')\n",
    "\n",
    "print('Training Accuracy: ', accuracy_score(y_train, y_hat_train))\n",
    "print('Testing Accuracy: ', accuracy_score(y_test, y_hat_test))\n",
    "print('\\n\\n')\n",
    "\n",
    "print('Training F1-Score: ', f1_score(y_train, y_hat_train))\n",
    "print('Testing F1-Score: ', f1_score(y_test, y_hat_test))"
   ]
  },
  {
   "cell_type": "code",
   "execution_count": 80,
   "metadata": {},
   "outputs": [],
   "source": [
    "# All of this adjusting hasn't done much from the initial dataset. \n",
    "# Let's try Ridge and Lasso regression"
   ]
  },
  {
   "cell_type": "code",
   "execution_count": 81,
   "metadata": {},
   "outputs": [],
   "source": [
    "y = df['Arrest_Flag']\n",
    "X = df.drop(columns=['Arrest_Flag'], axis=1)\n",
    "\n",
    "# Split data into training and test sets\n",
    "X_train, X_test, y_train, y_test = train_test_split(X, y, random_state=10)\n",
    "\n",
    "# Remove \"object\"-type features from X\n",
    "cont_features = [col for col in X.columns if X[col].dtype in [np.float64, np.int64]]\n",
    "\n",
    "# Remove \"object\"-type features from X_train and X_test\n",
    "X_train_cont = X_train.loc[:, cont_features]\n",
    "X_test_cont = X_test.loc[:, cont_features]"
   ]
  },
  {
   "cell_type": "code",
   "execution_count": 82,
   "metadata": {},
   "outputs": [
    {
     "name": "stdout",
     "output_type": "stream",
     "text": [
      "Training r^2: 6.878717869951423e-05\n",
      "Test r^2: -0.00043245120062151976\n",
      "Training MSE: 0.07097520703220334\n",
      "Test MSE: 0.07662269272843077\n"
     ]
    }
   ],
   "source": [
    "# Impute missing values with median using SimpleImputer\n",
    "impute = SimpleImputer(strategy='median')\n",
    "X_train_imputed = impute.fit_transform(X_train_cont)\n",
    "X_test_imputed = impute.transform(X_test_cont)\n",
    "\n",
    "# Fit the model\n",
    "linreg = LinearRegression()\n",
    "linreg.fit(X_train_imputed, y_train)\n",
    "\n",
    "# Print R2 and MSE for training and test sets\n",
    "print('Training r^2:', linreg.score(X_train_imputed, y_train))\n",
    "print('Test r^2:', linreg.score(X_test_imputed, y_test))\n",
    "print('Training MSE:', mean_squared_error(y_train, linreg.predict(X_train_imputed)))\n",
    "print('Test MSE:', mean_squared_error(y_test, linreg.predict(X_test_imputed)))\n"
   ]
  },
  {
   "cell_type": "code",
   "execution_count": 83,
   "metadata": {},
   "outputs": [
    {
     "name": "stdout",
     "output_type": "stream",
     "text": [
      "Training r^2: 6.878717869951423e-05\n",
      "Test r^2: -0.00043245120062151976\n",
      "Training MSE: 0.07097520703220334\n",
      "Test MSE: 0.07662269272843077\n"
     ]
    }
   ],
   "source": [
    "ss = StandardScaler()\n",
    "X_train_imputed_scaled = ss.fit_transform(X_train_imputed)\n",
    "X_test_imputed_scaled = ss.transform(X_test_imputed)\n",
    "\n",
    "# Fit the model \n",
    "linreg_norm = LinearRegression()\n",
    "linreg_norm.fit(X_train_imputed_scaled, y_train)\n",
    "\n",
    "# Print R2 and MSE for training and test sets\n",
    "print('Training r^2:', linreg_norm.score(X_train_imputed_scaled, y_train))\n",
    "print('Test r^2:', linreg_norm.score(X_test_imputed_scaled, y_test))\n",
    "print('Training MSE:', mean_squared_error(y_train, linreg_norm.predict(X_train_imputed_scaled)))\n",
    "print('Test MSE:', mean_squared_error(y_test, linreg_norm.predict(X_test_imputed_scaled)))\n"
   ]
  },
  {
   "cell_type": "code",
   "execution_count": 84,
   "metadata": {},
   "outputs": [],
   "source": [
    "features_cat = [col for col in X.columns if X[col].dtype in [np.object]]\n",
    "X_train_cat = X_train.loc[:, features_cat]\n",
    "X_test_cat = X_test.loc[:, features_cat]\n",
    "\n",
    "# Fill missing values with the string 'missing'\n",
    "X_train_cat.fillna(value='missing', inplace=True)\n",
    "X_test_cat.fillna(value='missing', inplace=True)"
   ]
  },
  {
   "cell_type": "code",
   "execution_count": 85,
   "metadata": {},
   "outputs": [],
   "source": [
    "from sklearn.preprocessing import OneHotEncoder\n",
    "\n",
    "# OneHotEncode categorical variables\n",
    "ohe = OneHotEncoder(handle_unknown='ignore')\n",
    "\n",
    "# Transform training and test sets\n",
    "X_train_ohe = ohe.fit_transform(X_train_cat)\n",
    "X_test_ohe = ohe.transform(X_test_cat)\n",
    "\n",
    "# Convert these columns into a DataFrame \n",
    "columns = ohe.get_feature_names(input_features=X_train_cat.columns)\n",
    "cat_train_df = pd.DataFrame(X_train_ohe.todense(), columns=columns)\n",
    "cat_test_df = pd.DataFrame(X_test_ohe.todense(), columns=columns)"
   ]
  },
  {
   "cell_type": "code",
   "execution_count": 86,
   "metadata": {},
   "outputs": [],
   "source": [
    "X_train_all = pd.concat([pd.DataFrame(X_train_imputed_scaled), cat_train_df], axis=1)\n",
    "X_test_all = pd.concat([pd.DataFrame(X_test_imputed_scaled), cat_test_df], axis=1)"
   ]
  },
  {
   "cell_type": "code",
   "execution_count": 87,
   "metadata": {},
   "outputs": [
    {
     "name": "stdout",
     "output_type": "stream",
     "text": [
      "Training r^2: 0.018973335377559186\n",
      "Test r^2: 0.0137614217585168\n",
      "Training MSE: 0.06963336050810236\n",
      "Test MSE: 0.07553559008090145\n"
     ]
    }
   ],
   "source": [
    "linreg_all = LinearRegression()\n",
    "linreg_all.fit(X_train_all, y_train)\n",
    "\n",
    "print('Training r^2:', linreg_all.score(X_train_all, y_train))\n",
    "print('Test r^2:', linreg_all.score(X_test_all, y_test))\n",
    "print('Training MSE:', mean_squared_error(y_train, linreg_all.predict(X_train_all)))\n",
    "print('Test MSE:', mean_squared_error(y_test, linreg_all.predict(X_test_all)))"
   ]
  },
  {
   "cell_type": "code",
   "execution_count": 88,
   "metadata": {},
   "outputs": [
    {
     "name": "stdout",
     "output_type": "stream",
     "text": [
      "Training r^2: 0.0\n",
      "Test r^2: -0.0005829081013282167\n",
      "Training MSE: 0.07098008955230747\n",
      "Test MSE: 0.07663421615798155\n"
     ]
    }
   ],
   "source": [
    "lasso = Lasso(alpha=10) \n",
    "lasso.fit(X_train_all, y_train)\n",
    "\n",
    "print('Training r^2:', lasso.score(X_train_all, y_train))\n",
    "print('Test r^2:', lasso.score(X_test_all, y_test))\n",
    "print('Training MSE:', mean_squared_error(y_train, lasso.predict(X_train_all)))\n",
    "print('Test MSE:', mean_squared_error(y_test, lasso.predict(X_test_all)))"
   ]
  },
  {
   "cell_type": "code",
   "execution_count": 89,
   "metadata": {
    "scrolled": true
   },
   "outputs": [
    {
     "name": "stdout",
     "output_type": "stream",
     "text": [
      "Training r^2: 0.019066216122788582\n",
      "Test r^2: 0.014190131029495179\n",
      "Training MSE: 0.0696267678244883\n",
      "Test MSE: 0.0755027554215493\n"
     ]
    }
   ],
   "source": [
    "from sklearn.linear_model import Ridge\n",
    "\n",
    "ridge = Ridge()\n",
    "ridge.fit(X_train_all, y_train)\n",
    "\n",
    "print('Training r^2:', ridge.score(X_train_all, y_train))\n",
    "print('Test r^2:', ridge.score(X_test_all, y_test))\n",
    "print('Training MSE:', mean_squared_error(y_train, ridge.predict(X_train_all)))\n",
    "print('Test MSE:', mean_squared_error(y_test, ridge.predict(X_test_all)))"
   ]
  },
  {
   "cell_type": "code",
   "execution_count": 90,
   "metadata": {
    "scrolled": false
   },
   "outputs": [
    {
     "name": "stdout",
     "output_type": "stream",
     "text": [
      "Training r^2: 0.019030726340061643\n",
      "Test r^2: 0.0145054752459296\n",
      "Training MSE: 0.06962928689244445\n",
      "Test MSE: 0.07547860334314507\n"
     ]
    }
   ],
   "source": [
    "ridge = Ridge(alpha=10) \n",
    "ridge.fit(X_train_all, y_train)\n",
    "\n",
    "print('Training r^2:', ridge.score(X_train_all, y_train))\n",
    "print('Test r^2:', ridge.score(X_test_all, y_test))\n",
    "print('Training MSE:', mean_squared_error(y_train, ridge.predict(X_train_all)))\n",
    "print('Test MSE:', mean_squared_error(y_test, ridge.predict(X_test_all)))"
   ]
  },
  {
   "cell_type": "code",
   "execution_count": 91,
   "metadata": {},
   "outputs": [],
   "source": [
    "# After running Lasso and Ridge regression, it seems that Ridge with 10 \n",
    "# as the regularization parameter of 10 increased our mean square errors and\n",
    "# R^2, however  those numbers are barely above zero and don't amount to much."
   ]
  }
 ],
 "metadata": {
  "kernelspec": {
   "display_name": "Python 3",
   "language": "python",
   "name": "python3"
  },
  "language_info": {
   "codemirror_mode": {
    "name": "ipython",
    "version": 3
   },
   "file_extension": ".py",
   "mimetype": "text/x-python",
   "name": "python",
   "nbconvert_exporter": "python",
   "pygments_lexer": "ipython3",
   "version": "3.6.9"
  }
 },
 "nbformat": 4,
 "nbformat_minor": 4
}
